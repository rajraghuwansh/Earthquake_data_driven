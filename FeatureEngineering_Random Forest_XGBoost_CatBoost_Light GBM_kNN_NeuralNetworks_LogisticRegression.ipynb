{
 "cells": [
  {
   "cell_type": "code",
   "execution_count": 1,
   "id": "24d9d854",
   "metadata": {},
   "outputs": [],
   "source": [
    "# import statements\n",
    "import csv\n",
    "import pandas as pd\n",
    "import numpy as np\n",
    "\n",
    "# import packages for plotting\n",
    "from matplotlib import pyplot as plt\n",
    "import seaborn as sns\n",
    "\n",
    "# import packages for encoding\n",
    "from sklearn.preprocessing import StandardScaler\n",
    "\n",
    "# import packages for model evaluation\n",
    "from sklearn.model_selection import train_test_split\n",
    "from sklearn.model_selection import cross_val_score\n",
    "from sklearn.metrics import f1_score\n",
    "from sklearn.metrics import confusion_matrix\n",
    "from sklearn.metrics import classification_report\n",
    "\n",
    "# import packages for model building\n",
    "from sklearn.ensemble import RandomForestClassifier\n",
    "\n",
    "# import packages for hyperparameters tuning\n",
    "from hyperopt import STATUS_OK, Trials, fmin, hp, tpe"
   ]
  },
  {
   "cell_type": "code",
   "execution_count": 2,
   "id": "a7efcfed",
   "metadata": {},
   "outputs": [],
   "source": [
    "train = pd.read_csv('Data/train_values.csv')\n",
    "labels = pd.read_csv('Data/train_labels.csv')\n",
    "test = pd.read_csv('Data/test_values.csv')"
   ]
  },
  {
   "cell_type": "markdown",
   "id": "86809b3a",
   "metadata": {},
   "source": [
    "## Step 1 - Data Preprocessing\n",
    "\n",
    "The total training data set has 260,001 entries and no duplicates."
   ]
  },
  {
   "cell_type": "code",
   "execution_count": 3,
   "id": "8c3ee407",
   "metadata": {},
   "outputs": [],
   "source": [
    "train_lbl = pd.merge(train, labels, on='building_id', how='inner')"
   ]
  },
  {
   "cell_type": "code",
   "execution_count": 4,
   "id": "39a7b6e8",
   "metadata": {
    "scrolled": false
   },
   "outputs": [
    {
     "data": {
      "text/html": [
       "<div>\n",
       "<style scoped>\n",
       "    .dataframe tbody tr th:only-of-type {\n",
       "        vertical-align: middle;\n",
       "    }\n",
       "\n",
       "    .dataframe tbody tr th {\n",
       "        vertical-align: top;\n",
       "    }\n",
       "\n",
       "    .dataframe thead th {\n",
       "        text-align: right;\n",
       "    }\n",
       "</style>\n",
       "<table border=\"1\" class=\"dataframe\">\n",
       "  <thead>\n",
       "    <tr style=\"text-align: right;\">\n",
       "      <th></th>\n",
       "      <th>building_id</th>\n",
       "      <th>geo_level_1_id</th>\n",
       "      <th>geo_level_2_id</th>\n",
       "      <th>geo_level_3_id</th>\n",
       "      <th>count_floors_pre_eq</th>\n",
       "      <th>age</th>\n",
       "      <th>area_percentage</th>\n",
       "      <th>height_percentage</th>\n",
       "      <th>land_surface_condition</th>\n",
       "      <th>foundation_type</th>\n",
       "      <th>...</th>\n",
       "      <th>has_secondary_use_hotel</th>\n",
       "      <th>has_secondary_use_rental</th>\n",
       "      <th>has_secondary_use_institution</th>\n",
       "      <th>has_secondary_use_school</th>\n",
       "      <th>has_secondary_use_industry</th>\n",
       "      <th>has_secondary_use_health_post</th>\n",
       "      <th>has_secondary_use_gov_office</th>\n",
       "      <th>has_secondary_use_use_police</th>\n",
       "      <th>has_secondary_use_other</th>\n",
       "      <th>damage_grade</th>\n",
       "    </tr>\n",
       "  </thead>\n",
       "  <tbody>\n",
       "    <tr>\n",
       "      <th>0</th>\n",
       "      <td>802906</td>\n",
       "      <td>6</td>\n",
       "      <td>487</td>\n",
       "      <td>12198</td>\n",
       "      <td>2</td>\n",
       "      <td>30</td>\n",
       "      <td>6</td>\n",
       "      <td>5</td>\n",
       "      <td>t</td>\n",
       "      <td>r</td>\n",
       "      <td>...</td>\n",
       "      <td>0</td>\n",
       "      <td>0</td>\n",
       "      <td>0</td>\n",
       "      <td>0</td>\n",
       "      <td>0</td>\n",
       "      <td>0</td>\n",
       "      <td>0</td>\n",
       "      <td>0</td>\n",
       "      <td>0</td>\n",
       "      <td>3</td>\n",
       "    </tr>\n",
       "    <tr>\n",
       "      <th>1</th>\n",
       "      <td>28830</td>\n",
       "      <td>8</td>\n",
       "      <td>900</td>\n",
       "      <td>2812</td>\n",
       "      <td>2</td>\n",
       "      <td>10</td>\n",
       "      <td>8</td>\n",
       "      <td>7</td>\n",
       "      <td>o</td>\n",
       "      <td>r</td>\n",
       "      <td>...</td>\n",
       "      <td>0</td>\n",
       "      <td>0</td>\n",
       "      <td>0</td>\n",
       "      <td>0</td>\n",
       "      <td>0</td>\n",
       "      <td>0</td>\n",
       "      <td>0</td>\n",
       "      <td>0</td>\n",
       "      <td>0</td>\n",
       "      <td>2</td>\n",
       "    </tr>\n",
       "    <tr>\n",
       "      <th>2</th>\n",
       "      <td>94947</td>\n",
       "      <td>21</td>\n",
       "      <td>363</td>\n",
       "      <td>8973</td>\n",
       "      <td>2</td>\n",
       "      <td>10</td>\n",
       "      <td>5</td>\n",
       "      <td>5</td>\n",
       "      <td>t</td>\n",
       "      <td>r</td>\n",
       "      <td>...</td>\n",
       "      <td>0</td>\n",
       "      <td>0</td>\n",
       "      <td>0</td>\n",
       "      <td>0</td>\n",
       "      <td>0</td>\n",
       "      <td>0</td>\n",
       "      <td>0</td>\n",
       "      <td>0</td>\n",
       "      <td>0</td>\n",
       "      <td>3</td>\n",
       "    </tr>\n",
       "    <tr>\n",
       "      <th>3</th>\n",
       "      <td>590882</td>\n",
       "      <td>22</td>\n",
       "      <td>418</td>\n",
       "      <td>10694</td>\n",
       "      <td>2</td>\n",
       "      <td>10</td>\n",
       "      <td>6</td>\n",
       "      <td>5</td>\n",
       "      <td>t</td>\n",
       "      <td>r</td>\n",
       "      <td>...</td>\n",
       "      <td>0</td>\n",
       "      <td>0</td>\n",
       "      <td>0</td>\n",
       "      <td>0</td>\n",
       "      <td>0</td>\n",
       "      <td>0</td>\n",
       "      <td>0</td>\n",
       "      <td>0</td>\n",
       "      <td>0</td>\n",
       "      <td>2</td>\n",
       "    </tr>\n",
       "    <tr>\n",
       "      <th>4</th>\n",
       "      <td>201944</td>\n",
       "      <td>11</td>\n",
       "      <td>131</td>\n",
       "      <td>1488</td>\n",
       "      <td>3</td>\n",
       "      <td>30</td>\n",
       "      <td>8</td>\n",
       "      <td>9</td>\n",
       "      <td>t</td>\n",
       "      <td>r</td>\n",
       "      <td>...</td>\n",
       "      <td>0</td>\n",
       "      <td>0</td>\n",
       "      <td>0</td>\n",
       "      <td>0</td>\n",
       "      <td>0</td>\n",
       "      <td>0</td>\n",
       "      <td>0</td>\n",
       "      <td>0</td>\n",
       "      <td>0</td>\n",
       "      <td>3</td>\n",
       "    </tr>\n",
       "    <tr>\n",
       "      <th>...</th>\n",
       "      <td>...</td>\n",
       "      <td>...</td>\n",
       "      <td>...</td>\n",
       "      <td>...</td>\n",
       "      <td>...</td>\n",
       "      <td>...</td>\n",
       "      <td>...</td>\n",
       "      <td>...</td>\n",
       "      <td>...</td>\n",
       "      <td>...</td>\n",
       "      <td>...</td>\n",
       "      <td>...</td>\n",
       "      <td>...</td>\n",
       "      <td>...</td>\n",
       "      <td>...</td>\n",
       "      <td>...</td>\n",
       "      <td>...</td>\n",
       "      <td>...</td>\n",
       "      <td>...</td>\n",
       "      <td>...</td>\n",
       "      <td>...</td>\n",
       "    </tr>\n",
       "    <tr>\n",
       "      <th>260596</th>\n",
       "      <td>688636</td>\n",
       "      <td>25</td>\n",
       "      <td>1335</td>\n",
       "      <td>1621</td>\n",
       "      <td>1</td>\n",
       "      <td>55</td>\n",
       "      <td>6</td>\n",
       "      <td>3</td>\n",
       "      <td>n</td>\n",
       "      <td>r</td>\n",
       "      <td>...</td>\n",
       "      <td>0</td>\n",
       "      <td>0</td>\n",
       "      <td>0</td>\n",
       "      <td>0</td>\n",
       "      <td>0</td>\n",
       "      <td>0</td>\n",
       "      <td>0</td>\n",
       "      <td>0</td>\n",
       "      <td>0</td>\n",
       "      <td>2</td>\n",
       "    </tr>\n",
       "    <tr>\n",
       "      <th>260597</th>\n",
       "      <td>669485</td>\n",
       "      <td>17</td>\n",
       "      <td>715</td>\n",
       "      <td>2060</td>\n",
       "      <td>2</td>\n",
       "      <td>0</td>\n",
       "      <td>6</td>\n",
       "      <td>5</td>\n",
       "      <td>t</td>\n",
       "      <td>r</td>\n",
       "      <td>...</td>\n",
       "      <td>0</td>\n",
       "      <td>0</td>\n",
       "      <td>0</td>\n",
       "      <td>0</td>\n",
       "      <td>0</td>\n",
       "      <td>0</td>\n",
       "      <td>0</td>\n",
       "      <td>0</td>\n",
       "      <td>0</td>\n",
       "      <td>3</td>\n",
       "    </tr>\n",
       "    <tr>\n",
       "      <th>260598</th>\n",
       "      <td>602512</td>\n",
       "      <td>17</td>\n",
       "      <td>51</td>\n",
       "      <td>8163</td>\n",
       "      <td>3</td>\n",
       "      <td>55</td>\n",
       "      <td>6</td>\n",
       "      <td>7</td>\n",
       "      <td>t</td>\n",
       "      <td>r</td>\n",
       "      <td>...</td>\n",
       "      <td>0</td>\n",
       "      <td>0</td>\n",
       "      <td>0</td>\n",
       "      <td>0</td>\n",
       "      <td>0</td>\n",
       "      <td>0</td>\n",
       "      <td>0</td>\n",
       "      <td>0</td>\n",
       "      <td>0</td>\n",
       "      <td>3</td>\n",
       "    </tr>\n",
       "    <tr>\n",
       "      <th>260599</th>\n",
       "      <td>151409</td>\n",
       "      <td>26</td>\n",
       "      <td>39</td>\n",
       "      <td>1851</td>\n",
       "      <td>2</td>\n",
       "      <td>10</td>\n",
       "      <td>14</td>\n",
       "      <td>6</td>\n",
       "      <td>t</td>\n",
       "      <td>r</td>\n",
       "      <td>...</td>\n",
       "      <td>0</td>\n",
       "      <td>0</td>\n",
       "      <td>0</td>\n",
       "      <td>0</td>\n",
       "      <td>0</td>\n",
       "      <td>0</td>\n",
       "      <td>0</td>\n",
       "      <td>0</td>\n",
       "      <td>0</td>\n",
       "      <td>2</td>\n",
       "    </tr>\n",
       "    <tr>\n",
       "      <th>260600</th>\n",
       "      <td>747594</td>\n",
       "      <td>21</td>\n",
       "      <td>9</td>\n",
       "      <td>9101</td>\n",
       "      <td>3</td>\n",
       "      <td>10</td>\n",
       "      <td>7</td>\n",
       "      <td>6</td>\n",
       "      <td>n</td>\n",
       "      <td>r</td>\n",
       "      <td>...</td>\n",
       "      <td>0</td>\n",
       "      <td>0</td>\n",
       "      <td>0</td>\n",
       "      <td>0</td>\n",
       "      <td>0</td>\n",
       "      <td>0</td>\n",
       "      <td>0</td>\n",
       "      <td>0</td>\n",
       "      <td>0</td>\n",
       "      <td>3</td>\n",
       "    </tr>\n",
       "  </tbody>\n",
       "</table>\n",
       "<p>260601 rows × 40 columns</p>\n",
       "</div>"
      ],
      "text/plain": [
       "        building_id  geo_level_1_id  geo_level_2_id  geo_level_3_id  \\\n",
       "0            802906               6             487           12198   \n",
       "1             28830               8             900            2812   \n",
       "2             94947              21             363            8973   \n",
       "3            590882              22             418           10694   \n",
       "4            201944              11             131            1488   \n",
       "...             ...             ...             ...             ...   \n",
       "260596       688636              25            1335            1621   \n",
       "260597       669485              17             715            2060   \n",
       "260598       602512              17              51            8163   \n",
       "260599       151409              26              39            1851   \n",
       "260600       747594              21               9            9101   \n",
       "\n",
       "        count_floors_pre_eq  age  area_percentage  height_percentage  \\\n",
       "0                         2   30                6                  5   \n",
       "1                         2   10                8                  7   \n",
       "2                         2   10                5                  5   \n",
       "3                         2   10                6                  5   \n",
       "4                         3   30                8                  9   \n",
       "...                     ...  ...              ...                ...   \n",
       "260596                    1   55                6                  3   \n",
       "260597                    2    0                6                  5   \n",
       "260598                    3   55                6                  7   \n",
       "260599                    2   10               14                  6   \n",
       "260600                    3   10                7                  6   \n",
       "\n",
       "       land_surface_condition foundation_type  ... has_secondary_use_hotel  \\\n",
       "0                           t               r  ...                       0   \n",
       "1                           o               r  ...                       0   \n",
       "2                           t               r  ...                       0   \n",
       "3                           t               r  ...                       0   \n",
       "4                           t               r  ...                       0   \n",
       "...                       ...             ...  ...                     ...   \n",
       "260596                      n               r  ...                       0   \n",
       "260597                      t               r  ...                       0   \n",
       "260598                      t               r  ...                       0   \n",
       "260599                      t               r  ...                       0   \n",
       "260600                      n               r  ...                       0   \n",
       "\n",
       "       has_secondary_use_rental has_secondary_use_institution  \\\n",
       "0                             0                             0   \n",
       "1                             0                             0   \n",
       "2                             0                             0   \n",
       "3                             0                             0   \n",
       "4                             0                             0   \n",
       "...                         ...                           ...   \n",
       "260596                        0                             0   \n",
       "260597                        0                             0   \n",
       "260598                        0                             0   \n",
       "260599                        0                             0   \n",
       "260600                        0                             0   \n",
       "\n",
       "       has_secondary_use_school has_secondary_use_industry  \\\n",
       "0                             0                          0   \n",
       "1                             0                          0   \n",
       "2                             0                          0   \n",
       "3                             0                          0   \n",
       "4                             0                          0   \n",
       "...                         ...                        ...   \n",
       "260596                        0                          0   \n",
       "260597                        0                          0   \n",
       "260598                        0                          0   \n",
       "260599                        0                          0   \n",
       "260600                        0                          0   \n",
       "\n",
       "        has_secondary_use_health_post  has_secondary_use_gov_office  \\\n",
       "0                                   0                             0   \n",
       "1                                   0                             0   \n",
       "2                                   0                             0   \n",
       "3                                   0                             0   \n",
       "4                                   0                             0   \n",
       "...                               ...                           ...   \n",
       "260596                              0                             0   \n",
       "260597                              0                             0   \n",
       "260598                              0                             0   \n",
       "260599                              0                             0   \n",
       "260600                              0                             0   \n",
       "\n",
       "        has_secondary_use_use_police  has_secondary_use_other  damage_grade  \n",
       "0                                  0                        0             3  \n",
       "1                                  0                        0             2  \n",
       "2                                  0                        0             3  \n",
       "3                                  0                        0             2  \n",
       "4                                  0                        0             3  \n",
       "...                              ...                      ...           ...  \n",
       "260596                             0                        0             2  \n",
       "260597                             0                        0             3  \n",
       "260598                             0                        0             3  \n",
       "260599                             0                        0             2  \n",
       "260600                             0                        0             3  \n",
       "\n",
       "[260601 rows x 40 columns]"
      ]
     },
     "execution_count": 4,
     "metadata": {},
     "output_type": "execute_result"
    }
   ],
   "source": [
    "train_lbl"
   ]
  },
  {
   "cell_type": "markdown",
   "id": "7eaa5260",
   "metadata": {},
   "source": [
    "Next up, we will check if there are any missing values."
   ]
  },
  {
   "cell_type": "code",
   "execution_count": 5,
   "id": "1a046db6",
   "metadata": {
    "scrolled": true
   },
   "outputs": [
    {
     "data": {
      "text/plain": [
       "building_id                               0\n",
       "geo_level_1_id                            0\n",
       "geo_level_2_id                            0\n",
       "geo_level_3_id                            0\n",
       "count_floors_pre_eq                       0\n",
       "age                                       0\n",
       "area_percentage                           0\n",
       "height_percentage                         0\n",
       "land_surface_condition                    0\n",
       "foundation_type                           0\n",
       "roof_type                                 0\n",
       "ground_floor_type                         0\n",
       "other_floor_type                          0\n",
       "position                                  0\n",
       "plan_configuration                        0\n",
       "has_superstructure_adobe_mud              0\n",
       "has_superstructure_mud_mortar_stone       0\n",
       "has_superstructure_stone_flag             0\n",
       "has_superstructure_cement_mortar_stone    0\n",
       "has_superstructure_mud_mortar_brick       0\n",
       "has_superstructure_cement_mortar_brick    0\n",
       "has_superstructure_timber                 0\n",
       "has_superstructure_bamboo                 0\n",
       "has_superstructure_rc_non_engineered      0\n",
       "has_superstructure_rc_engineered          0\n",
       "has_superstructure_other                  0\n",
       "legal_ownership_status                    0\n",
       "count_families                            0\n",
       "has_secondary_use                         0\n",
       "has_secondary_use_agriculture             0\n",
       "has_secondary_use_hotel                   0\n",
       "has_secondary_use_rental                  0\n",
       "has_secondary_use_institution             0\n",
       "has_secondary_use_school                  0\n",
       "has_secondary_use_industry                0\n",
       "has_secondary_use_health_post             0\n",
       "has_secondary_use_gov_office              0\n",
       "has_secondary_use_use_police              0\n",
       "has_secondary_use_other                   0\n",
       "damage_grade                              0\n",
       "dtype: int64"
      ]
     },
     "execution_count": 5,
     "metadata": {},
     "output_type": "execute_result"
    }
   ],
   "source": [
    "train_lbl.isna().sum()"
   ]
  },
  {
   "cell_type": "markdown",
   "id": "4072fa46",
   "metadata": {},
   "source": [
    "There are no missing values! "
   ]
  },
  {
   "cell_type": "markdown",
   "id": "ede38360",
   "metadata": {},
   "source": [
    "### Baseline model score\n",
    "\n",
    "Our baseline model will be a random forest classifier."
   ]
  },
  {
   "cell_type": "code",
   "execution_count": 6,
   "id": "8f99e70f",
   "metadata": {},
   "outputs": [],
   "source": [
    "def baseline_score(dataframe):\n",
    "    dummy_train = pd.get_dummies(dataframe)\n",
    "    \n",
    "    X_train = dummy_train\n",
    "    X_train.drop(columns = ['damage_grade', 'building_id'], inplace = True)\n",
    "    y_train = dataframe.iloc[:, -1]\n",
    "    \n",
    "    X_train1, X_val, y_train1, y_val = train_test_split(X_train, y_train, test_size = 0.3)\n",
    "    \n",
    "    baseline_model = RandomForestClassifier(n_jobs=-1,random_state=1)\n",
    "    baseline_model.fit(X_train1, y_train1)\n",
    "    y_pred = baseline_model.predict(X_val)\n",
    "    score = f1_score(y_val, y_pred, average='micro')\n",
    "    \n",
    "    return baseline_model, y_val, y_pred, score"
   ]
  },
  {
   "cell_type": "code",
   "execution_count": 7,
   "id": "a593e417",
   "metadata": {},
   "outputs": [
    {
     "name": "stdout",
     "output_type": "stream",
     "text": [
      "0.7102492933065578\n"
     ]
    }
   ],
   "source": [
    "baseline_model, y_val, y_pred, score = baseline_score(train_lbl)\n",
    "\n",
    "print(score)"
   ]
  },
  {
   "cell_type": "markdown",
   "id": "3855907f",
   "metadata": {},
   "source": [
    "Our baseline score is about 0.710"
   ]
  },
  {
   "cell_type": "markdown",
   "id": "3931d72c",
   "metadata": {},
   "source": [
    "## Step 2 - Data Cleaning & Analysis\n",
    "\n",
    "### 1. Classify all features\n",
    "\n",
    "A a next step, we will differentiate between three types of data categories:\n",
    "1. numerical features (analyse skewness)\n",
    "2. binary features (analyse sparsity)\n",
    "3. categorical features (analyse cardinality and decide on encoding method)"
   ]
  },
  {
   "cell_type": "code",
   "execution_count": 8,
   "id": "87de3702",
   "metadata": {},
   "outputs": [],
   "source": [
    "num_fts = ['count_floors_pre_eq', 'age', 'area_percentage', 'height_percentage', 'count_families']\n",
    "\n",
    "binary_fts = ['has_superstructure_adobe_mud', 'has_superstructure_mud_mortar_stone',\n",
    "              'has_superstructure_stone_flag', 'has_superstructure_cement_mortar_stone',\n",
    "              'has_superstructure_mud_mortar_brick', 'has_superstructure_cement_mortar_brick',\n",
    "              'has_superstructure_timber', 'has_superstructure_bamboo',\n",
    "              'has_superstructure_rc_non_engineered', 'has_superstructure_rc_engineered',\n",
    "              'has_superstructure_other',\n",
    "              'has_secondary_use', 'has_secondary_use_agriculture', 'has_secondary_use_hotel',\n",
    "              'has_secondary_use_rental', 'has_secondary_use_institution', 'has_secondary_use_school',\n",
    "              'has_secondary_use_industry', 'has_secondary_use_health_post', 'has_secondary_use_gov_office',\n",
    "              'has_secondary_use_use_police', 'has_secondary_use_other']\n",
    "\n",
    "geo_fts = ['geo_level_1_id', 'geo_level_2_id', 'geo_level_3_id']\n",
    "\n",
    "cat_fts = ['land_surface_condition', 'foundation_type', 'roof_type',\n",
    "           'ground_floor_type', 'other_floor_type', 'position', 'plan_configuration',\n",
    "           'legal_ownership_status']\n",
    "\n",
    "fts_dict = {'num_fts': num_fts, 'binary_fts': binary_fts, 'geo_fts': geo_fts, 'cat_fts': cat_fts}"
   ]
  },
  {
   "cell_type": "markdown",
   "id": "b5e69b3c",
   "metadata": {},
   "source": [
    "We chose to view the geographical data (geo_level_1_id, geo_level_2_id, geo_level_3_id) as categorical data even though it is currently formatted in integers. Reasoning: the geographical data denotes the \"geographic region in which building exists, from largest (level 1) to most specific sub-region (level 3). However, level 1 goes from 0 to 30 and maybe (we don't know) subregion 1 is actually next to subregion 22. As the earthquake obviously hit some regions harder than it did others, maybe subregions 1 and 22 were then very hard hit, but not the ones in between. So there is no ordinality. The following analysis shows that there is not much sense behind these values in terms of their ordinality."
   ]
  },
  {
   "cell_type": "code",
   "execution_count": 9,
   "id": "5bd8ec9c",
   "metadata": {
    "scrolled": false
   },
   "outputs": [
    {
     "data": {
      "text/plain": [
       "<AxesSubplot:ylabel='geo_level_1_id'>"
      ]
     },
     "execution_count": 9,
     "metadata": {},
     "output_type": "execute_result"
    },
    {
     "data": {
      "image/png": "[encoded data removed]",
      "text/plain": [
       "<Figure size 432x576 with 1 Axes>"
      ]
     },
     "metadata": {
      "needs_background": "light"
     },
     "output_type": "display_data"
    }
   ],
   "source": [
    "# plot mean of geo_level_1_id\n",
    "\n",
    "gl1_df = train_lbl.groupby('damage_grade')['geo_level_1_id'].value_counts().unstack().transpose()\n",
    "gl1_df['count'] = gl1_df.sum(axis=1)\n",
    "gl1_df[2] = gl1_df[2] * 2\n",
    "gl1_df[3] = gl1_df[3] * 3\n",
    "\n",
    "gl1_df['mean'] = gl1_df.loc[:, [1, 2, 3]].sum(axis=1) / gl1_df['count']\n",
    "\n",
    "gl1_df.plot(y = 'mean', kind = 'barh', figsize = [6, 8])"
   ]
  },
  {
   "cell_type": "markdown",
   "id": "92defb18",
   "metadata": {},
   "source": [
    "#### Numerical features\n",
    "\n",
    "Firstly, we will have a look at their skewness and take action, if necessary. If our data is skewed, this may negatively impact the performance of our models as this tells us that the corresponding distributions are not symmetric."
   ]
  },
  {
   "cell_type": "code",
   "execution_count": 10,
   "id": "edde94a0",
   "metadata": {},
   "outputs": [
    {
     "data": {
      "image/png": "[encoded data removed]",
      "text/plain": [
       "<Figure size 4320x720 with 5 Axes>"
      ]
     },
     "metadata": {
      "needs_background": "light"
     },
     "output_type": "display_data"
    }
   ],
   "source": [
    "num_fts = fts_dict['num_fts']\n",
    "num_fts_df = train_lbl.loc[:, num_fts]\n",
    "\n",
    "fig, axs = plt.subplots(1, 5, figsize = (60, 10))\n",
    "for i, ax in enumerate(axs.flat):\n",
    "    sns.kdeplot(num_fts_df.iloc[:, i], bw_method = 1.5, ax = ax, cut = 0, shade = True)\n",
    "    ax.tick_params(axis = 'both', which = 'major', labelsize = 30)\n",
    "    ax.set_xlabel(num_fts[i], fontsize = 30)\n",
    "    ax.set(ylabel = None)"
   ]
  },
  {
   "cell_type": "markdown",
   "id": "3ec7f47c",
   "metadata": {},
   "source": [
    "From the plots above, we can see that our data is extremely skewed and needs proper handling. We will do this by applying the natural logarithm to these variables. Before doing so, we must handle the 0 value (ln 0 not defined). As, very conveniently in this case, all distributions start at 0, we can simply add 1 to all numerical features before taking the natural logarithm."
   ]
  },
  {
   "cell_type": "code",
   "execution_count": 11,
   "id": "7da7643e",
   "metadata": {},
   "outputs": [
    {
     "data": {
      "image/png": "[encoded data removed]",
      "text/plain": [
       "<Figure size 4320x720 with 5 Axes>"
      ]
     },
     "metadata": {
      "needs_background": "light"
     },
     "output_type": "display_data"
    }
   ],
   "source": [
    "log_names = ['log_{}'.format(x) for x in num_fts]\n",
    "fts_dict['log_num_fts'] = log_names\n",
    "\n",
    "log_train_lbl = train_lbl.loc[:, num_fts].apply(lambda x: np.log(x + 1))\n",
    "log_train_lbl.columns = log_names\n",
    "scaler = StandardScaler().fit(log_train_lbl)\n",
    "stand_log_train = scaler.transform(log_train_lbl) # standardize log-features (remove mean, scale to unit variance)\n",
    "stand_log_train_df = pd.DataFrame(stand_log_train, columns = log_names)\n",
    "\n",
    "# apply same transformations to test data\n",
    "log_test = test.loc[:, num_fts].apply(lambda x: np.log(x + 1))\n",
    "log_test.columns = log_names\n",
    "stand_log_test = scaler.transform(log_test)\n",
    "stand_log_test_df = pd.DataFrame(stand_log_test, columns = log_names)\n",
    "\n",
    "fig, axs = plt.subplots(1, 5, figsize = (60, 10))\n",
    "for i, ax in enumerate(axs.flat):\n",
    "    sns.kdeplot(stand_log_train_df.iloc[:, i], bw_method = 1.5, ax = ax, shade = True)\n",
    "    ax.tick_params(axis = 'both', which = 'major', labelsize = 30)\n",
    "    ax.set_xlabel('log_' + num_fts[i], fontsize = 30)\n",
    "    ax.set(ylabel = None)"
   ]
  },
  {
   "cell_type": "code",
   "execution_count": 12,
   "id": "99e7e514",
   "metadata": {},
   "outputs": [],
   "source": [
    "for log_col in stand_log_train_df:\n",
    "    train_lbl.loc[:, log_col] = stand_log_train_df.loc[:, log_col]\n",
    "\n",
    "for log_col in stand_log_test_df:\n",
    "    test.loc[:, log_col] = stand_log_test_df.loc[:, log_col]"
   ]
  },
  {
   "cell_type": "markdown",
   "id": "2136ec71",
   "metadata": {},
   "source": [
    "Other normalization approach: boxcox transformation instead of logarithm + StandardScaler"
   ]
  },
  {
   "cell_type": "code",
   "execution_count": 13,
   "id": "98cbb574",
   "metadata": {},
   "outputs": [
    {
     "data": {
      "image/png": "[encoded data removed]",
      "text/plain": [
       "<Figure size 4320x720 with 5 Axes>"
      ]
     },
     "metadata": {
      "needs_background": "light"
     },
     "output_type": "display_data"
    }
   ],
   "source": [
    "from scipy import stats\n",
    "\n",
    "boxcox_names = ['boxcox_{}'.format(x) for x in num_fts]\n",
    "fts_dict['boxcox_num_fts'] = boxcox_names\n",
    "\n",
    "boxcox_train_lbl = pd.DataFrame()\n",
    "boxcox_test = pd.DataFrame()\n",
    "\n",
    "for i, ft in enumerate(boxcox_names):\n",
    "    boxcox_train_lbl[ft], lmbda = stats.boxcox(train_lbl[num_fts[i]].apply(lambda x: x + 1))\n",
    "    boxcox_test[ft] = stats.boxcox(test[num_fts[i]].apply(lambda x: x + 1), lmbda = lmbda) # do same transformation to test data with found lmbda\n",
    "\n",
    "fig, axs = plt.subplots(1, 5, figsize = (60, 10))\n",
    "for i, ax in enumerate(axs.flat):\n",
    "    sns.kdeplot(boxcox_train_lbl.iloc[:, i], bw_method = 1.5, ax = ax, shade = True)\n",
    "    ax.tick_params(axis = 'both', which = 'major', labelsize = 30)\n",
    "    ax.set_xlabel('boxcox_' + num_fts[i], fontsize = 30)\n",
    "    ax.set(ylabel = None)"
   ]
  },
  {
   "cell_type": "code",
   "execution_count": 14,
   "id": "0b03ec12",
   "metadata": {},
   "outputs": [],
   "source": [
    "for boxcox_col in boxcox_train_lbl:\n",
    "    train_lbl.loc[:, boxcox_col] = boxcox_train_lbl.loc[:, boxcox_col]\n",
    "train_lbl.drop(columns = num_fts, inplace = True)\n",
    "\n",
    "for boxcox_col in boxcox_test:\n",
    "    test.loc[:, boxcox_col] = boxcox_test.loc[:, boxcox_col]\n",
    "test.drop(columns = num_fts, inplace = True)"
   ]
  },
  {
   "cell_type": "code",
   "execution_count": 15,
   "id": "de3e2178",
   "metadata": {},
   "outputs": [],
   "source": [
    "column_to_reorder = train_lbl.pop('damage_grade')\n",
    "train_lbl.insert(len(train_lbl.columns), 'damage_grade', column_to_reorder)"
   ]
  },
  {
   "cell_type": "code",
   "execution_count": 16,
   "id": "b2959c5f",
   "metadata": {},
   "outputs": [
    {
     "name": "stdout",
     "output_type": "stream",
     "text": [
      "log_num_fts score: 0.7120783822156278\n",
      "boxcox_num_fts score: 0.7110423248615393\n"
     ]
    }
   ],
   "source": [
    "log_cols = ['building_id'] + fts_dict['log_num_fts'] + fts_dict['binary_fts'] + fts_dict['cat_fts'] + fts_dict['geo_fts'] + ['damage_grade']\n",
    "boxcox_cols = ['building_id'] + fts_dict['boxcox_num_fts'] + fts_dict['binary_fts'] + fts_dict['cat_fts'] + fts_dict['geo_fts'] + ['damage_grade']\n",
    "\n",
    "log_train_lbl = train_lbl[log_cols]\n",
    "boxcox_train_lbl = train_lbl[boxcox_cols]\n",
    "\n",
    "baseline_model, y_val, y_pred, score = baseline_score(log_train_lbl)\n",
    "print('log_num_fts score:', score)\n",
    "\n",
    "baseline_model, y_val, y_pred, score = baseline_score(boxcox_train_lbl)\n",
    "print('boxcox_num_fts score:', score)"
   ]
  },
  {
   "cell_type": "markdown",
   "id": "86b9aad7",
   "metadata": {},
   "source": [
    "#### Binary features\n",
    "\n",
    "To understand the possible added value from the binary features, we will look at their sparsity (simply calculate the mean of the column and see what the average value is --> if it is very close to 0, then the column is sparse and is very likely to provide only few insights)."
   ]
  },
  {
   "cell_type": "code",
   "execution_count": 17,
   "id": "c5943fd4",
   "metadata": {
    "scrolled": false
   },
   "outputs": [
    {
     "data": {
      "image/png": "[encoded data removed]",
      "text/plain": [
       "<Figure size 360x720 with 1 Axes>"
      ]
     },
     "metadata": {
      "needs_background": "light"
     },
     "output_type": "display_data"
    }
   ],
   "source": [
    "binary_fts = fts_dict['binary_fts']\n",
    "\n",
    "mean_binary_fts_df = pd.DataFrame(train_lbl.loc[:, binary_fts].mean())\n",
    "mean_binary_fts_df.loc[:, 'type'] = mean_binary_fts_df.index\n",
    "\n",
    "fig, ax = plt.subplots(1, 1, figsize = (5, 10))\n",
    "ax = sns.barplot(x = 0, y = 'type', data = mean_binary_fts_df, orient = 'h')\n",
    "ax.set(ylabel = None)\n",
    "ax.tick_params(axis = 'both', which = 'major', labelsize = 10);"
   ]
  },
  {
   "cell_type": "markdown",
   "id": "cb4096f0",
   "metadata": {},
   "source": [
    "Most binary features are very sparse and not likely to provide insights for our models.\n",
    "\n",
    "#### Categorical features\n",
    "\n",
    "Regarding the categorical features, we will start with the geographical data. Intuitively, the geographical data should be the most important set of features as nothing should impact the destruction level of a house as much as the location where it was located (if the earthquake is in Nepal and you are in Paris, you should not really notice anything).\n",
    "\n",
    "As the geographical data has no ordinality (see analysis under Step 2.1), we have to find a meaningful way to encode the provided three geographical levels. Our best idea so far was to apply *Target Encoding* as we deal with three columns of increasing cardinality (first level has 31 unique values, second level 1428 and third level 12568). To get a better grasp of how much the earthquake impacted this region, we will consequently calculate the mean and standard deviation for each of the regions. \n",
    "\n",
    "However, due to the increasing cardinality of the features, we might run into problems. Maybe a specific level 3 id has only one entry. Calculating this entries mean and standard deviation might not be representative of the population in this subregion and could introduce high bias and high variance. \n",
    "\n",
    "While searching online, we found a potential method to deal with this problem: *Empirical Bayes Target Encoding*, which is described in detail in the paper \"A Preprocessing Scheme for High-Cardinality Categorical Attributes in Classification and Prediction Problems\" by Daniele Micci-Barreca (weblink: https://dl.acm.org/doi/10.1145/507533.507538). A good understanding of the paper can be deduced from this web article (written by the same author): https://towardsdatascience.com/extending-target-encoding-443aa9414cae"
   ]
  },
  {
   "cell_type": "code",
   "execution_count": 18,
   "id": "2ade7b97",
   "metadata": {},
   "outputs": [],
   "source": [
    "geo_fts = fts_dict['geo_fts']\n",
    "\n",
    "geo_count = []\n",
    "geo_mean = []\n",
    "geo_std = []\n",
    "geo_var = []\n",
    "\n",
    "for ft in geo_fts:\n",
    "    ft_count = train_lbl.groupby([ft])['damage_grade'].count().fillna(0)\n",
    "    ft_mean = train_lbl.groupby([ft])['damage_grade'].mean().fillna(0)\n",
    "    ft_std = train_lbl.groupby([ft])['damage_grade'].std().fillna(0)\n",
    "    ft_var = train_lbl.groupby([ft])['damage_grade'].var().fillna(0)\n",
    "    geo_count.append(ft_count)\n",
    "    geo_mean.append(ft_mean)\n",
    "    geo_std.append(ft_std)\n",
    "    geo_var.append(ft_var)\n",
    "    train_lbl[ft+'_count'] = train_lbl[ft].map(ft_count).astype(float)\n",
    "    train_lbl[ft+'_simplemean'] = train_lbl[ft].map(ft_mean).astype(float)\n",
    "    train_lbl[ft+'_simplestd'] = train_lbl[ft].map(ft_std).astype(float)\n",
    "    train_lbl[ft+'_simplevar'] = train_lbl[ft].map(ft_var).astype(float)\n",
    "    test[ft+'_count'] = test[ft].map(ft_count).astype(float).fillna(0)\n",
    "    test[ft+'_simplemean'] = test[ft].map(ft_mean).astype(float).fillna(0)\n",
    "    test[ft+'_simplestd'] = test[ft].map(ft_std).astype(float).fillna(0)\n",
    "    test[ft+'_simplevar'] = test[ft].map(ft_var).astype(float).fillna(0)"
   ]
  },
  {
   "cell_type": "code",
   "execution_count": 19,
   "id": "40608704",
   "metadata": {},
   "outputs": [],
   "source": [
    "# blend the levels together\n",
    "# start with level 2, which is a blend of level 2 and 1\n",
    "# then level 3, which is a blend of level 3, 2 and 1\n",
    "\n",
    "m1 = train_lbl['geo_level_2_id_simplevar'] / train_lbl['geo_level_1_id_simplevar']\n",
    "m1 = m1.fillna(train_lbl['geo_level_2_id_count']) # if the level_1_id has 0 variance, we make the blending_factor = 0.5\n",
    "blending_factor1 = train_lbl['geo_level_2_id_count'] / (m1 + train_lbl['geo_level_2_id_count'])\n",
    "train_lbl['geo_level_2_id_bayesmean'] = blending_factor1 * train_lbl['geo_level_2_id_simplemean'] + (1 - blending_factor1) * train_lbl['geo_level_1_id_simplemean']\n",
    "train_lbl['geo_level_2_id_bayesstd'] = blending_factor1 * train_lbl['geo_level_2_id_simplestd'] + (1 - blending_factor1) * train_lbl['geo_level_1_id_simplestd']\n",
    "\n",
    "m2 = train_lbl['geo_level_3_id_simplevar'] / train_lbl['geo_level_2_id_simplevar']\n",
    "m2 = m2.fillna(train_lbl['geo_level_3_id_count']) # if the level_2_id has 0 variance, we make the blending_factor = 0.5\n",
    "blending_factor2 = train_lbl['geo_level_3_id_count'] / (m2 + train_lbl['geo_level_3_id_count'])\n",
    "train_lbl['geo_level_3_id_bayesmean'] = blending_factor2 * train_lbl['geo_level_3_id_simplemean'] + (1 - blending_factor2) * train_lbl['geo_level_2_id_bayesmean']\n",
    "train_lbl['geo_level_3_id_bayesstd'] = blending_factor2 * train_lbl['geo_level_3_id_simplestd'] + (1 - blending_factor2) * train_lbl['geo_level_2_id_bayesstd']\n",
    "\n",
    "fts_dict['new_geo_fts'] = ['geo_level_1_id_count', 'geo_level_1_id_simplemean', 'geo_level_1_id_simplestd',\n",
    "                           'geo_level_2_id_count', 'geo_level_2_id_bayesmean', 'geo_level_2_id_bayesstd',\n",
    "                           'geo_level_3_id_count', 'geo_level_3_id_bayesmean', 'geo_level_3_id_bayesstd']"
   ]
  },
  {
   "cell_type": "code",
   "execution_count": 20,
   "id": "755e39a7",
   "metadata": {},
   "outputs": [],
   "source": [
    "# same manipulations to test data\n",
    "\n",
    "m1 = test['geo_level_2_id_simplevar'] / test['geo_level_1_id_simplevar']\n",
    "m1 = m1.fillna(test['geo_level_2_id_count']) # if the level_1_id has 0 variance, we make the blending_factor = 0.5\n",
    "m1.replace(0.0, 1.0, inplace = True) # if 'geo_level_3_id_count' is also 0 (unseen id), then put 1 so we do not divide by 0\n",
    "blending_factor1 = test['geo_level_2_id_count'] / (m1 + test['geo_level_2_id_count'])\n",
    "test['geo_level_2_id_bayesmean'] = blending_factor1 * test['geo_level_2_id_simplemean'] + (1 - blending_factor1) * test['geo_level_1_id_simplemean']\n",
    "test['geo_level_2_id_bayesstd'] = blending_factor1 * test['geo_level_2_id_simplestd'] + (1 - blending_factor1) * test['geo_level_1_id_simplestd']\n",
    "\n",
    "m2 = test['geo_level_3_id_simplevar'] / test['geo_level_2_id_simplevar']\n",
    "m2 = m2.fillna(test['geo_level_3_id_count']) # if the level_2_id has 0 variance, we make the blending_factor = 0.5\n",
    "m2.replace(0.0, 1.0, inplace = True) # if 'geo_level_3_id_count' is also 0, then put 1 so we do not divide by 0\n",
    "blending_factor2 = test['geo_level_3_id_count'] / (m2 + test['geo_level_3_id_count'])\n",
    "test['geo_level_3_id_bayesmean'] = blending_factor2 * test['geo_level_3_id_simplemean'] + (1 - blending_factor2) * test['geo_level_2_id_bayesmean']\n",
    "test['geo_level_3_id_bayesstd'] = blending_factor2 * test['geo_level_3_id_simplestd'] + (1 - blending_factor2) * test['geo_level_2_id_bayesstd']"
   ]
  },
  {
   "cell_type": "code",
   "execution_count": 21,
   "id": "673f222a",
   "metadata": {},
   "outputs": [],
   "source": [
    "column_to_reorder = train_lbl.pop('damage_grade')\n",
    "train_lbl.insert(len(train_lbl.columns), 'damage_grade', column_to_reorder)"
   ]
  },
  {
   "cell_type": "code",
   "execution_count": 22,
   "id": "a4b8325b",
   "metadata": {},
   "outputs": [],
   "source": [
    "# Restructure the dataframes, CHOOSE WHETHER TO USE log_num_fts or boxcox_num fts --> both result in same score...\n",
    "new_cols = ['building_id'] + fts_dict['boxcox_num_fts'] + fts_dict['binary_fts'] + fts_dict['cat_fts'] + fts_dict['new_geo_fts'] + ['damage_grade']\n",
    "\n",
    "train_lbl = train_lbl[new_cols]\n",
    "test = test[new_cols[:-1]] # same as train but without damage grade"
   ]
  },
  {
   "cell_type": "code",
   "execution_count": 23,
   "id": "cd280fa8",
   "metadata": {
    "scrolled": true
   },
   "outputs": [
    {
     "name": "stdout",
     "output_type": "stream",
     "text": [
      "0.7415740397283227\n"
     ]
    }
   ],
   "source": [
    "baseline_model, y_val, y_pred, score = baseline_score(train_lbl)\n",
    "\n",
    "print(score)"
   ]
  },
  {
   "cell_type": "markdown",
   "id": "7a013ec6",
   "metadata": {},
   "source": [
    "Now, we move on to the other categorical features, which all have very low cardinality (only plan_configuration has 10 unique values; the rest is smaller than 5). Thus, we will encode them by using one-hot-encoding (as we are already doing in our baseline model)."
   ]
  },
  {
   "cell_type": "code",
   "execution_count": 24,
   "id": "41958ed7",
   "metadata": {},
   "outputs": [
    {
     "name": "stdout",
     "output_type": "stream",
     "text": [
      "land_surface_condition     3\n",
      "foundation_type            5\n",
      "roof_type                  3\n",
      "ground_floor_type          5\n",
      "other_floor_type           4\n",
      "position                   4\n",
      "plan_configuration        10\n",
      "legal_ownership_status     4\n",
      "dtype: int64\n"
     ]
    }
   ],
   "source": [
    "cat_fts = fts_dict['cat_fts']\n",
    "\n",
    "print(train_lbl.loc[:, cat_fts].nunique())"
   ]
  },
  {
   "cell_type": "markdown",
   "id": "eb4b1d1d",
   "metadata": {},
   "source": [
    "## Step 3 - Model building\n",
    "\n",
    "### Feature selection"
   ]
  },
  {
   "cell_type": "code",
   "execution_count": 26,
   "id": "9982b55b",
   "metadata": {},
   "outputs": [
    {
     "name": "stdout",
     "output_type": "stream",
     "text": [
      "0.7401926299228713\n"
     ]
    }
   ],
   "source": [
    "dummy_train = pd.get_dummies(train_lbl)\n",
    "    \n",
    "X_train = dummy_train\n",
    "X_train.drop(columns = ['damage_grade', 'building_id'], inplace = True)\n",
    "y_train = train_lbl.iloc[:, -1]\n",
    "\n",
    "X_train1, X_val, y_train1, y_val = train_test_split(X_train, y_train, test_size = 0.3)\n",
    "\n",
    "baseline_model = RandomForestClassifier(n_jobs=-1,random_state=1)\n",
    "baseline_model.fit(X_train1, y_train1)\n",
    "y_pred = baseline_model.predict(X_val)\n",
    "score = f1_score(y_val, y_pred, average='micro')\n",
    "print(score)"
   ]
  },
  {
   "cell_type": "code",
   "execution_count": 34,
   "id": "45caf9aa",
   "metadata": {
    "scrolled": true
   },
   "outputs": [
    {
     "data": {
      "text/plain": [
       "Text(0.5, 1.0, 'Feature importance')"
      ]
     },
     "execution_count": 34,
     "metadata": {},
     "output_type": "execute_result"
    },
    {
     "data": {
      "image/png": "[encoded data removed]",
      "text/plain": [
       "<Figure size 360x1440 with 1 Axes>"
      ]
     },
     "metadata": {
      "needs_background": "light"
     },
     "output_type": "display_data"
    }
   ],
   "source": [
    "sorted_idx = baseline_model.feature_importances_.argsort()\n",
    "\n",
    "fig, ax = plt.subplots(figsize = (5, 20))\n",
    "ax.barh(X_train.columns[sorted_idx], baseline_model.feature_importances_[sorted_idx])\n",
    "plt.title(\"Feature importance\")"
   ]
  },
  {
   "cell_type": "code",
   "execution_count": 36,
   "id": "ba43e83b",
   "metadata": {},
   "outputs": [],
   "source": [
    "from numpy import sort\n",
    "from sklearn.feature_selection import RFECV\n",
    "import warnings\n",
    "from sklearn.exceptions import DataConversionWarning\n",
    "warnings.filterwarnings(action='ignore', category=UserWarning)\n",
    "\n",
    "selector = RFECV(estimator = baseline_model, step = 1, cv = 3, scoring = 'f1_micro')\n",
    "selector = selector.fit(X_train, y_train)"
   ]
  },
  {
   "cell_type": "code",
   "execution_count": 31,
   "id": "8410411d",
   "metadata": {},
   "outputs": [
    {
     "data": {
      "image/png": "[encoded data removed]",
      "text/plain": [
       "<Figure size 432x288 with 1 Axes>"
      ]
     },
     "metadata": {
      "needs_background": "light"
     },
     "output_type": "display_data"
    }
   ],
   "source": [
    "plt.figure()\n",
    "plt.xlabel(\"Number of features selected\")\n",
    "plt.ylabel(\"mean cross validation score (3-folds)\")\n",
    "plt.plot(\n",
    "    range(1, len(selector.cv_results_['mean_test_score']) + 1),\n",
    "    selector.cv_results_['mean_test_score'],\n",
    ")\n",
    "plt.show()"
   ]
  },
  {
   "cell_type": "code",
   "execution_count": 32,
   "id": "69b5a136",
   "metadata": {},
   "outputs": [
    {
     "data": {
      "text/plain": [
       "53"
      ]
     },
     "execution_count": 32,
     "metadata": {},
     "output_type": "execute_result"
    }
   ],
   "source": [
    "selected_fts = []\n",
    "for idx, col in enumerate(list(X_train.columns)):\n",
    "    if selector.ranking_[idx] == 1:\n",
    "        selected_fts.append(col)\n",
    "\n",
    "len(selected_fts)"
   ]
  },
  {
   "cell_type": "code",
   "execution_count": 191,
   "id": "6aaa7718",
   "metadata": {
    "scrolled": true
   },
   "outputs": [
    {
     "name": "stdout",
     "output_type": "stream",
     "text": [
      "['boxcox_count_floors_pre_eq', 'boxcox_age', 'boxcox_area_percentage', 'boxcox_height_percentage', 'boxcox_count_families', 'has_superstructure_adobe_mud', 'has_superstructure_mud_mortar_stone', 'has_superstructure_stone_flag', 'has_superstructure_cement_mortar_stone', 'has_superstructure_mud_mortar_brick', 'has_superstructure_cement_mortar_brick', 'has_superstructure_timber', 'has_superstructure_bamboo', 'has_superstructure_rc_non_engineered', 'has_superstructure_rc_engineered', 'has_superstructure_other', 'has_secondary_use', 'has_secondary_use_agriculture', 'has_secondary_use_hotel', 'geo_level_1_id_count', 'geo_level_1_id_simplemean', 'geo_level_1_id_simplestd', 'geo_level_2_id_count', 'geo_level_2_id_bayesmean', 'geo_level_2_id_bayesstd', 'geo_level_3_id_count', 'geo_level_3_id_bayesmean', 'geo_level_3_id_bayesstd', 'land_surface_condition_n', 'land_surface_condition_o', 'land_surface_condition_t', 'foundation_type_i', 'foundation_type_r', 'foundation_type_u', 'foundation_type_w', 'roof_type_n', 'roof_type_q', 'roof_type_x', 'ground_floor_type_f', 'ground_floor_type_v', 'ground_floor_type_x', 'other_floor_type_j', 'other_floor_type_q', 'other_floor_type_s', 'other_floor_type_x', 'position_j', 'position_s', 'position_t', 'plan_configuration_d', 'plan_configuration_q', 'plan_configuration_u', 'legal_ownership_status_a', 'legal_ownership_status_v']\n"
     ]
    }
   ],
   "source": [
    "print(selected_fts)"
   ]
  },
  {
   "cell_type": "code",
   "execution_count": 37,
   "id": "3c735816",
   "metadata": {},
   "outputs": [],
   "source": [
    "# so we don't have to run the RFECV code everytime (takes very long)\n",
    "selected_fts = ['boxcox_count_floors_pre_eq', 'boxcox_age', 'boxcox_area_percentage', 'boxcox_height_percentage', 'boxcox_count_families', 'has_superstructure_adobe_mud', 'has_superstructure_mud_mortar_stone', 'has_superstructure_stone_flag', 'has_superstructure_cement_mortar_stone', 'has_superstructure_mud_mortar_brick', 'has_superstructure_cement_mortar_brick', 'has_superstructure_timber', 'has_superstructure_bamboo', 'has_superstructure_rc_non_engineered', 'has_superstructure_rc_engineered', 'has_superstructure_other', 'has_secondary_use', 'has_secondary_use_agriculture', 'has_secondary_use_hotel', 'geo_level_1_id_count', 'geo_level_1_id_simplemean', 'geo_level_1_id_simplestd', 'geo_level_2_id_count', 'geo_level_2_id_bayesmean', 'geo_level_2_id_bayesstd', 'geo_level_3_id_count', 'geo_level_3_id_bayesmean', 'geo_level_3_id_bayesstd', 'land_surface_condition_n', 'land_surface_condition_o', 'land_surface_condition_t', 'foundation_type_i', 'foundation_type_r', 'foundation_type_u', 'foundation_type_w', 'roof_type_n', 'roof_type_q', 'roof_type_x', 'ground_floor_type_f', 'ground_floor_type_v', 'ground_floor_type_x', 'other_floor_type_j', 'other_floor_type_q', 'other_floor_type_s', 'other_floor_type_x', 'position_j', 'position_s', 'position_t', 'plan_configuration_d', 'plan_configuration_q', 'plan_configuration_u', 'legal_ownership_status_a', 'legal_ownership_status_v']"
   ]
  },
  {
   "cell_type": "code",
   "execution_count": 38,
   "id": "47c5662f",
   "metadata": {},
   "outputs": [],
   "source": [
    "# Restructure the dataframes\n",
    "new_cols = ['building_id'] + selected_fts + ['damage_grade']\n",
    "\n",
    "dummy_train = pd.get_dummies(train_lbl) # one-hot-encode categorical features\n",
    "train_lbl_selected_fts = dummy_train[new_cols]\n",
    "\n",
    "dummy_test = pd.get_dummies(test)\n",
    "test_selected_fts = dummy_test[new_cols[:-1]]"
   ]
  },
  {
   "cell_type": "code",
   "execution_count": 39,
   "id": "7dbfd509",
   "metadata": {},
   "outputs": [
    {
     "name": "stdout",
     "output_type": "stream",
     "text": [
      "0.7398472774715085\n"
     ]
    }
   ],
   "source": [
    "X_train = train_lbl_selected_fts.copy()\n",
    "X_train.drop(columns = ['damage_grade', 'building_id'], inplace = True)\n",
    "y_train = train_lbl_selected_fts.iloc[:, -1]\n",
    "\n",
    "X_train1, X_val, y_train1, y_val = train_test_split(X_train, y_train, test_size = 0.3)\n",
    "\n",
    "baseline_model = RandomForestClassifier(n_jobs=-1,random_state=1)\n",
    "baseline_model.fit(X_train1, y_train1)\n",
    "y_pred = baseline_model.predict(X_val)\n",
    "score = f1_score(y_val, y_pred, average='micro')\n",
    "print(score)"
   ]
  },
  {
   "cell_type": "code",
   "execution_count": 40,
   "id": "28f12f1d",
   "metadata": {},
   "outputs": [
    {
     "name": "stdout",
     "output_type": "stream",
     "text": [
      "              precision    recall  f1-score   support\n",
      "\n",
      "           1       0.66      0.57      0.61      7651\n",
      "           2       0.76      0.81      0.78     44365\n",
      "           3       0.73      0.66      0.70     26165\n",
      "\n",
      "    accuracy                           0.74     78181\n",
      "   macro avg       0.71      0.68      0.70     78181\n",
      "weighted avg       0.74      0.74      0.74     78181\n",
      "\n"
     ]
    }
   ],
   "source": [
    "print(classification_report(y_val, y_pred))"
   ]
  },
  {
   "cell_type": "markdown",
   "id": "c0d2243a",
   "metadata": {},
   "source": [
    "DO NOT RUN THIS! OLD SELECTION METHOD THAT WAS REPLACED BY RFECV (above code)"
   ]
  },
  {
   "cell_type": "code",
   "execution_count": 242,
   "id": "8485f27a",
   "metadata": {
    "scrolled": true
   },
   "outputs": [
    {
     "name": "stdout",
     "output_type": "stream",
     "text": [
      "F1 Score: 71.71%, Thresh=0.180, n=1, feature = geo_level_3_id_bayesmean\n",
      "F1 Score: 71.73%, Thresh=0.104, n=2, feature = geo_level_2_id_bayesmean\n",
      "F1 Score: 70.00%, Thresh=0.103, n=3, feature = boxcox_age\n",
      "F1 Score: 70.44%, Thresh=0.089, n=4, feature = boxcox_area_percentage\n",
      "F1 Score: 70.37%, Thresh=0.071, n=5, feature = geo_level_3_id_bayesstd\n",
      "F1 Score: 71.56%, Thresh=0.040, n=6, feature = boxcox_height_percentage\n",
      "F1 Score: 71.40%, Thresh=0.038, n=7, feature = geo_level_2_id_bayesstd\n",
      "F1 Score: 71.30%, Thresh=0.037, n=8, feature = geo_level_3_id_count\n",
      "F1 Score: 70.98%, Thresh=0.033, n=9, feature = geo_level_1_id_simplemean\n",
      "F1 Score: 70.98%, Thresh=0.027, n=10, feature = geo_level_2_id_count\n",
      "F1 Score: 70.89%, Thresh=0.026, n=11, feature = geo_level_1_id_simplestd\n",
      "F1 Score: 71.28%, Thresh=0.020, n=12, feature = boxcox_count_families\n",
      "F1 Score: 71.21%, Thresh=0.016, n=13, feature = geo_level_1_id_count\n",
      "F1 Score: 71.38%, Thresh=0.015, n=14, feature = boxcox_count_floors_pre_eq\n",
      "F1 Score: 71.80%, Thresh=0.010, n=15, feature = has_superstructure_mud_mortar_stone\n",
      "F1 Score: 72.19%, Thresh=0.010, n=16, feature = position_s\n",
      "F1 Score: 72.21%, Thresh=0.010, n=17, feature = position_t\n",
      "F1 Score: 72.52%, Thresh=0.010, n=18, feature = foundation_type_r\n",
      "F1 Score: 72.78%, Thresh=0.010, n=19, feature = ground_floor_type_v\n",
      "F1 Score: 73.08%, Thresh=0.008, n=20, feature = roof_type_n\n",
      "F1 Score: 73.21%, Thresh=0.008, n=21, feature = has_superstructure_timber\n",
      "F1 Score: 73.20%, Thresh=0.008, n=22, feature = roof_type_q\n",
      "F1 Score: 73.31%, Thresh=0.008, n=23, feature = other_floor_type_q\n",
      "F1 Score: 73.36%, Thresh=0.007, n=24, feature = land_surface_condition_t\n",
      "F1 Score: 73.26%, Thresh=0.007, n=25, feature = land_surface_condition_n\n",
      "F1 Score: 73.35%, Thresh=0.006, n=26, feature = roof_type_x\n",
      "F1 Score: 73.30%, Thresh=0.006, n=27, feature = ground_floor_type_f\n",
      "F1 Score: 73.41%, Thresh=0.006, n=28, feature = has_superstructure_cement_mortar_brick\n",
      "F1 Score: 73.54%, Thresh=0.006, n=29, feature = has_secondary_use\n",
      "F1 Score: 73.59%, Thresh=0.005, n=30, feature = other_floor_type_x\n",
      "F1 Score: 73.57%, Thresh=0.005, n=31, feature = foundation_type_i\n",
      "F1 Score: 73.69%, Thresh=0.004, n=32, feature = has_superstructure_bamboo\n",
      "F1 Score: 73.81%, Thresh=0.004, n=33, feature = has_superstructure_mud_mortar_brick\n",
      "F1 Score: 73.72%, Thresh=0.004, n=34, feature = position_j\n",
      "F1 Score: 73.77%, Thresh=0.004, n=35, feature = has_superstructure_adobe_mud\n",
      "F1 Score: 73.69%, Thresh=0.004, n=36, feature = other_floor_type_j\n",
      "F1 Score: 73.64%, Thresh=0.004, n=37, feature = other_floor_type_s\n",
      "F1 Score: 73.80%, Thresh=0.004, n=38, feature = has_secondary_use_agriculture\n",
      "F1 Score: 73.84%, Thresh=0.004, n=39, feature = plan_configuration_d\n",
      "F1 Score: 73.81%, Thresh=0.004, n=40, feature = ground_floor_type_x\n",
      "F1 Score: 73.81%, Thresh=0.003, n=41, feature = foundation_type_u\n",
      "F1 Score: 73.93%, Thresh=0.003, n=42, feature = legal_ownership_status_v\n",
      "F1 Score: 73.85%, Thresh=0.003, n=43, feature = foundation_type_w\n",
      "F1 Score: 73.94%, Thresh=0.003, n=44, feature = land_surface_condition_o\n",
      "F1 Score: 73.86%, Thresh=0.003, n=45, feature = has_secondary_use_hotel\n",
      "F1 Score: 73.91%, Thresh=0.002, n=46, feature = has_superstructure_rc_non_engineered\n",
      "F1 Score: 73.87%, Thresh=0.002, n=47, feature = plan_configuration_q\n",
      "F1 Score: 73.91%, Thresh=0.002, n=48, feature = has_superstructure_stone_flag\n",
      "F1 Score: 73.96%, Thresh=0.002, n=49, feature = has_superstructure_cement_mortar_stone\n",
      "F1 Score: 73.96%, Thresh=0.002, n=50, feature = has_superstructure_other\n",
      "F1 Score: 74.01%, Thresh=0.002, n=51, feature = legal_ownership_status_a\n",
      "F1 Score: 74.01%, Thresh=0.002, n=52, feature = has_superstructure_rc_engineered\n",
      "F1 Score: 74.02%, Thresh=0.002, n=53, feature = plan_configuration_u\n",
      "F1 Score: 74.02%, Thresh=0.001, n=54, feature = legal_ownership_status_w\n",
      "F1 Score: 74.01%, Thresh=0.001, n=55, feature = has_secondary_use_rental\n",
      "F1 Score: 73.99%, Thresh=0.001, n=56, feature = position_o\n",
      "F1 Score: 74.04%, Thresh=0.001, n=57, feature = legal_ownership_status_r\n",
      "F1 Score: 74.12%, Thresh=0.001, n=58, feature = has_secondary_use_other\n",
      "F1 Score: 73.94%, Thresh=0.001, n=59, feature = foundation_type_h\n",
      "F1 Score: 73.93%, Thresh=0.000, n=60, feature = ground_floor_type_z\n",
      "F1 Score: 73.90%, Thresh=0.000, n=61, feature = ground_floor_type_m\n",
      "F1 Score: 73.91%, Thresh=0.000, n=62, feature = plan_configuration_s\n",
      "F1 Score: 73.96%, Thresh=0.000, n=63, feature = plan_configuration_c\n",
      "F1 Score: 73.95%, Thresh=0.000, n=64, feature = has_secondary_use_industry\n",
      "F1 Score: 73.86%, Thresh=0.000, n=65, feature = has_secondary_use_institution\n",
      "F1 Score: 74.02%, Thresh=0.000, n=66, feature = plan_configuration_a\n",
      "F1 Score: 74.00%, Thresh=0.000, n=67, feature = plan_configuration_o\n",
      "F1 Score: 73.99%, Thresh=0.000, n=68, feature = has_secondary_use_school\n",
      "F1 Score: 74.00%, Thresh=0.000, n=69, feature = plan_configuration_m\n",
      "F1 Score: 74.07%, Thresh=0.000, n=70, feature = has_secondary_use_health_post\n",
      "F1 Score: 73.95%, Thresh=0.000, n=71, feature = plan_configuration_n\n",
      "F1 Score: 73.97%, Thresh=0.000, n=72, feature = has_secondary_use_gov_office\n",
      "F1 Score: 73.93%, Thresh=0.000, n=73, feature = has_secondary_use_use_police\n",
      "F1 Score: 73.98%, Thresh=0.000, n=74, feature = plan_configuration_f\n"
     ]
    }
   ],
   "source": [
    "### OLD SELECTION METHOD WITHOUT CROSS-VALIDATION\n",
    "\n",
    "from numpy import sort\n",
    "from sklearn.feature_selection import SelectFromModel\n",
    "import warnings\n",
    "from sklearn.exceptions import DataConversionWarning\n",
    "warnings.filterwarnings(action='ignore', category=UserWarning)\n",
    "\n",
    "fts_importance = baseline_model.feature_importances_\n",
    "fts_order = []\n",
    "\n",
    "# Fit model using each importance as a threshold\n",
    "thresholds = sorted(fts_importance, reverse = True)\n",
    "for thresh in thresholds:\n",
    "    # find column name of current threshold feature\n",
    "    cur_col_idx = np.where(fts_importance == thresh)\n",
    "    cur_col_name = list(X_train1.columns[cur_col_idx])[0]\n",
    "    fts_order.append(cur_col_name)\n",
    "    # select features using threshold\n",
    "    selection = SelectFromModel(estimator = baseline_model, threshold = thresh, prefit = True)\n",
    "    select_X_train1 = selection.transform(X_train1)\n",
    "    # train model\n",
    "    selection_model = RandomForestClassifier(n_jobs=-1,random_state=1)\n",
    "    selection_model.fit(select_X_train1, y_train1)\n",
    "    # eval model\n",
    "    select_X_val = selection.transform(X_val)\n",
    "    y_pred = selection_model.predict(select_X_val)\n",
    "    predictions = [round(value) for value in y_pred]\n",
    "    score = f1_score(y_val, y_pred, average='micro')\n",
    "    print('F1 Score: %.2f%%, Thresh=%.3f, n=%d, feature = %s' % (score*100.0, thresh, select_X_train1.shape[1], cur_col_name))"
   ]
  },
  {
   "cell_type": "markdown",
   "id": "32b48a07",
   "metadata": {},
   "source": [
    "We can see, that if we keep all features until 'has_secondary_use_other' (n = 58), we will have nearly the same F1 score that we would have if we were to use all 74 features. This leaves us with 58 features, which sounds reasonable when compared to the 260,001 rows we have in our training data."
   ]
  },
  {
   "cell_type": "code",
   "execution_count": 243,
   "id": "13f7f63f",
   "metadata": {
    "scrolled": true
   },
   "outputs": [
    {
     "data": {
      "text/plain": [
       "['geo_level_3_id_bayesmean',\n",
       " 'geo_level_2_id_bayesmean',\n",
       " 'boxcox_age',\n",
       " 'boxcox_area_percentage',\n",
       " 'geo_level_3_id_bayesstd',\n",
       " 'boxcox_height_percentage',\n",
       " 'geo_level_2_id_bayesstd',\n",
       " 'geo_level_3_id_count',\n",
       " 'geo_level_1_id_simplemean',\n",
       " 'geo_level_2_id_count',\n",
       " 'geo_level_1_id_simplestd',\n",
       " 'boxcox_count_families',\n",
       " 'geo_level_1_id_count',\n",
       " 'boxcox_count_floors_pre_eq',\n",
       " 'has_superstructure_mud_mortar_stone',\n",
       " 'position_s',\n",
       " 'position_t',\n",
       " 'foundation_type_r',\n",
       " 'ground_floor_type_v',\n",
       " 'roof_type_n',\n",
       " 'has_superstructure_timber',\n",
       " 'roof_type_q',\n",
       " 'other_floor_type_q',\n",
       " 'land_surface_condition_t',\n",
       " 'land_surface_condition_n',\n",
       " 'roof_type_x',\n",
       " 'ground_floor_type_f',\n",
       " 'has_superstructure_cement_mortar_brick',\n",
       " 'has_secondary_use',\n",
       " 'other_floor_type_x',\n",
       " 'foundation_type_i',\n",
       " 'has_superstructure_bamboo',\n",
       " 'has_superstructure_mud_mortar_brick',\n",
       " 'position_j',\n",
       " 'has_superstructure_adobe_mud',\n",
       " 'other_floor_type_j',\n",
       " 'other_floor_type_s',\n",
       " 'has_secondary_use_agriculture',\n",
       " 'plan_configuration_d',\n",
       " 'ground_floor_type_x',\n",
       " 'foundation_type_u',\n",
       " 'legal_ownership_status_v',\n",
       " 'foundation_type_w',\n",
       " 'land_surface_condition_o',\n",
       " 'has_secondary_use_hotel',\n",
       " 'has_superstructure_rc_non_engineered',\n",
       " 'plan_configuration_q',\n",
       " 'has_superstructure_stone_flag',\n",
       " 'has_superstructure_cement_mortar_stone',\n",
       " 'has_superstructure_other',\n",
       " 'legal_ownership_status_a',\n",
       " 'has_superstructure_rc_engineered',\n",
       " 'plan_configuration_u',\n",
       " 'legal_ownership_status_w',\n",
       " 'has_secondary_use_rental',\n",
       " 'position_o',\n",
       " 'legal_ownership_status_r',\n",
       " 'has_secondary_use_other']"
      ]
     },
     "execution_count": 243,
     "metadata": {},
     "output_type": "execute_result"
    }
   ],
   "source": [
    "### OLD SELECTION METHOD WITHOUT CROSS-VALIDATION\n",
    "# so we do not need to run the above code multiple times (takes very long)\n",
    "fts_importance = baseline_model.feature_importances_\n",
    "\n",
    "thresholds = sorted(baseline_model.feature_importances_, reverse = True)\n",
    "fts_order = []\n",
    "\n",
    "for thresh in thresholds:\n",
    "     # find column name of current threshold feature\n",
    "    cur_col_idx = np.where(fts_importance == thresh)\n",
    "    cur_col_name = list(X_train1.columns[cur_col_idx])[0]\n",
    "    fts_order.append(cur_col_name)\n",
    "    \n",
    "selected_fts = fts_order[0:58]\n",
    "selected_fts"
   ]
  },
  {
   "cell_type": "markdown",
   "id": "43690deb",
   "metadata": {},
   "source": [
    "### Random forest classifier utilizing ordinal scale of target variable"
   ]
  },
  {
   "cell_type": "code",
   "execution_count": 38,
   "id": "5007f61e",
   "metadata": {},
   "outputs": [],
   "source": [
    "X_train = train_lbl_selected_fts.copy()\n",
    "X_train.drop(columns = ['building_id', 'damage_grade'], inplace = True)\n",
    "\n",
    "X_test = test_selected_fts.copy()\n",
    "X_test.drop(columns = ['building_id'], inplace = True)\n",
    "\n",
    "y_train = train_lbl_selected_fts.iloc[:, -1] - 1 # substract 1 to normalize labels to range [0, 2]\n",
    "y_train = list(y_train)\n",
    "\n",
    "X_train1, X_val, y_train1, y_val = train_test_split(X_train, y_train, test_size = 0.3)"
   ]
  },
  {
   "cell_type": "code",
   "execution_count": 39,
   "id": "12fe0e22",
   "metadata": {},
   "outputs": [],
   "source": [
    "# taken from https://github.com/alan-flint/Richter-DrivenData/tree/master/src\n",
    "\n",
    "from sklearn.base import clone\n",
    "\n",
    "class OrdinalClassifier():\n",
    "    \n",
    "    def __init__(self, clf):\n",
    "        self.clf = clf\n",
    "        self.clfs = {}\n",
    "    \n",
    "    def fit(self, X, y):\n",
    "        self.unique_class = np.sort(np.unique(y))\n",
    "        if self.unique_class.shape[0] > 2:\n",
    "            for i in range(self.unique_class.shape[0]-1):\n",
    "                # for each k - 1 ordinal value we fit a binary classification problem\n",
    "                binary_y = (y > self.unique_class[i]).astype(np.uint8)\n",
    "                clf = clone(self.clf)\n",
    "                clf.fit(X, binary_y)\n",
    "                self.clfs[i] = clf\n",
    "    \n",
    "    def predict_proba(self, X):\n",
    "        clfs_predict = {k:self.clfs[k].predict_proba(X) for k in self.clfs}\n",
    "        predicted = []\n",
    "        for i,y in enumerate(self.unique_class):\n",
    "            if i == 0:\n",
    "                # V1 = 1 - Pr(y > V1)\n",
    "                predicted.append(1 - clfs_predict[y][:,1])\n",
    "            elif y in clfs_predict:\n",
    "                # Vi = Pr(y > Vi-1) - Pr(y > Vi)\n",
    "                 predicted.append(clfs_predict[y-1][:,1] - clfs_predict[y][:,1])\n",
    "            else:\n",
    "                # Vk = Pr(y > Vk-1)\n",
    "                predicted.append(clfs_predict[y-1][:,1])\n",
    "        return np.vstack(predicted).T\n",
    "    \n",
    "    def predict(self, X):\n",
    "        return np.argmax(self.predict_proba(X), axis=1)"
   ]
  },
  {
   "cell_type": "code",
   "execution_count": 40,
   "id": "8f74505e",
   "metadata": {},
   "outputs": [],
   "source": [
    "rf_basic = RandomForestClassifier(n_estimators=100, min_samples_leaf=5, n_jobs=-1)\n",
    "rf_ordinal = OrdinalClassifier(rf_basic)\n",
    "rf_ordinal.fit(X_train1, y_train1)"
   ]
  },
  {
   "cell_type": "code",
   "execution_count": 41,
   "id": "56f8ad8b",
   "metadata": {},
   "outputs": [
    {
     "name": "stdout",
     "output_type": "stream",
     "text": [
      "micro f1 cross val: 0.7598137654928948\n"
     ]
    }
   ],
   "source": [
    "y_pred = rf_ordinal.predict(X_val)\n",
    "score = f1_score(y_val, y_pred, average='micro')\n",
    "print('micro f1 cross val:', score)"
   ]
  },
  {
   "cell_type": "code",
   "execution_count": 42,
   "id": "2c002da4",
   "metadata": {},
   "outputs": [
    {
     "name": "stdout",
     "output_type": "stream",
     "text": [
      "              precision    recall  f1-score   support\n",
      "\n",
      "           0       0.70      0.57      0.63      7536\n",
      "           1       0.76      0.85      0.80     44502\n",
      "           2       0.77      0.66      0.71     26143\n",
      "\n",
      "    accuracy                           0.76     78181\n",
      "   macro avg       0.75      0.69      0.72     78181\n",
      "weighted avg       0.76      0.76      0.76     78181\n",
      "\n"
     ]
    }
   ],
   "source": [
    "print(classification_report(y_val, y_pred))"
   ]
  },
  {
   "cell_type": "code",
   "execution_count": 45,
   "id": "7b3003fb",
   "metadata": {},
   "outputs": [],
   "source": [
    "# Predict test data\n",
    "y_test = rf_ordinal.predict(X_test)"
   ]
  },
  {
   "cell_type": "code",
   "execution_count": 46,
   "id": "a226b23c",
   "metadata": {},
   "outputs": [
    {
     "data": {
      "text/html": [
       "<div>\n",
       "<style scoped>\n",
       "    .dataframe tbody tr th:only-of-type {\n",
       "        vertical-align: middle;\n",
       "    }\n",
       "\n",
       "    .dataframe tbody tr th {\n",
       "        vertical-align: top;\n",
       "    }\n",
       "\n",
       "    .dataframe thead th {\n",
       "        text-align: right;\n",
       "    }\n",
       "</style>\n",
       "<table border=\"1\" class=\"dataframe\">\n",
       "  <thead>\n",
       "    <tr style=\"text-align: right;\">\n",
       "      <th></th>\n",
       "      <th>building_id</th>\n",
       "      <th>damage_grade</th>\n",
       "    </tr>\n",
       "  </thead>\n",
       "  <tbody>\n",
       "    <tr>\n",
       "      <th>0</th>\n",
       "      <td>300051</td>\n",
       "      <td>3</td>\n",
       "    </tr>\n",
       "    <tr>\n",
       "      <th>1</th>\n",
       "      <td>99355</td>\n",
       "      <td>2</td>\n",
       "    </tr>\n",
       "    <tr>\n",
       "      <th>2</th>\n",
       "      <td>890251</td>\n",
       "      <td>3</td>\n",
       "    </tr>\n",
       "    <tr>\n",
       "      <th>3</th>\n",
       "      <td>745817</td>\n",
       "      <td>1</td>\n",
       "    </tr>\n",
       "    <tr>\n",
       "      <th>4</th>\n",
       "      <td>421793</td>\n",
       "      <td>3</td>\n",
       "    </tr>\n",
       "    <tr>\n",
       "      <th>...</th>\n",
       "      <td>...</td>\n",
       "      <td>...</td>\n",
       "    </tr>\n",
       "    <tr>\n",
       "      <th>86863</th>\n",
       "      <td>310028</td>\n",
       "      <td>2</td>\n",
       "    </tr>\n",
       "    <tr>\n",
       "      <th>86864</th>\n",
       "      <td>663567</td>\n",
       "      <td>3</td>\n",
       "    </tr>\n",
       "    <tr>\n",
       "      <th>86865</th>\n",
       "      <td>1049160</td>\n",
       "      <td>2</td>\n",
       "    </tr>\n",
       "    <tr>\n",
       "      <th>86866</th>\n",
       "      <td>442785</td>\n",
       "      <td>2</td>\n",
       "    </tr>\n",
       "    <tr>\n",
       "      <th>86867</th>\n",
       "      <td>501372</td>\n",
       "      <td>1</td>\n",
       "    </tr>\n",
       "  </tbody>\n",
       "</table>\n",
       "<p>86868 rows × 2 columns</p>\n",
       "</div>"
      ],
      "text/plain": [
       "       building_id  damage_grade\n",
       "0           300051             3\n",
       "1            99355             2\n",
       "2           890251             3\n",
       "3           745817             1\n",
       "4           421793             3\n",
       "...            ...           ...\n",
       "86863       310028             2\n",
       "86864       663567             3\n",
       "86865      1049160             2\n",
       "86866       442785             2\n",
       "86867       501372             1\n",
       "\n",
       "[86868 rows x 2 columns]"
      ]
     },
     "execution_count": 46,
     "metadata": {},
     "output_type": "execute_result"
    }
   ],
   "source": [
    "pred_df = pd.DataFrame(test['building_id'])\n",
    "pred_df.loc[:,'damage_grade'] = y_test + 1\n",
    "pred_df"
   ]
  },
  {
   "cell_type": "code",
   "execution_count": 47,
   "id": "f1eaaf6c",
   "metadata": {},
   "outputs": [],
   "source": [
    "pred_df.to_csv('Predictions/rf_ordinal.csv',index=False)"
   ]
  },
  {
   "cell_type": "markdown",
   "id": "a98f3c24",
   "metadata": {},
   "source": [
    "This gets us a score on the competition (with selecting only 53 features) of .7489 (top 3%)"
   ]
  },
  {
   "cell_type": "markdown",
   "id": "296e7c21",
   "metadata": {},
   "source": [
    "#### Hyperparameter tuning"
   ]
  },
  {
   "cell_type": "code",
   "execution_count": 48,
   "id": "024c64cf",
   "metadata": {},
   "outputs": [],
   "source": [
    "X_train = train_lbl_selected_fts.copy()\n",
    "X_train.drop(columns = ['building_id', 'damage_grade'], inplace = True)\n",
    "\n",
    "X_test = test_selected_fts.copy()\n",
    "X_test.drop(columns = ['building_id'], inplace = True)\n",
    "\n",
    "y_train = train_lbl_selected_fts.iloc[:, -1] - 1 # substract 1 to normalize labels to range [0, 2]\n",
    "y_train = list(y_train)\n",
    "\n",
    "X_train1, X_val, y_train1, y_val = train_test_split(X_train, y_train, test_size = 0.3)"
   ]
  },
  {
   "cell_type": "code",
   "execution_count": 49,
   "id": "3e8951c7",
   "metadata": {},
   "outputs": [
    {
     "name": "stdout",
     "output_type": "stream",
     "text": [
      "{'n_estimators': [100, 200, 300, 400, 500], 'max_features': ['auto', 'sqrt'], 'max_depth': [10, 20, 30, 40, 50, 60, 70, 80, 90, 100, None], 'min_samples_split': [2, 5, 10], 'min_samples_leaf': [1, 2, 4], 'bootstrap': [True, False]}\n"
     ]
    }
   ],
   "source": [
    "from sklearn.model_selection import RandomizedSearchCV \n",
    "\n",
    "# Number of trees in random forest\n",
    "n_estimators = [int(x) for x in np.linspace(start = 100, stop = 500, num = 5)]\n",
    "# Number of features to consider at every split\n",
    "max_features = ['auto', 'sqrt']\n",
    "# Maximum number of levels in tree\n",
    "max_depth = [int(x) for x in np.linspace(10, 100, num = 10)]\n",
    "max_depth.append(None)\n",
    "# Minimum number of samples required to split a node\n",
    "min_samples_split = [2, 5, 10]\n",
    "# Minimum number of samples required at each leaf node\n",
    "min_samples_leaf = [1, 2, 4]\n",
    "# Method of selecting samples for training each tree\n",
    "bootstrap = [True, False]# Create the random grid\n",
    "random_grid = {'n_estimators': n_estimators,\n",
    "               'max_features': max_features,\n",
    "               'max_depth': max_depth,\n",
    "               'min_samples_split': min_samples_split,\n",
    "               'min_samples_leaf': min_samples_leaf,\n",
    "               'bootstrap': bootstrap}\n",
    "print(random_grid)"
   ]
  },
  {
   "cell_type": "code",
   "execution_count": 48,
   "id": "582cc36d",
   "metadata": {},
   "outputs": [
    {
     "name": "stdout",
     "output_type": "stream",
     "text": [
      "Fitting 3 folds for each of 50 candidates, totalling 150 fits\n"
     ]
    },
    {
     "name": "stderr",
     "output_type": "stream",
     "text": [
      "[Parallel(n_jobs=-1)]: Using backend ThreadingBackend with 16 concurrent workers.\n",
      "[Parallel(n_jobs=-1)]: Done  18 tasks      | elapsed:    2.1s\n",
      "[Parallel(n_jobs=-1)]: Done 168 tasks      | elapsed:   12.6s\n",
      "[Parallel(n_jobs=-1)]: Done 400 out of 400 | elapsed:   29.1s finished\n"
     ]
    },
    {
     "data": {
      "text/plain": [
       "RandomizedSearchCV(cv=3,\n",
       "                   estimator=RandomForestClassifier(min_samples_leaf=5,\n",
       "                                                    n_jobs=-1, verbose=1),\n",
       "                   n_iter=50, n_jobs=-1,\n",
       "                   param_distributions={'bootstrap': [True, False],\n",
       "                                        'max_depth': [10, 20, 30, 40, 50, 60,\n",
       "                                                      70, 80, 90, 100, None],\n",
       "                                        'max_features': ['auto', 'sqrt'],\n",
       "                                        'min_samples_leaf': [1, 2, 4],\n",
       "                                        'min_samples_split': [2, 5, 10],\n",
       "                                        'n_estimators': [100, 200, 300, 400,\n",
       "                                                         500]},\n",
       "                   random_state=42, verbose=10)"
      ]
     },
     "execution_count": 48,
     "metadata": {},
     "output_type": "execute_result"
    }
   ],
   "source": [
    "# Use the random grid to search for best hyperparameters\n",
    "# First create the base model to tune\n",
    "rf_basic_hpt = RandomForestClassifier(n_estimators=100, min_samples_leaf=5, verbose = 1, n_jobs=-1)\n",
    "# Random search of parameters, using 3 fold cross validation, \n",
    "# search across 100 different combinations, and use all available cores\n",
    "rf_basic_hpt_random = RandomizedSearchCV(estimator = rf_basic_hpt, param_distributions = random_grid,\n",
    "                                           n_iter = 50, cv = 3, verbose = 10, random_state = 42, \n",
    "                                           n_jobs = -1)# Fit the random search model\n",
    "rf_basic_hpt_random.fit(X_train, y_train)"
   ]
  },
  {
   "cell_type": "code",
   "execution_count": 49,
   "id": "68e63b64",
   "metadata": {},
   "outputs": [
    {
     "data": {
      "text/plain": [
       "{'mean_fit_time': array([357.96681539,  99.11466877, 146.0797654 , 168.47522171,\n",
       "         55.10068003, 361.41585708, 359.95805041, 370.19202185,\n",
       "        383.09951218, 233.8210686 , 174.56520096, 211.82299169,\n",
       "        456.86998725, 218.74714422, 475.03510237, 219.04379034,\n",
       "        389.53446714, 276.57205073, 332.99485763, 205.63303288,\n",
       "        201.37531813, 207.43859577, 293.01670194, 174.09508355,\n",
       "        107.69661919, 359.73019934, 325.67760126, 292.00995024,\n",
       "        297.20140465, 137.31565166, 142.65225323, 240.27231312,\n",
       "        100.55049499, 367.23386097, 148.15194281,  89.00404859,\n",
       "         72.58099453, 314.46856968, 144.06714606,  65.89348952,\n",
       "        250.16414483, 205.53613249, 277.25466053, 179.44190152,\n",
       "        103.01357754, 130.49759618, 233.08099008, 261.36668452,\n",
       "        106.52435994, 146.63023488]),\n",
       " 'std_fit_time': array([ 3.68432289,  5.78151975,  0.6457293 , 17.41287297,  4.2547607 ,\n",
       "        26.75915636,  2.35980699,  3.01761274,  0.42197659, 17.63121044,\n",
       "         9.12070572,  2.93910521,  2.76685053,  2.33714377,  1.08458472,\n",
       "         1.09037377,  5.53968988,  2.20675931,  1.00240143, 15.41312269,\n",
       "         4.55979631,  0.48679597,  2.35405017, 10.53156469,  2.3129399 ,\n",
       "         3.15162911,  1.91723186,  2.21981835,  0.77614963,  1.98659063,\n",
       "        19.90755372,  5.73930781,  2.44546296,  1.65470094,  2.15841786,\n",
       "         4.28925606,  1.52309551,  1.23529776,  3.20398938,  1.42340385,\n",
       "         5.69080013,  0.98053385,  4.09225803,  2.67585734,  1.44988421,\n",
       "         1.5871813 ,  1.38451905, 19.69725533,  1.52416137,  7.30805063]),\n",
       " 'mean_score_time': array([43.74903027, 27.20526322, 29.68596427, 32.4139692 , 29.93629543,\n",
       "        45.55619939, 46.33312225, 47.4594442 , 36.09017563, 27.00779247,\n",
       "        27.2547973 , 33.03135196, 53.94079653, 37.04145765, 46.948627  ,\n",
       "        32.31698338, 38.96321003, 27.58225528, 49.23735762, 30.07326094,\n",
       "        35.0140183 , 30.47819487, 46.67354576, 27.28968016, 17.3286701 ,\n",
       "        28.04136046, 31.24014195, 25.30767043, 27.43730839, 30.53004003,\n",
       "        30.16102791, 41.58149179, 24.89178093, 48.72073817, 28.57028135,\n",
       "        22.40014601, 17.14017224, 42.81386518, 31.4023757 , 21.64645894,\n",
       "        31.28103288, 25.71557864, 36.8344636 , 29.48948836, 24.40574789,\n",
       "        26.24283775, 19.21861704,  5.08706721, 21.14147544, 10.56474638]),\n",
       " 'std_score_time': array([0.60947753, 0.46014405, 0.54000213, 4.82260886, 0.33916785,\n",
       "        2.16110806, 3.83486276, 2.15260997, 0.95325066, 2.93537026,\n",
       "        5.05809345, 1.62313746, 1.16196217, 1.1947119 , 1.21956399,\n",
       "        1.40428081, 3.33726593, 4.26727815, 0.77182526, 3.3598723 ,\n",
       "        3.09027538, 0.69664966, 1.62826872, 4.9970398 , 0.22946049,\n",
       "        4.64650139, 0.55017128, 1.63968542, 0.32954899, 2.95302505,\n",
       "        6.92873137, 4.03569773, 0.51031891, 2.45849763, 1.68113811,\n",
       "        0.99290163, 0.45543923, 0.65281407, 1.30470305, 1.85441395,\n",
       "        4.50769084, 0.86126871, 2.10707704, 1.86124252, 0.40251755,\n",
       "        2.59511047, 0.23901145, 1.53022753, 0.22198393, 1.73570974]),\n",
       " 'param_n_estimators': masked_array(data=[400, 200, 200, 200, 100, 400, 500, 500, 400, 500, 200,\n",
       "                    400, 500, 300, 500, 200, 400, 300, 500, 300, 300, 300,\n",
       "                    300, 200, 100, 400, 500, 300, 400, 100, 200, 400, 100,\n",
       "                    400, 200, 100, 100, 500, 200, 100, 400, 200, 300, 200,\n",
       "                    100, 200, 300, 500, 100, 300],\n",
       "              mask=[False, False, False, False, False, False, False, False,\n",
       "                    False, False, False, False, False, False, False, False,\n",
       "                    False, False, False, False, False, False, False, False,\n",
       "                    False, False, False, False, False, False, False, False,\n",
       "                    False, False, False, False, False, False, False, False,\n",
       "                    False, False, False, False, False, False, False, False,\n",
       "                    False, False],\n",
       "        fill_value='?',\n",
       "             dtype=object),\n",
       " 'param_min_samples_split': masked_array(data=[2, 10, 5, 2, 5, 5, 10, 5, 2, 5, 5, 5, 10, 5, 10, 2, 10,\n",
       "                    10, 5, 10, 10, 10, 2, 5, 2, 5, 10, 2, 5, 10, 5, 2, 10,\n",
       "                    5, 2, 5, 5, 5, 10, 10, 5, 2, 5, 10, 2, 5, 5, 10, 2, 5],\n",
       "              mask=[False, False, False, False, False, False, False, False,\n",
       "                    False, False, False, False, False, False, False, False,\n",
       "                    False, False, False, False, False, False, False, False,\n",
       "                    False, False, False, False, False, False, False, False,\n",
       "                    False, False, False, False, False, False, False, False,\n",
       "                    False, False, False, False, False, False, False, False,\n",
       "                    False, False],\n",
       "        fill_value='?',\n",
       "             dtype=object),\n",
       " 'param_min_samples_leaf': masked_array(data=[4, 1, 4, 2, 2, 4, 1, 1, 4, 2, 4, 4, 2, 2, 2, 2, 1, 2,\n",
       "                    4, 4, 2, 1, 1, 4, 4, 4, 4, 4, 1, 1, 1, 2, 4, 1, 2, 4,\n",
       "                    1, 4, 2, 2, 4, 2, 1, 4, 4, 4, 4, 1, 1, 4],\n",
       "              mask=[False, False, False, False, False, False, False, False,\n",
       "                    False, False, False, False, False, False, False, False,\n",
       "                    False, False, False, False, False, False, False, False,\n",
       "                    False, False, False, False, False, False, False, False,\n",
       "                    False, False, False, False, False, False, False, False,\n",
       "                    False, False, False, False, False, False, False, False,\n",
       "                    False, False],\n",
       "        fill_value='?',\n",
       "             dtype=object),\n",
       " 'param_max_features': masked_array(data=['sqrt', 'sqrt', 'sqrt', 'sqrt', 'auto', 'sqrt', 'auto',\n",
       "                    'sqrt', 'auto', 'sqrt', 'auto', 'sqrt', 'auto', 'sqrt',\n",
       "                    'sqrt', 'auto', 'sqrt', 'auto', 'sqrt', 'auto', 'sqrt',\n",
       "                    'auto', 'sqrt', 'sqrt', 'auto', 'sqrt', 'sqrt', 'sqrt',\n",
       "                    'auto', 'auto', 'sqrt', 'sqrt', 'sqrt', 'auto', 'sqrt',\n",
       "                    'auto', 'sqrt', 'auto', 'auto', 'sqrt', 'auto', 'auto',\n",
       "                    'sqrt', 'auto', 'auto', 'auto', 'sqrt', 'auto', 'auto',\n",
       "                    'auto'],\n",
       "              mask=[False, False, False, False, False, False, False, False,\n",
       "                    False, False, False, False, False, False, False, False,\n",
       "                    False, False, False, False, False, False, False, False,\n",
       "                    False, False, False, False, False, False, False, False,\n",
       "                    False, False, False, False, False, False, False, False,\n",
       "                    False, False, False, False, False, False, False, False,\n",
       "                    False, False],\n",
       "        fill_value='?',\n",
       "             dtype=object),\n",
       " 'param_max_depth': masked_array(data=[50, 10, 40, 80, 90, 90, 60, 50, 80, 10, 20, 10, 50, 30,\n",
       "                    80, 60, 40, 20, None, 70, 50, 60, 40, 20, 30, 60, 90,\n",
       "                    60, 70, 80, 30, 80, 50, 70, 90, 40, 10, 70, None, 10,\n",
       "                    20, 70, None, 30, 50, None, None, 40, 30, 40],\n",
       "              mask=[False, False, False, False, False, False, False, False,\n",
       "                    False, False, False, False, False, False, False, False,\n",
       "                    False, False, False, False, False, False, False, False,\n",
       "                    False, False, False, False, False, False, False, False,\n",
       "                    False, False, False, False, False, False, False, False,\n",
       "                    False, False, False, False, False, False, False, False,\n",
       "                    False, False],\n",
       "        fill_value='?',\n",
       "             dtype=object),\n",
       " 'param_bootstrap': masked_array(data=[False, True, True, False, False, False, True, True,\n",
       "                    False, True, False, False, False, True, False, False,\n",
       "                    False, False, True, True, True, True, False, False,\n",
       "                    False, False, True, False, True, False, True, True,\n",
       "                    False, False, True, True, False, True, True, True,\n",
       "                    True, False, False, False, False, True, False, False,\n",
       "                    False, True],\n",
       "              mask=[False, False, False, False, False, False, False, False,\n",
       "                    False, False, False, False, False, False, False, False,\n",
       "                    False, False, False, False, False, False, False, False,\n",
       "                    False, False, False, False, False, False, False, False,\n",
       "                    False, False, False, False, False, False, False, False,\n",
       "                    False, False, False, False, False, False, False, False,\n",
       "                    False, False],\n",
       "        fill_value='?',\n",
       "             dtype=object),\n",
       " 'params': [{'n_estimators': 400,\n",
       "   'min_samples_split': 2,\n",
       "   'min_samples_leaf': 4,\n",
       "   'max_features': 'sqrt',\n",
       "   'max_depth': 50,\n",
       "   'bootstrap': False},\n",
       "  {'n_estimators': 200,\n",
       "   'min_samples_split': 10,\n",
       "   'min_samples_leaf': 1,\n",
       "   'max_features': 'sqrt',\n",
       "   'max_depth': 10,\n",
       "   'bootstrap': True},\n",
       "  {'n_estimators': 200,\n",
       "   'min_samples_split': 5,\n",
       "   'min_samples_leaf': 4,\n",
       "   'max_features': 'sqrt',\n",
       "   'max_depth': 40,\n",
       "   'bootstrap': True},\n",
       "  {'n_estimators': 200,\n",
       "   'min_samples_split': 2,\n",
       "   'min_samples_leaf': 2,\n",
       "   'max_features': 'sqrt',\n",
       "   'max_depth': 80,\n",
       "   'bootstrap': False},\n",
       "  {'n_estimators': 100,\n",
       "   'min_samples_split': 5,\n",
       "   'min_samples_leaf': 2,\n",
       "   'max_features': 'auto',\n",
       "   'max_depth': 90,\n",
       "   'bootstrap': False},\n",
       "  {'n_estimators': 400,\n",
       "   'min_samples_split': 5,\n",
       "   'min_samples_leaf': 4,\n",
       "   'max_features': 'sqrt',\n",
       "   'max_depth': 90,\n",
       "   'bootstrap': False},\n",
       "  {'n_estimators': 500,\n",
       "   'min_samples_split': 10,\n",
       "   'min_samples_leaf': 1,\n",
       "   'max_features': 'auto',\n",
       "   'max_depth': 60,\n",
       "   'bootstrap': True},\n",
       "  {'n_estimators': 500,\n",
       "   'min_samples_split': 5,\n",
       "   'min_samples_leaf': 1,\n",
       "   'max_features': 'sqrt',\n",
       "   'max_depth': 50,\n",
       "   'bootstrap': True},\n",
       "  {'n_estimators': 400,\n",
       "   'min_samples_split': 2,\n",
       "   'min_samples_leaf': 4,\n",
       "   'max_features': 'auto',\n",
       "   'max_depth': 80,\n",
       "   'bootstrap': False},\n",
       "  {'n_estimators': 500,\n",
       "   'min_samples_split': 5,\n",
       "   'min_samples_leaf': 2,\n",
       "   'max_features': 'sqrt',\n",
       "   'max_depth': 10,\n",
       "   'bootstrap': True},\n",
       "  {'n_estimators': 200,\n",
       "   'min_samples_split': 5,\n",
       "   'min_samples_leaf': 4,\n",
       "   'max_features': 'auto',\n",
       "   'max_depth': 20,\n",
       "   'bootstrap': False},\n",
       "  {'n_estimators': 400,\n",
       "   'min_samples_split': 5,\n",
       "   'min_samples_leaf': 4,\n",
       "   'max_features': 'sqrt',\n",
       "   'max_depth': 10,\n",
       "   'bootstrap': False},\n",
       "  {'n_estimators': 500,\n",
       "   'min_samples_split': 10,\n",
       "   'min_samples_leaf': 2,\n",
       "   'max_features': 'auto',\n",
       "   'max_depth': 50,\n",
       "   'bootstrap': False},\n",
       "  {'n_estimators': 300,\n",
       "   'min_samples_split': 5,\n",
       "   'min_samples_leaf': 2,\n",
       "   'max_features': 'sqrt',\n",
       "   'max_depth': 30,\n",
       "   'bootstrap': True},\n",
       "  {'n_estimators': 500,\n",
       "   'min_samples_split': 10,\n",
       "   'min_samples_leaf': 2,\n",
       "   'max_features': 'sqrt',\n",
       "   'max_depth': 80,\n",
       "   'bootstrap': False},\n",
       "  {'n_estimators': 200,\n",
       "   'min_samples_split': 2,\n",
       "   'min_samples_leaf': 2,\n",
       "   'max_features': 'auto',\n",
       "   'max_depth': 60,\n",
       "   'bootstrap': False},\n",
       "  {'n_estimators': 400,\n",
       "   'min_samples_split': 10,\n",
       "   'min_samples_leaf': 1,\n",
       "   'max_features': 'sqrt',\n",
       "   'max_depth': 40,\n",
       "   'bootstrap': False},\n",
       "  {'n_estimators': 300,\n",
       "   'min_samples_split': 10,\n",
       "   'min_samples_leaf': 2,\n",
       "   'max_features': 'auto',\n",
       "   'max_depth': 20,\n",
       "   'bootstrap': False},\n",
       "  {'n_estimators': 500,\n",
       "   'min_samples_split': 5,\n",
       "   'min_samples_leaf': 4,\n",
       "   'max_features': 'sqrt',\n",
       "   'max_depth': None,\n",
       "   'bootstrap': True},\n",
       "  {'n_estimators': 300,\n",
       "   'min_samples_split': 10,\n",
       "   'min_samples_leaf': 4,\n",
       "   'max_features': 'auto',\n",
       "   'max_depth': 70,\n",
       "   'bootstrap': True},\n",
       "  {'n_estimators': 300,\n",
       "   'min_samples_split': 10,\n",
       "   'min_samples_leaf': 2,\n",
       "   'max_features': 'sqrt',\n",
       "   'max_depth': 50,\n",
       "   'bootstrap': True},\n",
       "  {'n_estimators': 300,\n",
       "   'min_samples_split': 10,\n",
       "   'min_samples_leaf': 1,\n",
       "   'max_features': 'auto',\n",
       "   'max_depth': 60,\n",
       "   'bootstrap': True},\n",
       "  {'n_estimators': 300,\n",
       "   'min_samples_split': 2,\n",
       "   'min_samples_leaf': 1,\n",
       "   'max_features': 'sqrt',\n",
       "   'max_depth': 40,\n",
       "   'bootstrap': False},\n",
       "  {'n_estimators': 200,\n",
       "   'min_samples_split': 5,\n",
       "   'min_samples_leaf': 4,\n",
       "   'max_features': 'sqrt',\n",
       "   'max_depth': 20,\n",
       "   'bootstrap': False},\n",
       "  {'n_estimators': 100,\n",
       "   'min_samples_split': 2,\n",
       "   'min_samples_leaf': 4,\n",
       "   'max_features': 'auto',\n",
       "   'max_depth': 30,\n",
       "   'bootstrap': False},\n",
       "  {'n_estimators': 400,\n",
       "   'min_samples_split': 5,\n",
       "   'min_samples_leaf': 4,\n",
       "   'max_features': 'sqrt',\n",
       "   'max_depth': 60,\n",
       "   'bootstrap': False},\n",
       "  {'n_estimators': 500,\n",
       "   'min_samples_split': 10,\n",
       "   'min_samples_leaf': 4,\n",
       "   'max_features': 'sqrt',\n",
       "   'max_depth': 90,\n",
       "   'bootstrap': True},\n",
       "  {'n_estimators': 300,\n",
       "   'min_samples_split': 2,\n",
       "   'min_samples_leaf': 4,\n",
       "   'max_features': 'sqrt',\n",
       "   'max_depth': 60,\n",
       "   'bootstrap': False},\n",
       "  {'n_estimators': 400,\n",
       "   'min_samples_split': 5,\n",
       "   'min_samples_leaf': 1,\n",
       "   'max_features': 'auto',\n",
       "   'max_depth': 70,\n",
       "   'bootstrap': True},\n",
       "  {'n_estimators': 100,\n",
       "   'min_samples_split': 10,\n",
       "   'min_samples_leaf': 1,\n",
       "   'max_features': 'auto',\n",
       "   'max_depth': 80,\n",
       "   'bootstrap': False},\n",
       "  {'n_estimators': 200,\n",
       "   'min_samples_split': 5,\n",
       "   'min_samples_leaf': 1,\n",
       "   'max_features': 'sqrt',\n",
       "   'max_depth': 30,\n",
       "   'bootstrap': True},\n",
       "  {'n_estimators': 400,\n",
       "   'min_samples_split': 2,\n",
       "   'min_samples_leaf': 2,\n",
       "   'max_features': 'sqrt',\n",
       "   'max_depth': 80,\n",
       "   'bootstrap': True},\n",
       "  {'n_estimators': 100,\n",
       "   'min_samples_split': 10,\n",
       "   'min_samples_leaf': 4,\n",
       "   'max_features': 'sqrt',\n",
       "   'max_depth': 50,\n",
       "   'bootstrap': False},\n",
       "  {'n_estimators': 400,\n",
       "   'min_samples_split': 5,\n",
       "   'min_samples_leaf': 1,\n",
       "   'max_features': 'auto',\n",
       "   'max_depth': 70,\n",
       "   'bootstrap': False},\n",
       "  {'n_estimators': 200,\n",
       "   'min_samples_split': 2,\n",
       "   'min_samples_leaf': 2,\n",
       "   'max_features': 'sqrt',\n",
       "   'max_depth': 90,\n",
       "   'bootstrap': True},\n",
       "  {'n_estimators': 100,\n",
       "   'min_samples_split': 5,\n",
       "   'min_samples_leaf': 4,\n",
       "   'max_features': 'auto',\n",
       "   'max_depth': 40,\n",
       "   'bootstrap': True},\n",
       "  {'n_estimators': 100,\n",
       "   'min_samples_split': 5,\n",
       "   'min_samples_leaf': 1,\n",
       "   'max_features': 'sqrt',\n",
       "   'max_depth': 10,\n",
       "   'bootstrap': False},\n",
       "  {'n_estimators': 500,\n",
       "   'min_samples_split': 5,\n",
       "   'min_samples_leaf': 4,\n",
       "   'max_features': 'auto',\n",
       "   'max_depth': 70,\n",
       "   'bootstrap': True},\n",
       "  {'n_estimators': 200,\n",
       "   'min_samples_split': 10,\n",
       "   'min_samples_leaf': 2,\n",
       "   'max_features': 'auto',\n",
       "   'max_depth': None,\n",
       "   'bootstrap': True},\n",
       "  {'n_estimators': 100,\n",
       "   'min_samples_split': 10,\n",
       "   'min_samples_leaf': 2,\n",
       "   'max_features': 'sqrt',\n",
       "   'max_depth': 10,\n",
       "   'bootstrap': True},\n",
       "  {'n_estimators': 400,\n",
       "   'min_samples_split': 5,\n",
       "   'min_samples_leaf': 4,\n",
       "   'max_features': 'auto',\n",
       "   'max_depth': 20,\n",
       "   'bootstrap': True},\n",
       "  {'n_estimators': 200,\n",
       "   'min_samples_split': 2,\n",
       "   'min_samples_leaf': 2,\n",
       "   'max_features': 'auto',\n",
       "   'max_depth': 70,\n",
       "   'bootstrap': False},\n",
       "  {'n_estimators': 300,\n",
       "   'min_samples_split': 5,\n",
       "   'min_samples_leaf': 1,\n",
       "   'max_features': 'sqrt',\n",
       "   'max_depth': None,\n",
       "   'bootstrap': False},\n",
       "  {'n_estimators': 200,\n",
       "   'min_samples_split': 10,\n",
       "   'min_samples_leaf': 4,\n",
       "   'max_features': 'auto',\n",
       "   'max_depth': 30,\n",
       "   'bootstrap': False},\n",
       "  {'n_estimators': 100,\n",
       "   'min_samples_split': 2,\n",
       "   'min_samples_leaf': 4,\n",
       "   'max_features': 'auto',\n",
       "   'max_depth': 50,\n",
       "   'bootstrap': False},\n",
       "  {'n_estimators': 200,\n",
       "   'min_samples_split': 5,\n",
       "   'min_samples_leaf': 4,\n",
       "   'max_features': 'auto',\n",
       "   'max_depth': None,\n",
       "   'bootstrap': True},\n",
       "  {'n_estimators': 300,\n",
       "   'min_samples_split': 5,\n",
       "   'min_samples_leaf': 4,\n",
       "   'max_features': 'sqrt',\n",
       "   'max_depth': None,\n",
       "   'bootstrap': False},\n",
       "  {'n_estimators': 500,\n",
       "   'min_samples_split': 10,\n",
       "   'min_samples_leaf': 1,\n",
       "   'max_features': 'auto',\n",
       "   'max_depth': 40,\n",
       "   'bootstrap': False},\n",
       "  {'n_estimators': 100,\n",
       "   'min_samples_split': 2,\n",
       "   'min_samples_leaf': 1,\n",
       "   'max_features': 'auto',\n",
       "   'max_depth': 30,\n",
       "   'bootstrap': False},\n",
       "  {'n_estimators': 300,\n",
       "   'min_samples_split': 5,\n",
       "   'min_samples_leaf': 4,\n",
       "   'max_features': 'auto',\n",
       "   'max_depth': 40,\n",
       "   'bootstrap': True}],\n",
       " 'split0_test_score': array([0.75488966, 0.75040004, 0.75715749, 0.74853512, 0.7492949 ,\n",
       "        0.75437163, 0.7557991 , 0.7514361 , 0.75494722, 0.74960572,\n",
       "        0.75843531, 0.74938699, 0.75294416, 0.754245  , 0.7528866 ,\n",
       "        0.74852361, 0.74944455, 0.75773309, 0.75724959, 0.75709993,\n",
       "        0.75634015, 0.75446372, 0.727054  , 0.75771006, 0.75436011,\n",
       "        0.75441767, 0.75689272, 0.75450977, 0.75058423, 0.74966328,\n",
       "        0.7521153 , 0.75399173, 0.75396871, 0.74028112, 0.75355428,\n",
       "        0.75608689, 0.7494906 , 0.75691574, 0.75582212, 0.74871931,\n",
       "        0.75845833, 0.74868477, 0.74001635, 0.75547676, 0.75476303,\n",
       "        0.75695028, 0.7544407 , 0.75022736, 0.73188898, 0.75705389]),\n",
       " 'split1_test_score': array([0.75650132, 0.75129796, 0.75808995, 0.75136703, 0.75141308,\n",
       "        0.75622503, 0.75713447, 0.7524031 , 0.75624806, 0.75043457,\n",
       "        0.75846984, 0.75011224, 0.75476303, 0.75623655, 0.7551199 ,\n",
       "        0.75041155, 0.75162029, 0.75921812, 0.75797484, 0.75773309,\n",
       "        0.75772157, 0.75606387, 0.72746843, 0.75909148, 0.7555113 ,\n",
       "        0.75628259, 0.75796332, 0.75630562, 0.75351975, 0.7512404 ,\n",
       "        0.75350824, 0.75596026, 0.75685819, 0.74138626, 0.75535013,\n",
       "        0.75752587, 0.75013526, 0.75800937, 0.75728412, 0.75054969,\n",
       "        0.76000092, 0.75086051, 0.74183522, 0.75635166, 0.75586817,\n",
       "        0.7585274 , 0.75632864, 0.75188507, 0.73277539, 0.75838926]),\n",
       " 'split2_test_score': array([0.75727261, 0.75006619, 0.75931021, 0.75000863, 0.75121738,\n",
       "        0.7572611 , 0.7569733 , 0.75221891, 0.75757192, 0.75035399,\n",
       "        0.76000092, 0.75035399, 0.75482059, 0.75705389, 0.7550278 ,\n",
       "        0.75060725, 0.7513325 , 0.75972464, 0.75904544, 0.75884974,\n",
       "        0.75788274, 0.75669702, 0.72754901, 0.75963254, 0.7569733 ,\n",
       "        0.7568697 , 0.75857345, 0.75758343, 0.75300172, 0.75018131,\n",
       "        0.75391115, 0.75563793, 0.75720354, 0.7418122 , 0.7559027 ,\n",
       "        0.75846984, 0.74951362, 0.75841229, 0.75758343, 0.74946758,\n",
       "        0.7600815 , 0.75076842, 0.74247988, 0.75718052, 0.7568697 ,\n",
       "        0.75906846, 0.75668551, 0.75112528, 0.73270632, 0.7586195 ]),\n",
       " 'mean_test_score': array([0.7562212 , 0.75058806, 0.75818589, 0.74997026, 0.75064179,\n",
       "        0.75595259, 0.75663562, 0.75201937, 0.75625573, 0.75013143,\n",
       "        0.75896869, 0.74995107, 0.75417592, 0.75584514, 0.75434476,\n",
       "        0.74984747, 0.75079911, 0.75889195, 0.75808995, 0.75789425,\n",
       "        0.75731482, 0.75574154, 0.72735715, 0.75881136, 0.75561491,\n",
       "        0.75585665, 0.75780983, 0.75613294, 0.75236856, 0.75036166,\n",
       "        0.75317823, 0.75519664, 0.75601015, 0.74115986, 0.75493571,\n",
       "        0.75736087, 0.74971316, 0.75777913, 0.75689656, 0.74957886,\n",
       "        0.75951359, 0.75010457, 0.74144382, 0.75633631, 0.75583363,\n",
       "        0.75818205, 0.75581828, 0.75107924, 0.7324569 , 0.75802088]),\n",
       " 'std_test_score': array([0.0009928 , 0.00052015, 0.00088146, 0.00115644, 0.00095574,\n",
       "        0.00119525, 0.00059516, 0.00041923, 0.00107154, 0.00037318,\n",
       "        0.00073003, 0.00041089, 0.00087131, 0.00117965, 0.00103177,\n",
       "        0.00093952, 0.000965  , 0.00084513, 0.00073766, 0.00072339,\n",
       "        0.00069233, 0.0009398 , 0.00021687, 0.00080946, 0.00106934,\n",
       "        0.00104536, 0.00069469, 0.00126074, 0.00127932, 0.00065637,\n",
       "        0.00076939, 0.0008621 , 0.00145038, 0.00064523, 0.00100252,\n",
       "        0.00097981, 0.00029862, 0.00063228, 0.00076951, 0.00075138,\n",
       "        0.0007469 , 0.00100465, 0.00104312, 0.00069564, 0.00086039,\n",
       "        0.00089856, 0.00098493, 0.00067754, 0.00040257, 0.0006902 ]),\n",
       " 'rank_test_score': array([18, 38,  5, 42, 37, 21, 15, 34, 17, 40,  2, 43, 31, 23, 30, 44, 36,\n",
       "         3,  7,  9, 13, 26, 50,  4, 27, 22, 10, 19, 33, 39, 32, 28, 20, 48,\n",
       "        29, 12, 45, 11, 14, 46,  1, 41, 47, 16, 24,  6, 25, 35, 49,  8])}"
      ]
     },
     "execution_count": 49,
     "metadata": {},
     "output_type": "execute_result"
    }
   ],
   "source": [
    "rf_basic_hpt_random.cv_results_"
   ]
  },
  {
   "cell_type": "code",
   "execution_count": 64,
   "id": "e4d37c0c",
   "metadata": {},
   "outputs": [],
   "source": [
    "best_param = rf_basic_hpt_random.best_params_\n",
    "best_model = rf_basic_hpt_random.best_estimator_"
   ]
  },
  {
   "cell_type": "code",
   "execution_count": 60,
   "id": "392f7eb4",
   "metadata": {},
   "outputs": [
    {
     "name": "stderr",
     "output_type": "stream",
     "text": [
      "[Parallel(n_jobs=-1)]: Using backend ThreadingBackend with 16 concurrent workers.\n",
      "[Parallel(n_jobs=-1)]: Done  18 tasks      | elapsed:    1.4s\n",
      "[Parallel(n_jobs=-1)]: Done 168 tasks      | elapsed:    8.6s\n",
      "[Parallel(n_jobs=-1)]: Done 400 out of 400 | elapsed:   19.5s finished\n"
     ]
    },
    {
     "data": {
      "text/plain": [
       "RandomForestClassifier(max_depth=20, min_samples_leaf=4, min_samples_split=5,\n",
       "                       n_estimators=400, n_jobs=-1, verbose=1)"
      ]
     },
     "execution_count": 60,
     "metadata": {},
     "output_type": "execute_result"
    }
   ],
   "source": [
    "# n_iter = 50 with cv = 3 gave: {'n_estimators': 400, 'min_samples_split': 5, 'min_samples_leaf': 4, 'max_features': 'auto', 'max_depth': 20, 'bootstrap': True}\n",
    "best_model = RandomForestClassifier(n_estimators = 400, \n",
    "                                    max_features = 'auto',\n",
    "                                    max_depth = 20,\n",
    "                                    min_samples_split = 5,\n",
    "                                    min_samples_leaf = 4,\n",
    "                                    bootstrap = True,\n",
    "                                    verbose = 1,\n",
    "                                    n_jobs = -1)\n",
    "best_model.fit(X_train1, y_train1)"
   ]
  },
  {
   "cell_type": "code",
   "execution_count": 61,
   "id": "afe01ea9",
   "metadata": {},
   "outputs": [
    {
     "name": "stderr",
     "output_type": "stream",
     "text": [
      "[Parallel(n_jobs=16)]: Using backend ThreadingBackend with 16 concurrent workers.\n",
      "[Parallel(n_jobs=16)]: Done  18 tasks      | elapsed:    0.0s\n",
      "[Parallel(n_jobs=16)]: Done 168 tasks      | elapsed:    0.2s\n"
     ]
    },
    {
     "name": "stdout",
     "output_type": "stream",
     "text": [
      "micro f1 cross val: 0.7592637597370205\n"
     ]
    },
    {
     "name": "stderr",
     "output_type": "stream",
     "text": [
      "[Parallel(n_jobs=16)]: Done 400 out of 400 | elapsed:    0.7s finished\n"
     ]
    }
   ],
   "source": [
    "y_pred = best_model.predict(X_val)\n",
    "score = f1_score(y_val, y_pred, average='micro')\n",
    "print('micro f1 cross val:', score)"
   ]
  },
  {
   "cell_type": "code",
   "execution_count": 62,
   "id": "250a717a",
   "metadata": {},
   "outputs": [
    {
     "name": "stdout",
     "output_type": "stream",
     "text": [
      "              precision    recall  f1-score   support\n",
      "\n",
      "           0       0.71      0.55      0.62      7582\n",
      "           1       0.76      0.86      0.80     44420\n",
      "           2       0.77      0.66      0.71     26179\n",
      "\n",
      "    accuracy                           0.76     78181\n",
      "   macro avg       0.75      0.69      0.71     78181\n",
      "weighted avg       0.76      0.76      0.75     78181\n",
      "\n"
     ]
    }
   ],
   "source": [
    "print(classification_report(y_val, y_pred))"
   ]
  },
  {
   "cell_type": "code",
   "execution_count": 63,
   "id": "c25b28e4",
   "metadata": {},
   "outputs": [
    {
     "name": "stderr",
     "output_type": "stream",
     "text": [
      "[Parallel(n_jobs=16)]: Using backend ThreadingBackend with 16 concurrent workers.\n",
      "[Parallel(n_jobs=16)]: Done  18 tasks      | elapsed:    0.0s\n",
      "[Parallel(n_jobs=16)]: Done 168 tasks      | elapsed:    0.3s\n",
      "[Parallel(n_jobs=16)]: Done 400 out of 400 | elapsed:    0.7s finished\n"
     ]
    }
   ],
   "source": [
    "# Predict test data\n",
    "y_test = best_model.predict(X_test)"
   ]
  },
  {
   "cell_type": "code",
   "execution_count": 64,
   "id": "f9f3701a",
   "metadata": {},
   "outputs": [
    {
     "data": {
      "text/html": [
       "<div>\n",
       "<style scoped>\n",
       "    .dataframe tbody tr th:only-of-type {\n",
       "        vertical-align: middle;\n",
       "    }\n",
       "\n",
       "    .dataframe tbody tr th {\n",
       "        vertical-align: top;\n",
       "    }\n",
       "\n",
       "    .dataframe thead th {\n",
       "        text-align: right;\n",
       "    }\n",
       "</style>\n",
       "<table border=\"1\" class=\"dataframe\">\n",
       "  <thead>\n",
       "    <tr style=\"text-align: right;\">\n",
       "      <th></th>\n",
       "      <th>building_id</th>\n",
       "      <th>damage_grade</th>\n",
       "    </tr>\n",
       "  </thead>\n",
       "  <tbody>\n",
       "    <tr>\n",
       "      <th>0</th>\n",
       "      <td>300051</td>\n",
       "      <td>3</td>\n",
       "    </tr>\n",
       "    <tr>\n",
       "      <th>1</th>\n",
       "      <td>99355</td>\n",
       "      <td>2</td>\n",
       "    </tr>\n",
       "    <tr>\n",
       "      <th>2</th>\n",
       "      <td>890251</td>\n",
       "      <td>3</td>\n",
       "    </tr>\n",
       "    <tr>\n",
       "      <th>3</th>\n",
       "      <td>745817</td>\n",
       "      <td>1</td>\n",
       "    </tr>\n",
       "    <tr>\n",
       "      <th>4</th>\n",
       "      <td>421793</td>\n",
       "      <td>3</td>\n",
       "    </tr>\n",
       "    <tr>\n",
       "      <th>...</th>\n",
       "      <td>...</td>\n",
       "      <td>...</td>\n",
       "    </tr>\n",
       "    <tr>\n",
       "      <th>86863</th>\n",
       "      <td>310028</td>\n",
       "      <td>2</td>\n",
       "    </tr>\n",
       "    <tr>\n",
       "      <th>86864</th>\n",
       "      <td>663567</td>\n",
       "      <td>3</td>\n",
       "    </tr>\n",
       "    <tr>\n",
       "      <th>86865</th>\n",
       "      <td>1049160</td>\n",
       "      <td>2</td>\n",
       "    </tr>\n",
       "    <tr>\n",
       "      <th>86866</th>\n",
       "      <td>442785</td>\n",
       "      <td>2</td>\n",
       "    </tr>\n",
       "    <tr>\n",
       "      <th>86867</th>\n",
       "      <td>501372</td>\n",
       "      <td>1</td>\n",
       "    </tr>\n",
       "  </tbody>\n",
       "</table>\n",
       "<p>86868 rows × 2 columns</p>\n",
       "</div>"
      ],
      "text/plain": [
       "       building_id  damage_grade\n",
       "0           300051             3\n",
       "1            99355             2\n",
       "2           890251             3\n",
       "3           745817             1\n",
       "4           421793             3\n",
       "...            ...           ...\n",
       "86863       310028             2\n",
       "86864       663567             3\n",
       "86865      1049160             2\n",
       "86866       442785             2\n",
       "86867       501372             1\n",
       "\n",
       "[86868 rows x 2 columns]"
      ]
     },
     "execution_count": 64,
     "metadata": {},
     "output_type": "execute_result"
    }
   ],
   "source": [
    "pred_df = pd.DataFrame(test['building_id'])\n",
    "pred_df.loc[:,'damage_grade'] = y_test + 1\n",
    "pred_df"
   ]
  },
  {
   "cell_type": "code",
   "execution_count": 65,
   "id": "4c77aad8",
   "metadata": {},
   "outputs": [],
   "source": [
    "pred_df.to_csv('Predictions/rf_basic_hpt.csv',index=False)"
   ]
  },
  {
   "cell_type": "code",
   "execution_count": 66,
   "id": "443d406a",
   "metadata": {},
   "outputs": [
    {
     "name": "stderr",
     "output_type": "stream",
     "text": [
      "[Parallel(n_jobs=-1)]: Using backend ThreadingBackend with 16 concurrent workers.\n",
      "[Parallel(n_jobs=-1)]: Done  18 tasks      | elapsed:    1.5s\n",
      "[Parallel(n_jobs=-1)]: Done 168 tasks      | elapsed:    9.0s\n",
      "[Parallel(n_jobs=-1)]: Done 400 out of 400 | elapsed:   20.6s finished\n",
      "[Parallel(n_jobs=-1)]: Using backend ThreadingBackend with 16 concurrent workers.\n",
      "[Parallel(n_jobs=-1)]: Done  18 tasks      | elapsed:    1.3s\n",
      "[Parallel(n_jobs=-1)]: Done 168 tasks      | elapsed:    8.2s\n",
      "[Parallel(n_jobs=-1)]: Done 400 out of 400 | elapsed:   19.2s finished\n"
     ]
    }
   ],
   "source": [
    "rf_ordinal_hpt_random = OrdinalClassifier(best_model)\n",
    "rf_ordinal_hpt_random.fit(X_train1, y_train1)"
   ]
  },
  {
   "cell_type": "code",
   "execution_count": 67,
   "id": "23ecdb2a",
   "metadata": {},
   "outputs": [
    {
     "name": "stderr",
     "output_type": "stream",
     "text": [
      "[Parallel(n_jobs=16)]: Using backend ThreadingBackend with 16 concurrent workers.\n",
      "[Parallel(n_jobs=16)]: Done  18 tasks      | elapsed:    0.0s\n",
      "[Parallel(n_jobs=16)]: Done 168 tasks      | elapsed:    0.2s\n",
      "[Parallel(n_jobs=16)]: Done 400 out of 400 | elapsed:    0.5s finished\n",
      "[Parallel(n_jobs=16)]: Using backend ThreadingBackend with 16 concurrent workers.\n",
      "[Parallel(n_jobs=16)]: Done  18 tasks      | elapsed:    0.0s\n",
      "[Parallel(n_jobs=16)]: Done 168 tasks      | elapsed:    0.2s\n"
     ]
    },
    {
     "name": "stdout",
     "output_type": "stream",
     "text": [
      "micro f1 cross val: 0.759724229672171\n"
     ]
    },
    {
     "name": "stderr",
     "output_type": "stream",
     "text": [
      "[Parallel(n_jobs=16)]: Done 400 out of 400 | elapsed:    0.6s finished\n"
     ]
    }
   ],
   "source": [
    "y_pred = rf_ordinal_hpt_random.predict(X_val)\n",
    "score = f1_score(y_val, y_pred, average='micro')\n",
    "print('micro f1 cross val:', score)"
   ]
  },
  {
   "cell_type": "code",
   "execution_count": 68,
   "id": "87a08687",
   "metadata": {},
   "outputs": [
    {
     "name": "stdout",
     "output_type": "stream",
     "text": [
      "              precision    recall  f1-score   support\n",
      "\n",
      "           0       0.70      0.56      0.62      7582\n",
      "           1       0.76      0.85      0.80     44420\n",
      "           2       0.77      0.66      0.71     26179\n",
      "\n",
      "    accuracy                           0.76     78181\n",
      "   macro avg       0.75      0.69      0.71     78181\n",
      "weighted avg       0.76      0.76      0.76     78181\n",
      "\n"
     ]
    }
   ],
   "source": [
    "print(classification_report(y_val, y_pred))"
   ]
  },
  {
   "cell_type": "code",
   "execution_count": 69,
   "id": "bb08f956",
   "metadata": {},
   "outputs": [
    {
     "name": "stderr",
     "output_type": "stream",
     "text": [
      "[Parallel(n_jobs=16)]: Using backend ThreadingBackend with 16 concurrent workers.\n",
      "[Parallel(n_jobs=16)]: Done  18 tasks      | elapsed:    0.0s\n",
      "[Parallel(n_jobs=16)]: Done 168 tasks      | elapsed:    0.2s\n",
      "[Parallel(n_jobs=16)]: Done 400 out of 400 | elapsed:    0.5s finished\n",
      "[Parallel(n_jobs=16)]: Using backend ThreadingBackend with 16 concurrent workers.\n",
      "[Parallel(n_jobs=16)]: Done  18 tasks      | elapsed:    0.0s\n",
      "[Parallel(n_jobs=16)]: Done 168 tasks      | elapsed:    0.2s\n",
      "[Parallel(n_jobs=16)]: Done 400 out of 400 | elapsed:    0.6s finished\n"
     ]
    }
   ],
   "source": [
    "# Predict test data\n",
    "y_test = rf_ordinal_hpt_random.predict(X_test)"
   ]
  },
  {
   "cell_type": "code",
   "execution_count": 70,
   "id": "b8397b54",
   "metadata": {},
   "outputs": [
    {
     "data": {
      "text/html": [
       "<div>\n",
       "<style scoped>\n",
       "    .dataframe tbody tr th:only-of-type {\n",
       "        vertical-align: middle;\n",
       "    }\n",
       "\n",
       "    .dataframe tbody tr th {\n",
       "        vertical-align: top;\n",
       "    }\n",
       "\n",
       "    .dataframe thead th {\n",
       "        text-align: right;\n",
       "    }\n",
       "</style>\n",
       "<table border=\"1\" class=\"dataframe\">\n",
       "  <thead>\n",
       "    <tr style=\"text-align: right;\">\n",
       "      <th></th>\n",
       "      <th>building_id</th>\n",
       "      <th>damage_grade</th>\n",
       "    </tr>\n",
       "  </thead>\n",
       "  <tbody>\n",
       "    <tr>\n",
       "      <th>0</th>\n",
       "      <td>300051</td>\n",
       "      <td>3</td>\n",
       "    </tr>\n",
       "    <tr>\n",
       "      <th>1</th>\n",
       "      <td>99355</td>\n",
       "      <td>2</td>\n",
       "    </tr>\n",
       "    <tr>\n",
       "      <th>2</th>\n",
       "      <td>890251</td>\n",
       "      <td>3</td>\n",
       "    </tr>\n",
       "    <tr>\n",
       "      <th>3</th>\n",
       "      <td>745817</td>\n",
       "      <td>1</td>\n",
       "    </tr>\n",
       "    <tr>\n",
       "      <th>4</th>\n",
       "      <td>421793</td>\n",
       "      <td>3</td>\n",
       "    </tr>\n",
       "    <tr>\n",
       "      <th>...</th>\n",
       "      <td>...</td>\n",
       "      <td>...</td>\n",
       "    </tr>\n",
       "    <tr>\n",
       "      <th>86863</th>\n",
       "      <td>310028</td>\n",
       "      <td>2</td>\n",
       "    </tr>\n",
       "    <tr>\n",
       "      <th>86864</th>\n",
       "      <td>663567</td>\n",
       "      <td>3</td>\n",
       "    </tr>\n",
       "    <tr>\n",
       "      <th>86865</th>\n",
       "      <td>1049160</td>\n",
       "      <td>2</td>\n",
       "    </tr>\n",
       "    <tr>\n",
       "      <th>86866</th>\n",
       "      <td>442785</td>\n",
       "      <td>2</td>\n",
       "    </tr>\n",
       "    <tr>\n",
       "      <th>86867</th>\n",
       "      <td>501372</td>\n",
       "      <td>1</td>\n",
       "    </tr>\n",
       "  </tbody>\n",
       "</table>\n",
       "<p>86868 rows × 2 columns</p>\n",
       "</div>"
      ],
      "text/plain": [
       "       building_id  damage_grade\n",
       "0           300051             3\n",
       "1            99355             2\n",
       "2           890251             3\n",
       "3           745817             1\n",
       "4           421793             3\n",
       "...            ...           ...\n",
       "86863       310028             2\n",
       "86864       663567             3\n",
       "86865      1049160             2\n",
       "86866       442785             2\n",
       "86867       501372             1\n",
       "\n",
       "[86868 rows x 2 columns]"
      ]
     },
     "execution_count": 70,
     "metadata": {},
     "output_type": "execute_result"
    }
   ],
   "source": [
    "pred_df = pd.DataFrame(test['building_id'])\n",
    "pred_df.loc[:,'damage_grade'] = y_test + 1\n",
    "pred_df"
   ]
  },
  {
   "cell_type": "code",
   "execution_count": 71,
   "id": "1fb23d94",
   "metadata": {},
   "outputs": [],
   "source": [
    "pred_df.to_csv('Predictions/rf_ordinal_hpt.csv',index=False)"
   ]
  },
  {
   "cell_type": "markdown",
   "id": "1e8383b8",
   "metadata": {},
   "source": [
    "### XGBoost"
   ]
  },
  {
   "cell_type": "code",
   "execution_count": 72,
   "id": "bd0e40cc",
   "metadata": {},
   "outputs": [],
   "source": [
    "from xgboost import XGBClassifier"
   ]
  },
  {
   "cell_type": "code",
   "execution_count": 73,
   "id": "ce3a337e",
   "metadata": {},
   "outputs": [],
   "source": [
    "X_train = train_lbl_selected_fts.copy()\n",
    "X_train.drop(columns = ['building_id', 'damage_grade'], inplace = True)\n",
    "\n",
    "X_test = test_selected_fts.copy()\n",
    "X_test.drop(columns = ['building_id'], inplace = True)\n",
    "\n",
    "y_train = train_lbl_selected_fts.iloc[:, -1] - 1 # substract 1 to normalize labels to range [0, 2]\n",
    "y_train = list(y_train)\n",
    "\n",
    "X_train1, X_val, y_train1, y_val = train_test_split(X_train, y_train, test_size = 0.3)"
   ]
  },
  {
   "cell_type": "code",
   "execution_count": 74,
   "id": "d3570380",
   "metadata": {},
   "outputs": [
    {
     "name": "stdout",
     "output_type": "stream",
     "text": [
      "micro f1 cross val: 0.7610544761514945\n"
     ]
    }
   ],
   "source": [
    "# create model using train_test_split\n",
    "xgboost_basic = XGBClassifier(objective='multi:softmax', eval_metric='mlogloss', use_label_encoder=False)\n",
    "\n",
    "xgboost_basic.fit(X_train1, y_train1, eval_metric = 'mlogloss', verbose = False)\n",
    "y_pred = xgboost_basic.predict(X_val)\n",
    "score = f1_score(y_val, y_pred, average='micro')\n",
    "print('micro f1 cross val:', score)"
   ]
  },
  {
   "cell_type": "code",
   "execution_count": 75,
   "id": "f83472e2",
   "metadata": {},
   "outputs": [
    {
     "name": "stdout",
     "output_type": "stream",
     "text": [
      "              precision    recall  f1-score   support\n",
      "\n",
      "           0       0.69      0.59      0.64      7539\n",
      "           1       0.77      0.84      0.80     44567\n",
      "           2       0.77      0.67      0.71     26075\n",
      "\n",
      "    accuracy                           0.76     78181\n",
      "   macro avg       0.74      0.70      0.72     78181\n",
      "weighted avg       0.76      0.76      0.76     78181\n",
      "\n"
     ]
    }
   ],
   "source": [
    "print(classification_report(y_val, y_pred))"
   ]
  },
  {
   "cell_type": "code",
   "execution_count": 76,
   "id": "e70fb1e5",
   "metadata": {},
   "outputs": [
    {
     "data": {
      "image/png": "[encoded data removed]",
      "text/plain": [
       "<Figure size 1152x504 with 2 Axes>"
      ]
     },
     "metadata": {
      "needs_background": "light"
     },
     "output_type": "display_data"
    }
   ],
   "source": [
    "# confusion matrix\n",
    "matrix = confusion_matrix(y_val, y_pred)\n",
    "matrix = matrix.astype('float') / matrix.sum(axis=1)[:, np.newaxis]\n",
    "\n",
    "# Build the plot\n",
    "plt.figure(figsize=(16,7))\n",
    "sns.set(font_scale=1.4)\n",
    "sns.heatmap(matrix, annot=True, annot_kws={'size':10},\n",
    "            cmap=plt.cm.Greens, linewidths=0.2)\n",
    "\n",
    "# Add labels to the plot\n",
    "class_names = ['Low damage', 'Medium damage', 'High damage']\n",
    "tick_marks = np.arange(len(class_names))\n",
    "tick_marks2 = tick_marks + 0.5\n",
    "plt.xticks(tick_marks, class_names, rotation=25)\n",
    "plt.yticks(tick_marks2, class_names, rotation=0)\n",
    "plt.xlabel('Predicted label')\n",
    "plt.ylabel('True label')\n",
    "plt.title('Confusion Matrix for XG BOOST Model')\n",
    "plt.show()"
   ]
  },
  {
   "cell_type": "code",
   "execution_count": 77,
   "id": "e1c74792",
   "metadata": {},
   "outputs": [],
   "source": [
    "# Predict test data\n",
    "y_test = xgboost_basic.predict(X_test)"
   ]
  },
  {
   "cell_type": "code",
   "execution_count": 78,
   "id": "8b4b7565",
   "metadata": {},
   "outputs": [
    {
     "data": {
      "text/html": [
       "<div>\n",
       "<style scoped>\n",
       "    .dataframe tbody tr th:only-of-type {\n",
       "        vertical-align: middle;\n",
       "    }\n",
       "\n",
       "    .dataframe tbody tr th {\n",
       "        vertical-align: top;\n",
       "    }\n",
       "\n",
       "    .dataframe thead th {\n",
       "        text-align: right;\n",
       "    }\n",
       "</style>\n",
       "<table border=\"1\" class=\"dataframe\">\n",
       "  <thead>\n",
       "    <tr style=\"text-align: right;\">\n",
       "      <th></th>\n",
       "      <th>building_id</th>\n",
       "      <th>damage_grade</th>\n",
       "    </tr>\n",
       "  </thead>\n",
       "  <tbody>\n",
       "    <tr>\n",
       "      <th>0</th>\n",
       "      <td>300051</td>\n",
       "      <td>3</td>\n",
       "    </tr>\n",
       "    <tr>\n",
       "      <th>1</th>\n",
       "      <td>99355</td>\n",
       "      <td>2</td>\n",
       "    </tr>\n",
       "    <tr>\n",
       "      <th>2</th>\n",
       "      <td>890251</td>\n",
       "      <td>2</td>\n",
       "    </tr>\n",
       "    <tr>\n",
       "      <th>3</th>\n",
       "      <td>745817</td>\n",
       "      <td>1</td>\n",
       "    </tr>\n",
       "    <tr>\n",
       "      <th>4</th>\n",
       "      <td>421793</td>\n",
       "      <td>3</td>\n",
       "    </tr>\n",
       "    <tr>\n",
       "      <th>...</th>\n",
       "      <td>...</td>\n",
       "      <td>...</td>\n",
       "    </tr>\n",
       "    <tr>\n",
       "      <th>86863</th>\n",
       "      <td>310028</td>\n",
       "      <td>2</td>\n",
       "    </tr>\n",
       "    <tr>\n",
       "      <th>86864</th>\n",
       "      <td>663567</td>\n",
       "      <td>3</td>\n",
       "    </tr>\n",
       "    <tr>\n",
       "      <th>86865</th>\n",
       "      <td>1049160</td>\n",
       "      <td>2</td>\n",
       "    </tr>\n",
       "    <tr>\n",
       "      <th>86866</th>\n",
       "      <td>442785</td>\n",
       "      <td>2</td>\n",
       "    </tr>\n",
       "    <tr>\n",
       "      <th>86867</th>\n",
       "      <td>501372</td>\n",
       "      <td>1</td>\n",
       "    </tr>\n",
       "  </tbody>\n",
       "</table>\n",
       "<p>86868 rows × 2 columns</p>\n",
       "</div>"
      ],
      "text/plain": [
       "       building_id  damage_grade\n",
       "0           300051             3\n",
       "1            99355             2\n",
       "2           890251             2\n",
       "3           745817             1\n",
       "4           421793             3\n",
       "...            ...           ...\n",
       "86863       310028             2\n",
       "86864       663567             3\n",
       "86865      1049160             2\n",
       "86866       442785             2\n",
       "86867       501372             1\n",
       "\n",
       "[86868 rows x 2 columns]"
      ]
     },
     "execution_count": 78,
     "metadata": {},
     "output_type": "execute_result"
    }
   ],
   "source": [
    "pred_df = pd.DataFrame(test['building_id'])\n",
    "pred_df.loc[:,'damage_grade'] = y_test + 1\n",
    "pred_df"
   ]
  },
  {
   "cell_type": "code",
   "execution_count": 79,
   "id": "4665e28a",
   "metadata": {},
   "outputs": [],
   "source": [
    "pred_df.to_csv('Predictions/xgboost_basic.csv',index=False)"
   ]
  },
  {
   "cell_type": "markdown",
   "id": "e236123f",
   "metadata": {},
   "source": [
    "### Hypertuned XGBoost"
   ]
  },
  {
   "cell_type": "code",
   "execution_count": 80,
   "id": "0576360a",
   "metadata": {},
   "outputs": [],
   "source": [
    "X_train = train_lbl_selected_fts.copy()\n",
    "X_train.drop(columns = ['building_id', 'damage_grade'], inplace = True)\n",
    "\n",
    "X_test = test_selected_fts.copy()\n",
    "X_test.drop(columns = ['building_id'], inplace = True)\n",
    "\n",
    "y_train = train_lbl_selected_fts.iloc[:, -1] - 1 # substract 1 to normalize labels to range [0, 2]\n",
    "y_train = list(y_train)\n",
    "\n",
    "X_train1, X_val, y_train1, y_val = train_test_split(X_train, y_train, test_size = 0.3)"
   ]
  },
  {
   "cell_type": "code",
   "execution_count": 83,
   "id": "29251825",
   "metadata": {},
   "outputs": [],
   "source": [
    "space = {'eta': hp.uniform('eta', 0.001, 0.2), # 0.001, 0.5\n",
    "         'gamma': hp.uniform('gamma', 0, 9), # 0, 9\n",
    "         'n_estimators': hp.uniform('n_estimators', 100, 200), # 100, 200\n",
    "         'reg_lambda': hp.uniform('reg_lambda', 0, 1), # 0, 1\n",
    "         #'max_depth': hp.quniform('max_depth', 4, 8, 1), # TUNE WITH CV\n",
    "         #'seed': 0\n",
    "         #'min_child_weight': hp.quniform('min_child_weight', 0, 5, 1), # TUNE WITH CV\n",
    "         #'colsample_bytree': hp.uniform('colsample_bytree', 0.5,1),\n",
    "         #'reg_alpha' : hp.quniform('reg_alpha', 40,180,1),\n",
    "        }\n",
    "\n",
    "# fit_params = {'eval_set': evaluation, 'eval_metric': 'mlogloss', 'early_stopping_rounds': 10, 'verbose': False}\n",
    "\n",
    "def objective(space):\n",
    "    clf = XGBClassifier(eta = space['eta'],\n",
    "                        gamma = space['gamma'],\n",
    "                        n_estimators = int(space['n_estimators']),\n",
    "                        reg_lambda = space['reg_lambda'],\n",
    "                        use_label_encoder=False, # labels are already encoded\n",
    "                        #max_depth = int(space['max_depth']),\n",
    "                        #min_child_weight=int(space['min_child_weight']),\n",
    "                        #colsample_bytree=int(space['colsample_bytree']),\n",
    "                        #reg_alpha = int(space['reg_alpha']),\n",
    "                       )\n",
    "                        \n",
    "    evaluation = [(X_train1, y_train1), (X_val, y_val)]\n",
    "    \n",
    "    # f1_micro evaluation score\n",
    "    clf.fit(X_train1, y_train1,\n",
    "            eval_set=evaluation,\n",
    "            eval_metric='mlogloss',\n",
    "            early_stopping_rounds=10,\n",
    "            verbose=False\n",
    "           )\n",
    "    pred = clf.predict(X_val)\n",
    "    score = f1_score(y_val, pred, average = 'micro')\n",
    "    print (\"SCORE:\", score)\n",
    "    return {'loss': -score, 'status': STATUS_OK }"
   ]
  },
  {
   "cell_type": "code",
   "execution_count": 84,
   "id": "b1dceec4",
   "metadata": {
    "scrolled": true
   },
   "outputs": [
    {
     "name": "stdout",
     "output_type": "stream",
     "text": [
      "SCORE:                                                                                                                 \n",
      "0.7614765735920492                                                                                                     \n",
      "SCORE:                                                                                                                 \n",
      "0.7624870492830739                                                                                                     \n",
      "SCORE:                                                                                                                 \n",
      "0.7602870262595771                                                                                                     \n",
      "SCORE:                                                                                                                 \n",
      "0.7584195648559113                                                                                                     \n",
      "SCORE:                                                                                                                 \n",
      "0.7605812153848122                                                                                                     \n",
      "SCORE:                                                                                                                 \n",
      "0.7604533070694925                                                                                                     \n",
      "SCORE:                                                                                                                 \n",
      "0.7614765735920492                                                                                                     \n",
      "SCORE:                                                                                                                 \n",
      "0.7614765735920492                                                                                                     \n",
      "SCORE:                                                                                                                 \n",
      "0.7628451925659687                                                                                                     \n",
      "SCORE:                                                                                                                 \n",
      "0.7628707742290326                                                                                                     \n",
      "SCORE:                                                                                                                 \n",
      "0.7602486537649813                                                                                                     \n",
      "SCORE:                                                                                                                 \n",
      "0.7626405392614574                                                                                                     \n",
      "SCORE:                                                                                                                 \n",
      "0.7626533300929892                                                                                                     \n",
      "SCORE:                                                                                                                 \n",
      "0.7629858917128203                                                                                                     \n",
      "SCORE:                                                                                                                 \n",
      "0.7578695591000371                                                                                                     \n",
      "SCORE:                                                                                                                 \n",
      "0.7604916795640885                                                                                                     \n",
      "SCORE:                                                                                                                 \n",
      "0.7628579833975005                                                                                                     \n",
      "SCORE:                                                                                                                 \n",
      "0.7627044934191171                                                                                                     \n",
      "SCORE:                                                                                                                 \n",
      "0.7630114733758842                                                                                                     \n",
      "SCORE:                                                                                                                 \n",
      "0.7607219145316637                                                                                                     \n",
      "SCORE:                                                                                                                 \n",
      "0.7624742584515419                                                                                                     \n",
      "SCORE:                                                                                                                 \n",
      "0.7612847111190698                                                                                                     \n",
      "SCORE:                                                                                                                 \n",
      "0.7627812384083089                                                                                                     \n",
      "SCORE:                                                                                                                 \n",
      "0.762448676788478                                                                                                      \n",
      "SCORE:                                                                                                                 \n",
      "0.7619754160217955                                                                                                     \n",
      "100%|███████████████████████████████████████████████| 25/25 [08:33<00:00, 20.55s/trial, best loss: -0.7630114733758842]\n"
     ]
    }
   ],
   "source": [
    "trials = Trials()\n",
    "\n",
    "best_hyperparams = fmin(fn = objective,\n",
    "                        space = space,\n",
    "                        algo = tpe.suggest,\n",
    "                        max_evals = 25, # 25 gives good results, needs 12.5 min to run; more never bad\n",
    "                        trials = trials)"
   ]
  },
  {
   "cell_type": "code",
   "execution_count": 85,
   "id": "187b83fa",
   "metadata": {},
   "outputs": [
    {
     "name": "stdout",
     "output_type": "stream",
     "text": [
      "The best hyperparameters are :  \n",
      "\n",
      "{'eta': 0.1433612999617697, 'gamma': 0.5688161605576953, 'n_estimators': 153.34948103469924, 'reg_lambda': 0.1510991702875506}\n"
     ]
    }
   ],
   "source": [
    "print(\"The best hyperparameters are : \",\"\\n\")\n",
    "print(best_hyperparams)\n",
    "\n",
    "# 25 training rounds gave f1 score of 0.77819419 with \n",
    "# {'eta': 0.1433612999617697, 'gamma': 0.5688161605576953, 'n_estimators': 153.34948103469924, 'reg_lambda': 0.1510991702875506}"
   ]
  },
  {
   "cell_type": "code",
   "execution_count": 87,
   "id": "e0409de8",
   "metadata": {},
   "outputs": [
    {
     "data": {
      "text/plain": [
       "XGBClassifier(base_score=0.5, booster='gbtree', colsample_bylevel=1,\n",
       "              colsample_bynode=1, colsample_bytree=1, enable_categorical=False,\n",
       "              eta=0.1433612999617697, eval_metric='mlogloss',\n",
       "              gamma=0.5688161605576953, gpu_id=-1, importance_type=None,\n",
       "              interaction_constraints='', learning_rate=0.1433613,\n",
       "              max_delta_step=0, max_depth=6, min_child_weight=1, missing=nan,\n",
       "              monotone_constraints='()', n_estimators=153, n_jobs=16,\n",
       "              num_parallel_tree=1, objective='multi:softprob', predictor='auto',\n",
       "              random_state=0, reg_alpha=0, reg_lambda=0.1510991702875506,\n",
       "              scale_pos_weight=None, subsample=1, tree_method='exact',\n",
       "              use_label_encoder=False, ...)"
      ]
     },
     "execution_count": 87,
     "metadata": {},
     "output_type": "execute_result"
    }
   ],
   "source": [
    "# take hypertuned parameters and train model on FULL training set\n",
    "xgboost_hpt = XGBClassifier(objective='multiclass:softmax', eval_metric='mlogloss',\n",
    "                            eta = best_hyperparams['eta'],\n",
    "                            gamma = best_hyperparams['gamma'],\n",
    "                            n_estimators = int(best_hyperparams['n_estimators']),\n",
    "                            reg_lambda = best_hyperparams['reg_lambda'],\n",
    "                            use_label_encoder = False, # labels are already encoded\n",
    "                            #max_depth = space['max_depth'],\n",
    "                            #min_child_weight=int(space['min_child_weight']),\n",
    "                            #colsample_bytree=int(space['colsample_bytree']),\n",
    "                            #reg_alpha = int(space['reg_alpha']),\n",
    "                           )\n",
    "xgboost_hpt.fit(X_train1, y_train1)"
   ]
  },
  {
   "cell_type": "code",
   "execution_count": 88,
   "id": "7577f5fb",
   "metadata": {},
   "outputs": [
    {
     "name": "stdout",
     "output_type": "stream",
     "text": [
      "micro f1 cross val: 0.7630114733758842\n"
     ]
    }
   ],
   "source": [
    "xgboost_hpt.fit(X_train1, y_train1)\n",
    "\n",
    "y_pred = xgboost_hpt.predict(X_val)\n",
    "score = f1_score(y_val, y_pred, average='micro')\n",
    "print('micro f1 cross val:', score)"
   ]
  },
  {
   "cell_type": "code",
   "execution_count": 89,
   "id": "3765cb8f",
   "metadata": {},
   "outputs": [
    {
     "name": "stdout",
     "output_type": "stream",
     "text": [
      "              precision    recall  f1-score   support\n",
      "\n",
      "           0       0.70      0.58      0.63      7529\n",
      "           1       0.77      0.85      0.81     44716\n",
      "           2       0.77      0.67      0.72     25936\n",
      "\n",
      "    accuracy                           0.76     78181\n",
      "   macro avg       0.74      0.70      0.72     78181\n",
      "weighted avg       0.76      0.76      0.76     78181\n",
      "\n"
     ]
    }
   ],
   "source": [
    "print(classification_report(y_val, y_pred))"
   ]
  },
  {
   "cell_type": "code",
   "execution_count": 90,
   "id": "ff6d73f6",
   "metadata": {},
   "outputs": [],
   "source": [
    "# Predict test data (of simple model, no validation, no class weights)\n",
    "y_test = xgboost_hpt.predict(X_test)"
   ]
  },
  {
   "cell_type": "code",
   "execution_count": 91,
   "id": "84572492",
   "metadata": {},
   "outputs": [
    {
     "data": {
      "text/html": [
       "<div>\n",
       "<style scoped>\n",
       "    .dataframe tbody tr th:only-of-type {\n",
       "        vertical-align: middle;\n",
       "    }\n",
       "\n",
       "    .dataframe tbody tr th {\n",
       "        vertical-align: top;\n",
       "    }\n",
       "\n",
       "    .dataframe thead th {\n",
       "        text-align: right;\n",
       "    }\n",
       "</style>\n",
       "<table border=\"1\" class=\"dataframe\">\n",
       "  <thead>\n",
       "    <tr style=\"text-align: right;\">\n",
       "      <th></th>\n",
       "      <th>building_id</th>\n",
       "      <th>damage_grade</th>\n",
       "    </tr>\n",
       "  </thead>\n",
       "  <tbody>\n",
       "    <tr>\n",
       "      <th>0</th>\n",
       "      <td>300051</td>\n",
       "      <td>3</td>\n",
       "    </tr>\n",
       "    <tr>\n",
       "      <th>1</th>\n",
       "      <td>99355</td>\n",
       "      <td>2</td>\n",
       "    </tr>\n",
       "    <tr>\n",
       "      <th>2</th>\n",
       "      <td>890251</td>\n",
       "      <td>2</td>\n",
       "    </tr>\n",
       "    <tr>\n",
       "      <th>3</th>\n",
       "      <td>745817</td>\n",
       "      <td>1</td>\n",
       "    </tr>\n",
       "    <tr>\n",
       "      <th>4</th>\n",
       "      <td>421793</td>\n",
       "      <td>3</td>\n",
       "    </tr>\n",
       "    <tr>\n",
       "      <th>...</th>\n",
       "      <td>...</td>\n",
       "      <td>...</td>\n",
       "    </tr>\n",
       "    <tr>\n",
       "      <th>86863</th>\n",
       "      <td>310028</td>\n",
       "      <td>2</td>\n",
       "    </tr>\n",
       "    <tr>\n",
       "      <th>86864</th>\n",
       "      <td>663567</td>\n",
       "      <td>3</td>\n",
       "    </tr>\n",
       "    <tr>\n",
       "      <th>86865</th>\n",
       "      <td>1049160</td>\n",
       "      <td>2</td>\n",
       "    </tr>\n",
       "    <tr>\n",
       "      <th>86866</th>\n",
       "      <td>442785</td>\n",
       "      <td>2</td>\n",
       "    </tr>\n",
       "    <tr>\n",
       "      <th>86867</th>\n",
       "      <td>501372</td>\n",
       "      <td>1</td>\n",
       "    </tr>\n",
       "  </tbody>\n",
       "</table>\n",
       "<p>86868 rows × 2 columns</p>\n",
       "</div>"
      ],
      "text/plain": [
       "       building_id  damage_grade\n",
       "0           300051             3\n",
       "1            99355             2\n",
       "2           890251             2\n",
       "3           745817             1\n",
       "4           421793             3\n",
       "...            ...           ...\n",
       "86863       310028             2\n",
       "86864       663567             3\n",
       "86865      1049160             2\n",
       "86866       442785             2\n",
       "86867       501372             1\n",
       "\n",
       "[86868 rows x 2 columns]"
      ]
     },
     "execution_count": 91,
     "metadata": {},
     "output_type": "execute_result"
    }
   ],
   "source": [
    "pred_df = pd.DataFrame(test['building_id'])\n",
    "pred_df.loc[:,'damage_grade'] = y_test + 1\n",
    "pred_df"
   ]
  },
  {
   "cell_type": "code",
   "execution_count": 92,
   "id": "bc95e7d7",
   "metadata": {},
   "outputs": [
    {
     "data": {
      "text/plain": [
       "2    54497\n",
       "3    25347\n",
       "1     7024\n",
       "Name: damage_grade, dtype: int64"
      ]
     },
     "execution_count": 92,
     "metadata": {},
     "output_type": "execute_result"
    }
   ],
   "source": [
    "pred_df['damage_grade'].value_counts()"
   ]
  },
  {
   "cell_type": "code",
   "execution_count": 93,
   "id": "8073c215",
   "metadata": {},
   "outputs": [],
   "source": [
    "pred_df.to_csv('Predictions/xgboost_hypertuned.csv',index=False)"
   ]
  },
  {
   "cell_type": "markdown",
   "id": "53aaba8d",
   "metadata": {},
   "source": [
    "### CatBoost"
   ]
  },
  {
   "cell_type": "code",
   "execution_count": 94,
   "id": "a35f4cbb",
   "metadata": {},
   "outputs": [],
   "source": [
    "from catboost import CatBoostClassifier"
   ]
  },
  {
   "cell_type": "code",
   "execution_count": 100,
   "id": "8a6519ca",
   "metadata": {},
   "outputs": [],
   "source": [
    "X_train = train_lbl_selected_fts.copy()\n",
    "X_train.drop(columns = ['building_id', 'damage_grade'], inplace = True)\n",
    "\n",
    "X_test = test_selected_fts.copy()\n",
    "X_test.drop(columns = ['building_id'], inplace = True)\n",
    "\n",
    "y_train = train_lbl_selected_fts.iloc[:, -1] - 1 # substract 1 to normalize labels to range [0, 2]\n",
    "y_train = list(y_train)\n",
    "\n",
    "X_train1, X_val, y_train1, y_val = train_test_split(X_train, y_train, test_size = 0.3)"
   ]
  },
  {
   "cell_type": "code",
   "execution_count": 101,
   "id": "5aa6ede6",
   "metadata": {
    "scrolled": true
   },
   "outputs": [
    {
     "data": {
      "application/vnd.jupyter.widget-view+json": {
       "model_id": "b63ae5b8503d4dcc98357e7ffa05d3f6",
       "version_major": 2,
       "version_minor": 0
      },
      "text/plain": [
       "MetricVisualizer(layout=Layout(align_self='stretch', height='500px'))"
      ]
     },
     "metadata": {},
     "output_type": "display_data"
    },
    {
     "name": "stdout",
     "output_type": "stream",
     "text": [
      "0:\ttest: 0.8977337\tbest: 0.8977337 (0)\ttotal: 104ms\tremaining: 41.6s\n",
      "1:\ttest: 0.9033880\tbest: 0.9033880 (1)\ttotal: 211ms\tremaining: 42s\n",
      "2:\ttest: 0.9057592\tbest: 0.9057592 (2)\ttotal: 316ms\tremaining: 41.8s\n",
      "3:\ttest: 0.9097562\tbest: 0.9097562 (3)\ttotal: 423ms\tremaining: 41.8s\n",
      "4:\ttest: 0.9114943\tbest: 0.9114943 (4)\ttotal: 532ms\tremaining: 42s\n",
      "5:\ttest: 0.9136209\tbest: 0.9136209 (5)\ttotal: 643ms\tremaining: 42.3s\n",
      "6:\ttest: 0.9150468\tbest: 0.9150468 (6)\ttotal: 756ms\tremaining: 42.4s\n",
      "7:\ttest: 0.9163041\tbest: 0.9163041 (7)\ttotal: 860ms\tremaining: 42.1s\n",
      "8:\ttest: 0.9172926\tbest: 0.9172926 (8)\ttotal: 967ms\tremaining: 42s\n",
      "9:\ttest: 0.9187845\tbest: 0.9187845 (9)\ttotal: 1.08s\tremaining: 42.2s\n",
      "10:\ttest: 0.9198714\tbest: 0.9198714 (10)\ttotal: 1.19s\tremaining: 42.1s\n",
      "11:\ttest: 0.9211832\tbest: 0.9211832 (11)\ttotal: 1.29s\tremaining: 41.9s\n",
      "12:\ttest: 0.9222335\tbest: 0.9222335 (12)\ttotal: 1.4s\tremaining: 41.7s\n",
      "13:\ttest: 0.9231730\tbest: 0.9231730 (13)\ttotal: 1.51s\tremaining: 41.6s\n",
      "14:\ttest: 0.9239489\tbest: 0.9239489 (14)\ttotal: 1.61s\tremaining: 41.5s\n",
      "15:\ttest: 0.9245793\tbest: 0.9245793 (15)\ttotal: 1.72s\tremaining: 41.3s\n",
      "16:\ttest: 0.9255288\tbest: 0.9255288 (16)\ttotal: 1.83s\tremaining: 41.2s\n",
      "17:\ttest: 0.9265455\tbest: 0.9265455 (17)\ttotal: 1.94s\tremaining: 41.2s\n",
      "18:\ttest: 0.9269737\tbest: 0.9269737 (18)\ttotal: 2.05s\tremaining: 41.1s\n",
      "19:\ttest: 0.9273741\tbest: 0.9273741 (19)\ttotal: 2.15s\tremaining: 40.9s\n",
      "20:\ttest: 0.9278523\tbest: 0.9278523 (20)\ttotal: 2.26s\tremaining: 40.8s\n",
      "21:\ttest: 0.9284624\tbest: 0.9284624 (21)\ttotal: 2.37s\tremaining: 40.8s\n",
      "22:\ttest: 0.9289063\tbest: 0.9289063 (22)\ttotal: 2.48s\tremaining: 40.7s\n",
      "23:\ttest: 0.9292327\tbest: 0.9292327 (23)\ttotal: 2.59s\tremaining: 40.5s\n",
      "24:\ttest: 0.9295542\tbest: 0.9295542 (24)\ttotal: 2.7s\tremaining: 40.5s\n",
      "25:\ttest: 0.9299457\tbest: 0.9299457 (25)\ttotal: 2.81s\tremaining: 40.4s\n",
      "26:\ttest: 0.9302941\tbest: 0.9302941 (26)\ttotal: 2.91s\tremaining: 40.2s\n",
      "27:\ttest: 0.9305612\tbest: 0.9305612 (27)\ttotal: 3.02s\tremaining: 40.1s\n",
      "28:\ttest: 0.9308311\tbest: 0.9308311 (28)\ttotal: 3.12s\tremaining: 40s\n",
      "29:\ttest: 0.9311805\tbest: 0.9311805 (29)\ttotal: 3.23s\tremaining: 39.9s\n",
      "30:\ttest: 0.9313400\tbest: 0.9313400 (30)\ttotal: 3.34s\tremaining: 39.7s\n",
      "31:\ttest: 0.9315481\tbest: 0.9315481 (31)\ttotal: 3.45s\tremaining: 39.7s\n",
      "32:\ttest: 0.9318091\tbest: 0.9318091 (32)\ttotal: 3.56s\tremaining: 39.5s\n",
      "33:\ttest: 0.9320054\tbest: 0.9320054 (33)\ttotal: 3.66s\tremaining: 39.4s\n",
      "34:\ttest: 0.9322038\tbest: 0.9322038 (34)\ttotal: 3.77s\tremaining: 39.4s\n",
      "35:\ttest: 0.9323732\tbest: 0.9323732 (35)\ttotal: 3.88s\tremaining: 39.2s\n",
      "36:\ttest: 0.9325082\tbest: 0.9325082 (36)\ttotal: 3.99s\tremaining: 39.1s\n",
      "37:\ttest: 0.9326427\tbest: 0.9326427 (37)\ttotal: 4.1s\tremaining: 39s\n",
      "38:\ttest: 0.9327031\tbest: 0.9327031 (38)\ttotal: 4.21s\tremaining: 38.9s\n",
      "39:\ttest: 0.9328039\tbest: 0.9328039 (39)\ttotal: 4.31s\tremaining: 38.8s\n",
      "40:\ttest: 0.9329552\tbest: 0.9329552 (40)\ttotal: 4.42s\tremaining: 38.7s\n",
      "41:\ttest: 0.9330552\tbest: 0.9330552 (41)\ttotal: 4.53s\tremaining: 38.6s\n",
      "42:\ttest: 0.9331211\tbest: 0.9331211 (42)\ttotal: 4.64s\tremaining: 38.5s\n",
      "43:\ttest: 0.9332136\tbest: 0.9332136 (43)\ttotal: 4.75s\tremaining: 38.4s\n",
      "44:\ttest: 0.9332863\tbest: 0.9332863 (44)\ttotal: 4.85s\tremaining: 38.3s\n",
      "45:\ttest: 0.9333660\tbest: 0.9333660 (45)\ttotal: 4.96s\tremaining: 38.1s\n",
      "46:\ttest: 0.9334334\tbest: 0.9334334 (46)\ttotal: 5.07s\tremaining: 38.1s\n",
      "47:\ttest: 0.9335612\tbest: 0.9335612 (47)\ttotal: 5.17s\tremaining: 37.9s\n",
      "48:\ttest: 0.9336080\tbest: 0.9336080 (48)\ttotal: 5.28s\tremaining: 37.8s\n",
      "49:\ttest: 0.9336633\tbest: 0.9336633 (49)\ttotal: 5.38s\tremaining: 37.7s\n",
      "50:\ttest: 0.9337345\tbest: 0.9337345 (50)\ttotal: 5.5s\tremaining: 37.6s\n",
      "51:\ttest: 0.9338172\tbest: 0.9338172 (51)\ttotal: 5.61s\tremaining: 37.5s\n",
      "52:\ttest: 0.9338889\tbest: 0.9338889 (52)\ttotal: 5.71s\tremaining: 37.4s\n",
      "53:\ttest: 0.9339583\tbest: 0.9339583 (53)\ttotal: 5.82s\tremaining: 37.3s\n",
      "54:\ttest: 0.9340013\tbest: 0.9340013 (54)\ttotal: 5.93s\tremaining: 37.2s\n",
      "55:\ttest: 0.9340606\tbest: 0.9340606 (55)\ttotal: 6.03s\tremaining: 37s\n",
      "56:\ttest: 0.9340925\tbest: 0.9340925 (56)\ttotal: 6.13s\tremaining: 36.9s\n",
      "57:\ttest: 0.9341712\tbest: 0.9341712 (57)\ttotal: 6.24s\tremaining: 36.8s\n",
      "58:\ttest: 0.9342333\tbest: 0.9342333 (58)\ttotal: 6.35s\tremaining: 36.7s\n",
      "59:\ttest: 0.9343183\tbest: 0.9343183 (59)\ttotal: 6.46s\tremaining: 36.6s\n",
      "60:\ttest: 0.9343632\tbest: 0.9343632 (60)\ttotal: 6.57s\tremaining: 36.5s\n",
      "61:\ttest: 0.9344334\tbest: 0.9344334 (61)\ttotal: 6.67s\tremaining: 36.4s\n",
      "62:\ttest: 0.9344608\tbest: 0.9344608 (62)\ttotal: 6.78s\tremaining: 36.3s\n",
      "63:\ttest: 0.9345216\tbest: 0.9345216 (63)\ttotal: 6.89s\tremaining: 36.2s\n",
      "64:\ttest: 0.9345529\tbest: 0.9345529 (64)\ttotal: 7s\tremaining: 36.1s\n",
      "65:\ttest: 0.9345995\tbest: 0.9345995 (65)\ttotal: 7.11s\tremaining: 36s\n",
      "66:\ttest: 0.9346622\tbest: 0.9346622 (66)\ttotal: 7.22s\tremaining: 35.9s\n",
      "67:\ttest: 0.9347394\tbest: 0.9347394 (67)\ttotal: 7.32s\tremaining: 35.8s\n",
      "68:\ttest: 0.9347920\tbest: 0.9347920 (68)\ttotal: 7.43s\tremaining: 35.7s\n",
      "69:\ttest: 0.9348444\tbest: 0.9348444 (69)\ttotal: 7.54s\tremaining: 35.5s\n",
      "70:\ttest: 0.9348820\tbest: 0.9348820 (70)\ttotal: 7.64s\tremaining: 35.4s\n",
      "71:\ttest: 0.9349116\tbest: 0.9349116 (71)\ttotal: 7.75s\tremaining: 35.3s\n",
      "72:\ttest: 0.9349596\tbest: 0.9349596 (72)\ttotal: 7.86s\tremaining: 35.2s\n",
      "73:\ttest: 0.9349882\tbest: 0.9349882 (73)\ttotal: 7.97s\tremaining: 35.1s\n",
      "74:\ttest: 0.9350609\tbest: 0.9350609 (74)\ttotal: 8.07s\tremaining: 35s\n",
      "75:\ttest: 0.9350945\tbest: 0.9350945 (75)\ttotal: 8.18s\tremaining: 34.9s\n",
      "76:\ttest: 0.9351414\tbest: 0.9351414 (76)\ttotal: 8.29s\tremaining: 34.8s\n",
      "77:\ttest: 0.9351605\tbest: 0.9351605 (77)\ttotal: 8.4s\tremaining: 34.7s\n",
      "78:\ttest: 0.9351894\tbest: 0.9351894 (78)\ttotal: 8.51s\tremaining: 34.6s\n",
      "79:\ttest: 0.9352142\tbest: 0.9352142 (79)\ttotal: 8.62s\tremaining: 34.5s\n",
      "80:\ttest: 0.9352437\tbest: 0.9352437 (80)\ttotal: 8.73s\tremaining: 34.4s\n",
      "81:\ttest: 0.9352867\tbest: 0.9352867 (81)\ttotal: 8.84s\tremaining: 34.3s\n",
      "82:\ttest: 0.9353416\tbest: 0.9353416 (82)\ttotal: 8.94s\tremaining: 34.2s\n",
      "83:\ttest: 0.9353693\tbest: 0.9353693 (83)\ttotal: 9.05s\tremaining: 34s\n",
      "84:\ttest: 0.9353794\tbest: 0.9353794 (84)\ttotal: 9.15s\tremaining: 33.9s\n",
      "85:\ttest: 0.9354041\tbest: 0.9354041 (85)\ttotal: 9.26s\tremaining: 33.8s\n",
      "86:\ttest: 0.9354224\tbest: 0.9354224 (86)\ttotal: 9.37s\tremaining: 33.7s\n",
      "87:\ttest: 0.9354513\tbest: 0.9354513 (87)\ttotal: 9.47s\tremaining: 33.6s\n",
      "88:\ttest: 0.9354892\tbest: 0.9354892 (88)\ttotal: 9.58s\tremaining: 33.5s\n",
      "89:\ttest: 0.9354939\tbest: 0.9354939 (89)\ttotal: 9.69s\tremaining: 33.4s\n",
      "90:\ttest: 0.9355306\tbest: 0.9355306 (90)\ttotal: 9.79s\tremaining: 33.3s\n",
      "91:\ttest: 0.9355423\tbest: 0.9355423 (91)\ttotal: 9.9s\tremaining: 33.2s\n",
      "92:\ttest: 0.9355580\tbest: 0.9355580 (92)\ttotal: 10s\tremaining: 33s\n",
      "93:\ttest: 0.9355840\tbest: 0.9355840 (93)\ttotal: 10.1s\tremaining: 32.9s\n",
      "94:\ttest: 0.9355904\tbest: 0.9355904 (94)\ttotal: 10.2s\tremaining: 32.8s\n",
      "95:\ttest: 0.9356253\tbest: 0.9356253 (95)\ttotal: 10.3s\tremaining: 32.7s\n",
      "96:\ttest: 0.9356520\tbest: 0.9356520 (96)\ttotal: 10.4s\tremaining: 32.6s\n",
      "97:\ttest: 0.9356709\tbest: 0.9356709 (97)\ttotal: 10.5s\tremaining: 32.5s\n",
      "98:\ttest: 0.9356833\tbest: 0.9356833 (98)\ttotal: 10.7s\tremaining: 32.4s\n",
      "99:\ttest: 0.9356907\tbest: 0.9356907 (99)\ttotal: 10.8s\tremaining: 32.3s\n",
      "100:\ttest: 0.9357240\tbest: 0.9357240 (100)\ttotal: 10.9s\tremaining: 32.2s\n",
      "101:\ttest: 0.9357478\tbest: 0.9357478 (101)\ttotal: 11s\tremaining: 32.1s\n",
      "102:\ttest: 0.9357505\tbest: 0.9357505 (102)\ttotal: 11.1s\tremaining: 32s\n",
      "103:\ttest: 0.9357724\tbest: 0.9357724 (103)\ttotal: 11.2s\tremaining: 31.9s\n",
      "104:\ttest: 0.9357834\tbest: 0.9357834 (104)\ttotal: 11.3s\tremaining: 31.7s\n",
      "105:\ttest: 0.9357903\tbest: 0.9357903 (105)\ttotal: 11.4s\tremaining: 31.6s\n",
      "106:\ttest: 0.9358087\tbest: 0.9358087 (106)\ttotal: 11.5s\tremaining: 31.5s\n",
      "107:\ttest: 0.9358165\tbest: 0.9358165 (107)\ttotal: 11.6s\tremaining: 31.4s\n",
      "108:\ttest: 0.9358414\tbest: 0.9358414 (108)\ttotal: 11.7s\tremaining: 31.3s\n",
      "109:\ttest: 0.9358621\tbest: 0.9358621 (109)\ttotal: 11.8s\tremaining: 31.2s\n",
      "110:\ttest: 0.9359025\tbest: 0.9359025 (110)\ttotal: 11.9s\tremaining: 31.1s\n",
      "111:\ttest: 0.9359149\tbest: 0.9359149 (111)\ttotal: 12s\tremaining: 31s\n",
      "112:\ttest: 0.9359437\tbest: 0.9359437 (112)\ttotal: 12.2s\tremaining: 30.9s\n",
      "113:\ttest: 0.9359585\tbest: 0.9359585 (113)\ttotal: 12.3s\tremaining: 30.8s\n",
      "114:\ttest: 0.9359723\tbest: 0.9359723 (114)\ttotal: 12.4s\tremaining: 30.6s\n",
      "115:\ttest: 0.9359919\tbest: 0.9359919 (115)\ttotal: 12.5s\tremaining: 30.5s\n"
     ]
    },
    {
     "name": "stdout",
     "output_type": "stream",
     "text": [
      "116:\ttest: 0.9360002\tbest: 0.9360002 (116)\ttotal: 12.6s\tremaining: 30.4s\n",
      "117:\ttest: 0.9360285\tbest: 0.9360285 (117)\ttotal: 12.7s\tremaining: 30.3s\n",
      "118:\ttest: 0.9360429\tbest: 0.9360429 (118)\ttotal: 12.8s\tremaining: 30.2s\n",
      "119:\ttest: 0.9360568\tbest: 0.9360568 (119)\ttotal: 12.9s\tremaining: 30.1s\n",
      "120:\ttest: 0.9360779\tbest: 0.9360779 (120)\ttotal: 13s\tremaining: 30s\n",
      "121:\ttest: 0.9361228\tbest: 0.9361228 (121)\ttotal: 13.1s\tremaining: 29.9s\n",
      "122:\ttest: 0.9361257\tbest: 0.9361257 (122)\ttotal: 13.2s\tremaining: 29.8s\n",
      "123:\ttest: 0.9361360\tbest: 0.9361360 (123)\ttotal: 13.3s\tremaining: 29.7s\n",
      "124:\ttest: 0.9361466\tbest: 0.9361466 (124)\ttotal: 13.4s\tremaining: 29.6s\n",
      "125:\ttest: 0.9361543\tbest: 0.9361543 (125)\ttotal: 13.5s\tremaining: 29.5s\n",
      "126:\ttest: 0.9361526\tbest: 0.9361543 (125)\ttotal: 13.7s\tremaining: 29.4s\n",
      "127:\ttest: 0.9361620\tbest: 0.9361620 (127)\ttotal: 13.8s\tremaining: 29.3s\n",
      "128:\ttest: 0.9361677\tbest: 0.9361677 (128)\ttotal: 13.9s\tremaining: 29.2s\n",
      "129:\ttest: 0.9361871\tbest: 0.9361871 (129)\ttotal: 14s\tremaining: 29s\n",
      "130:\ttest: 0.9361967\tbest: 0.9361967 (130)\ttotal: 14.1s\tremaining: 28.9s\n",
      "131:\ttest: 0.9362213\tbest: 0.9362213 (131)\ttotal: 14.2s\tremaining: 28.8s\n",
      "132:\ttest: 0.9362432\tbest: 0.9362432 (132)\ttotal: 14.3s\tremaining: 28.7s\n",
      "133:\ttest: 0.9362457\tbest: 0.9362457 (133)\ttotal: 14.4s\tremaining: 28.6s\n",
      "134:\ttest: 0.9362717\tbest: 0.9362717 (134)\ttotal: 14.5s\tremaining: 28.5s\n",
      "135:\ttest: 0.9362778\tbest: 0.9362778 (135)\ttotal: 14.6s\tremaining: 28.4s\n",
      "136:\ttest: 0.9362853\tbest: 0.9362853 (136)\ttotal: 14.7s\tremaining: 28.3s\n",
      "137:\ttest: 0.9362915\tbest: 0.9362915 (137)\ttotal: 14.8s\tremaining: 28.2s\n",
      "138:\ttest: 0.9363072\tbest: 0.9363072 (138)\ttotal: 14.9s\tremaining: 28.1s\n",
      "139:\ttest: 0.9363179\tbest: 0.9363179 (139)\ttotal: 15s\tremaining: 27.9s\n",
      "140:\ttest: 0.9363225\tbest: 0.9363225 (140)\ttotal: 15.2s\tremaining: 27.8s\n",
      "141:\ttest: 0.9363431\tbest: 0.9363431 (141)\ttotal: 15.3s\tremaining: 27.7s\n",
      "142:\ttest: 0.9363686\tbest: 0.9363686 (142)\ttotal: 15.4s\tremaining: 27.6s\n",
      "143:\ttest: 0.9363773\tbest: 0.9363773 (143)\ttotal: 15.5s\tremaining: 27.5s\n",
      "144:\ttest: 0.9363960\tbest: 0.9363960 (144)\ttotal: 15.6s\tremaining: 27.4s\n",
      "145:\ttest: 0.9364066\tbest: 0.9364066 (145)\ttotal: 15.7s\tremaining: 27.3s\n",
      "146:\ttest: 0.9364239\tbest: 0.9364239 (146)\ttotal: 15.8s\tremaining: 27.2s\n",
      "147:\ttest: 0.9364275\tbest: 0.9364275 (147)\ttotal: 15.9s\tremaining: 27.1s\n",
      "148:\ttest: 0.9364352\tbest: 0.9364352 (148)\ttotal: 16s\tremaining: 27s\n",
      "149:\ttest: 0.9364427\tbest: 0.9364427 (149)\ttotal: 16.1s\tremaining: 26.9s\n",
      "150:\ttest: 0.9364470\tbest: 0.9364470 (150)\ttotal: 16.2s\tremaining: 26.8s\n",
      "151:\ttest: 0.9364624\tbest: 0.9364624 (151)\ttotal: 16.3s\tremaining: 26.7s\n",
      "152:\ttest: 0.9364914\tbest: 0.9364914 (152)\ttotal: 16.5s\tremaining: 26.6s\n",
      "153:\ttest: 0.9365077\tbest: 0.9365077 (153)\ttotal: 16.6s\tremaining: 26.5s\n",
      "154:\ttest: 0.9365130\tbest: 0.9365130 (154)\ttotal: 16.7s\tremaining: 26.4s\n",
      "155:\ttest: 0.9365350\tbest: 0.9365350 (155)\ttotal: 16.8s\tremaining: 26.2s\n",
      "156:\ttest: 0.9365563\tbest: 0.9365563 (156)\ttotal: 16.9s\tremaining: 26.1s\n",
      "157:\ttest: 0.9365665\tbest: 0.9365665 (157)\ttotal: 17s\tremaining: 26s\n",
      "158:\ttest: 0.9365784\tbest: 0.9365784 (158)\ttotal: 17.1s\tremaining: 25.9s\n",
      "159:\ttest: 0.9365912\tbest: 0.9365912 (159)\ttotal: 17.2s\tremaining: 25.8s\n",
      "160:\ttest: 0.9365985\tbest: 0.9365985 (160)\ttotal: 17.3s\tremaining: 25.7s\n",
      "161:\ttest: 0.9366136\tbest: 0.9366136 (161)\ttotal: 17.4s\tremaining: 25.6s\n",
      "162:\ttest: 0.9366159\tbest: 0.9366159 (162)\ttotal: 17.5s\tremaining: 25.5s\n",
      "163:\ttest: 0.9366316\tbest: 0.9366316 (163)\ttotal: 17.6s\tremaining: 25.4s\n",
      "164:\ttest: 0.9366394\tbest: 0.9366394 (164)\ttotal: 17.7s\tremaining: 25.3s\n",
      "165:\ttest: 0.9366561\tbest: 0.9366561 (165)\ttotal: 17.9s\tremaining: 25.2s\n",
      "166:\ttest: 0.9366664\tbest: 0.9366664 (166)\ttotal: 18s\tremaining: 25.1s\n",
      "167:\ttest: 0.9366805\tbest: 0.9366805 (167)\ttotal: 18.1s\tremaining: 24.9s\n",
      "168:\ttest: 0.9366813\tbest: 0.9366813 (168)\ttotal: 18.2s\tremaining: 24.8s\n",
      "169:\ttest: 0.9366866\tbest: 0.9366866 (169)\ttotal: 18.3s\tremaining: 24.7s\n",
      "170:\ttest: 0.9366902\tbest: 0.9366902 (170)\ttotal: 18.4s\tremaining: 24.6s\n",
      "171:\ttest: 0.9366889\tbest: 0.9366902 (170)\ttotal: 18.5s\tremaining: 24.5s\n",
      "172:\ttest: 0.9366973\tbest: 0.9366973 (172)\ttotal: 18.6s\tremaining: 24.4s\n",
      "173:\ttest: 0.9366984\tbest: 0.9366984 (173)\ttotal: 18.7s\tremaining: 24.3s\n",
      "174:\ttest: 0.9367066\tbest: 0.9367066 (174)\ttotal: 18.8s\tremaining: 24.2s\n",
      "175:\ttest: 0.9367132\tbest: 0.9367132 (175)\ttotal: 18.9s\tremaining: 24.1s\n",
      "176:\ttest: 0.9367182\tbest: 0.9367182 (176)\ttotal: 19s\tremaining: 24s\n",
      "177:\ttest: 0.9367194\tbest: 0.9367194 (177)\ttotal: 19.1s\tremaining: 23.9s\n",
      "178:\ttest: 0.9367248\tbest: 0.9367248 (178)\ttotal: 19.3s\tremaining: 23.8s\n",
      "179:\ttest: 0.9367256\tbest: 0.9367256 (179)\ttotal: 19.4s\tremaining: 23.7s\n",
      "180:\ttest: 0.9367411\tbest: 0.9367411 (180)\ttotal: 19.5s\tremaining: 23.5s\n",
      "181:\ttest: 0.9367421\tbest: 0.9367421 (181)\ttotal: 19.6s\tremaining: 23.4s\n",
      "182:\ttest: 0.9367392\tbest: 0.9367421 (181)\ttotal: 19.7s\tremaining: 23.3s\n",
      "183:\ttest: 0.9367457\tbest: 0.9367457 (183)\ttotal: 19.8s\tremaining: 23.2s\n",
      "184:\ttest: 0.9367459\tbest: 0.9367459 (184)\ttotal: 19.9s\tremaining: 23.1s\n",
      "185:\ttest: 0.9367577\tbest: 0.9367577 (185)\ttotal: 20s\tremaining: 23s\n",
      "186:\ttest: 0.9367672\tbest: 0.9367672 (186)\ttotal: 20.1s\tremaining: 22.9s\n",
      "187:\ttest: 0.9367677\tbest: 0.9367677 (187)\ttotal: 20.2s\tremaining: 22.8s\n",
      "188:\ttest: 0.9367638\tbest: 0.9367677 (187)\ttotal: 20.3s\tremaining: 22.7s\n",
      "189:\ttest: 0.9367590\tbest: 0.9367677 (187)\ttotal: 20.4s\tremaining: 22.6s\n",
      "190:\ttest: 0.9367671\tbest: 0.9367677 (187)\ttotal: 20.5s\tremaining: 22.5s\n",
      "191:\ttest: 0.9367691\tbest: 0.9367691 (191)\ttotal: 20.7s\tremaining: 22.4s\n",
      "192:\ttest: 0.9367861\tbest: 0.9367861 (192)\ttotal: 20.8s\tremaining: 22.3s\n",
      "193:\ttest: 0.9367944\tbest: 0.9367944 (193)\ttotal: 20.9s\tremaining: 22.2s\n",
      "194:\ttest: 0.9368041\tbest: 0.9368041 (194)\ttotal: 21s\tremaining: 22.1s\n",
      "195:\ttest: 0.9367982\tbest: 0.9368041 (194)\ttotal: 21.1s\tremaining: 22s\n",
      "196:\ttest: 0.9368078\tbest: 0.9368078 (196)\ttotal: 21.2s\tremaining: 21.9s\n",
      "197:\ttest: 0.9368297\tbest: 0.9368297 (197)\ttotal: 21.3s\tremaining: 21.7s\n",
      "198:\ttest: 0.9368338\tbest: 0.9368338 (198)\ttotal: 21.4s\tremaining: 21.6s\n",
      "199:\ttest: 0.9368442\tbest: 0.9368442 (199)\ttotal: 21.5s\tremaining: 21.5s\n",
      "200:\ttest: 0.9368506\tbest: 0.9368506 (200)\ttotal: 21.6s\tremaining: 21.4s\n",
      "201:\ttest: 0.9368559\tbest: 0.9368559 (201)\ttotal: 21.7s\tremaining: 21.3s\n",
      "202:\ttest: 0.9368631\tbest: 0.9368631 (202)\ttotal: 21.9s\tremaining: 21.2s\n",
      "203:\ttest: 0.9368612\tbest: 0.9368631 (202)\ttotal: 22s\tremaining: 21.1s\n",
      "204:\ttest: 0.9368594\tbest: 0.9368631 (202)\ttotal: 22.1s\tremaining: 21s\n",
      "205:\ttest: 0.9368652\tbest: 0.9368652 (205)\ttotal: 22.2s\tremaining: 20.9s\n",
      "206:\ttest: 0.9368661\tbest: 0.9368661 (206)\ttotal: 22.3s\tremaining: 20.8s\n",
      "207:\ttest: 0.9368700\tbest: 0.9368700 (207)\ttotal: 22.4s\tremaining: 20.7s\n",
      "208:\ttest: 0.9368718\tbest: 0.9368718 (208)\ttotal: 22.5s\tremaining: 20.6s\n",
      "209:\ttest: 0.9368715\tbest: 0.9368718 (208)\ttotal: 22.6s\tremaining: 20.5s\n",
      "210:\ttest: 0.9368720\tbest: 0.9368720 (210)\ttotal: 22.7s\tremaining: 20.3s\n",
      "211:\ttest: 0.9368693\tbest: 0.9368720 (210)\ttotal: 22.8s\tremaining: 20.2s\n",
      "212:\ttest: 0.9368833\tbest: 0.9368833 (212)\ttotal: 22.9s\tremaining: 20.1s\n",
      "213:\ttest: 0.9368891\tbest: 0.9368891 (213)\ttotal: 23s\tremaining: 20s\n",
      "214:\ttest: 0.9368900\tbest: 0.9368900 (214)\ttotal: 23.1s\tremaining: 19.9s\n",
      "215:\ttest: 0.9369077\tbest: 0.9369077 (215)\ttotal: 23.3s\tremaining: 19.8s\n",
      "216:\ttest: 0.9369051\tbest: 0.9369077 (215)\ttotal: 23.4s\tremaining: 19.7s\n",
      "217:\ttest: 0.9369097\tbest: 0.9369097 (217)\ttotal: 23.5s\tremaining: 19.6s\n",
      "218:\ttest: 0.9369101\tbest: 0.9369101 (218)\ttotal: 23.6s\tremaining: 19.5s\n",
      "219:\ttest: 0.9369154\tbest: 0.9369154 (219)\ttotal: 23.7s\tremaining: 19.4s\n",
      "220:\ttest: 0.9369253\tbest: 0.9369253 (220)\ttotal: 23.8s\tremaining: 19.3s\n",
      "221:\ttest: 0.9369193\tbest: 0.9369253 (220)\ttotal: 23.9s\tremaining: 19.2s\n",
      "222:\ttest: 0.9369185\tbest: 0.9369253 (220)\ttotal: 24s\tremaining: 19.1s\n",
      "223:\ttest: 0.9369205\tbest: 0.9369253 (220)\ttotal: 24.1s\tremaining: 18.9s\n",
      "224:\ttest: 0.9369222\tbest: 0.9369253 (220)\ttotal: 24.2s\tremaining: 18.8s\n",
      "225:\ttest: 0.9369226\tbest: 0.9369253 (220)\ttotal: 24.3s\tremaining: 18.7s\n",
      "226:\ttest: 0.9369371\tbest: 0.9369371 (226)\ttotal: 24.4s\tremaining: 18.6s\n",
      "227:\ttest: 0.9369467\tbest: 0.9369467 (227)\ttotal: 24.6s\tremaining: 18.5s\n",
      "228:\ttest: 0.9369403\tbest: 0.9369467 (227)\ttotal: 24.7s\tremaining: 18.4s\n"
     ]
    },
    {
     "name": "stdout",
     "output_type": "stream",
     "text": [
      "229:\ttest: 0.9369371\tbest: 0.9369467 (227)\ttotal: 24.8s\tremaining: 18.3s\n",
      "230:\ttest: 0.9369339\tbest: 0.9369467 (227)\ttotal: 24.9s\tremaining: 18.2s\n",
      "231:\ttest: 0.9369341\tbest: 0.9369467 (227)\ttotal: 25s\tremaining: 18.1s\n",
      "232:\ttest: 0.9369358\tbest: 0.9369467 (227)\ttotal: 25.1s\tremaining: 18s\n",
      "233:\ttest: 0.9369402\tbest: 0.9369467 (227)\ttotal: 25.2s\tremaining: 17.9s\n",
      "234:\ttest: 0.9369391\tbest: 0.9369467 (227)\ttotal: 25.3s\tremaining: 17.8s\n",
      "235:\ttest: 0.9369399\tbest: 0.9369467 (227)\ttotal: 25.4s\tremaining: 17.7s\n",
      "236:\ttest: 0.9369390\tbest: 0.9369467 (227)\ttotal: 25.5s\tremaining: 17.6s\n",
      "237:\ttest: 0.9369474\tbest: 0.9369474 (237)\ttotal: 25.6s\tremaining: 17.4s\n",
      "238:\ttest: 0.9369571\tbest: 0.9369571 (238)\ttotal: 25.7s\tremaining: 17.3s\n",
      "239:\ttest: 0.9369509\tbest: 0.9369571 (238)\ttotal: 25.9s\tremaining: 17.2s\n",
      "240:\ttest: 0.9369529\tbest: 0.9369571 (238)\ttotal: 26s\tremaining: 17.1s\n",
      "241:\ttest: 0.9369552\tbest: 0.9369571 (238)\ttotal: 26.1s\tremaining: 17s\n",
      "242:\ttest: 0.9369414\tbest: 0.9369571 (238)\ttotal: 26.2s\tremaining: 16.9s\n",
      "243:\ttest: 0.9369468\tbest: 0.9369571 (238)\ttotal: 26.3s\tremaining: 16.8s\n",
      "244:\ttest: 0.9369605\tbest: 0.9369605 (244)\ttotal: 26.4s\tremaining: 16.7s\n",
      "245:\ttest: 0.9369590\tbest: 0.9369605 (244)\ttotal: 26.5s\tremaining: 16.6s\n",
      "246:\ttest: 0.9369659\tbest: 0.9369659 (246)\ttotal: 26.6s\tremaining: 16.5s\n",
      "247:\ttest: 0.9369664\tbest: 0.9369664 (247)\ttotal: 26.7s\tremaining: 16.4s\n",
      "248:\ttest: 0.9369641\tbest: 0.9369664 (247)\ttotal: 26.9s\tremaining: 16.3s\n",
      "249:\ttest: 0.9369712\tbest: 0.9369712 (249)\ttotal: 27s\tremaining: 16.2s\n",
      "250:\ttest: 0.9369776\tbest: 0.9369776 (250)\ttotal: 27.1s\tremaining: 16.1s\n",
      "251:\ttest: 0.9369814\tbest: 0.9369814 (251)\ttotal: 27.2s\tremaining: 16s\n",
      "252:\ttest: 0.9369943\tbest: 0.9369943 (252)\ttotal: 27.3s\tremaining: 15.9s\n",
      "253:\ttest: 0.9370005\tbest: 0.9370005 (253)\ttotal: 27.4s\tremaining: 15.8s\n",
      "254:\ttest: 0.9370062\tbest: 0.9370062 (254)\ttotal: 27.5s\tremaining: 15.6s\n",
      "255:\ttest: 0.9370045\tbest: 0.9370062 (254)\ttotal: 27.6s\tremaining: 15.5s\n",
      "256:\ttest: 0.9370039\tbest: 0.9370062 (254)\ttotal: 27.7s\tremaining: 15.4s\n",
      "257:\ttest: 0.9370171\tbest: 0.9370171 (257)\ttotal: 27.8s\tremaining: 15.3s\n",
      "258:\ttest: 0.9370270\tbest: 0.9370270 (258)\ttotal: 28s\tremaining: 15.2s\n",
      "259:\ttest: 0.9370228\tbest: 0.9370270 (258)\ttotal: 28.1s\tremaining: 15.1s\n",
      "260:\ttest: 0.9370236\tbest: 0.9370270 (258)\ttotal: 28.2s\tremaining: 15s\n",
      "261:\ttest: 0.9370263\tbest: 0.9370270 (258)\ttotal: 28.3s\tremaining: 14.9s\n",
      "262:\ttest: 0.9370307\tbest: 0.9370307 (262)\ttotal: 28.4s\tremaining: 14.8s\n",
      "263:\ttest: 0.9370304\tbest: 0.9370307 (262)\ttotal: 28.5s\tremaining: 14.7s\n",
      "264:\ttest: 0.9370336\tbest: 0.9370336 (264)\ttotal: 28.6s\tremaining: 14.6s\n",
      "265:\ttest: 0.9370331\tbest: 0.9370336 (264)\ttotal: 28.7s\tremaining: 14.5s\n",
      "266:\ttest: 0.9370463\tbest: 0.9370463 (266)\ttotal: 28.8s\tremaining: 14.4s\n",
      "267:\ttest: 0.9370558\tbest: 0.9370558 (267)\ttotal: 28.9s\tremaining: 14.2s\n",
      "268:\ttest: 0.9370553\tbest: 0.9370558 (267)\ttotal: 29s\tremaining: 14.1s\n",
      "269:\ttest: 0.9370553\tbest: 0.9370558 (267)\ttotal: 29.1s\tremaining: 14s\n",
      "270:\ttest: 0.9370560\tbest: 0.9370560 (270)\ttotal: 29.2s\tremaining: 13.9s\n",
      "271:\ttest: 0.9370556\tbest: 0.9370560 (270)\ttotal: 29.3s\tremaining: 13.8s\n",
      "272:\ttest: 0.9370500\tbest: 0.9370560 (270)\ttotal: 29.5s\tremaining: 13.7s\n",
      "273:\ttest: 0.9370482\tbest: 0.9370560 (270)\ttotal: 29.6s\tremaining: 13.6s\n",
      "274:\ttest: 0.9370506\tbest: 0.9370560 (270)\ttotal: 29.7s\tremaining: 13.5s\n",
      "275:\ttest: 0.9370542\tbest: 0.9370560 (270)\ttotal: 29.8s\tremaining: 13.4s\n",
      "276:\ttest: 0.9370593\tbest: 0.9370593 (276)\ttotal: 29.9s\tremaining: 13.3s\n",
      "277:\ttest: 0.9370667\tbest: 0.9370667 (277)\ttotal: 30s\tremaining: 13.2s\n",
      "278:\ttest: 0.9370663\tbest: 0.9370667 (277)\ttotal: 30.1s\tremaining: 13.1s\n",
      "279:\ttest: 0.9370619\tbest: 0.9370667 (277)\ttotal: 30.2s\tremaining: 12.9s\n",
      "280:\ttest: 0.9370640\tbest: 0.9370667 (277)\ttotal: 30.3s\tremaining: 12.8s\n",
      "281:\ttest: 0.9370577\tbest: 0.9370667 (277)\ttotal: 30.4s\tremaining: 12.7s\n",
      "282:\ttest: 0.9370548\tbest: 0.9370667 (277)\ttotal: 30.5s\tremaining: 12.6s\n",
      "283:\ttest: 0.9370533\tbest: 0.9370667 (277)\ttotal: 30.6s\tremaining: 12.5s\n",
      "284:\ttest: 0.9370533\tbest: 0.9370667 (277)\ttotal: 30.7s\tremaining: 12.4s\n",
      "285:\ttest: 0.9370587\tbest: 0.9370667 (277)\ttotal: 30.9s\tremaining: 12.3s\n",
      "286:\ttest: 0.9370573\tbest: 0.9370667 (277)\ttotal: 31s\tremaining: 12.2s\n",
      "287:\ttest: 0.9370549\tbest: 0.9370667 (277)\ttotal: 31.1s\tremaining: 12.1s\n",
      "288:\ttest: 0.9370592\tbest: 0.9370667 (277)\ttotal: 31.2s\tremaining: 12s\n",
      "289:\ttest: 0.9370650\tbest: 0.9370667 (277)\ttotal: 31.3s\tremaining: 11.9s\n",
      "290:\ttest: 0.9370667\tbest: 0.9370667 (277)\ttotal: 31.4s\tremaining: 11.8s\n",
      "291:\ttest: 0.9370728\tbest: 0.9370728 (291)\ttotal: 31.5s\tremaining: 11.6s\n",
      "292:\ttest: 0.9370812\tbest: 0.9370812 (292)\ttotal: 31.6s\tremaining: 11.5s\n",
      "293:\ttest: 0.9370825\tbest: 0.9370825 (293)\ttotal: 31.7s\tremaining: 11.4s\n",
      "294:\ttest: 0.9370745\tbest: 0.9370825 (293)\ttotal: 31.8s\tremaining: 11.3s\n",
      "295:\ttest: 0.9370754\tbest: 0.9370825 (293)\ttotal: 31.9s\tremaining: 11.2s\n",
      "296:\ttest: 0.9370803\tbest: 0.9370825 (293)\ttotal: 32s\tremaining: 11.1s\n",
      "297:\ttest: 0.9370835\tbest: 0.9370835 (297)\ttotal: 32.1s\tremaining: 11s\n",
      "298:\ttest: 0.9370759\tbest: 0.9370835 (297)\ttotal: 32.3s\tremaining: 10.9s\n",
      "299:\ttest: 0.9370889\tbest: 0.9370889 (299)\ttotal: 32.4s\tremaining: 10.8s\n",
      "300:\ttest: 0.9370910\tbest: 0.9370910 (300)\ttotal: 32.5s\tremaining: 10.7s\n",
      "301:\ttest: 0.9370890\tbest: 0.9370910 (300)\ttotal: 32.6s\tremaining: 10.6s\n",
      "302:\ttest: 0.9370871\tbest: 0.9370910 (300)\ttotal: 32.7s\tremaining: 10.5s\n",
      "303:\ttest: 0.9370967\tbest: 0.9370967 (303)\ttotal: 32.8s\tremaining: 10.4s\n",
      "304:\ttest: 0.9370940\tbest: 0.9370967 (303)\ttotal: 32.9s\tremaining: 10.2s\n",
      "305:\ttest: 0.9370969\tbest: 0.9370969 (305)\ttotal: 33s\tremaining: 10.1s\n",
      "306:\ttest: 0.9370907\tbest: 0.9370969 (305)\ttotal: 33.1s\tremaining: 10s\n",
      "307:\ttest: 0.9370896\tbest: 0.9370969 (305)\ttotal: 33.2s\tremaining: 9.93s\n",
      "308:\ttest: 0.9370888\tbest: 0.9370969 (305)\ttotal: 33.3s\tremaining: 9.82s\n",
      "309:\ttest: 0.9370897\tbest: 0.9370969 (305)\ttotal: 33.4s\tremaining: 9.71s\n",
      "310:\ttest: 0.9370821\tbest: 0.9370969 (305)\ttotal: 33.6s\tremaining: 9.6s\n",
      "311:\ttest: 0.9370771\tbest: 0.9370969 (305)\ttotal: 33.7s\tremaining: 9.49s\n",
      "312:\ttest: 0.9370775\tbest: 0.9370969 (305)\ttotal: 33.8s\tremaining: 9.39s\n",
      "313:\ttest: 0.9370811\tbest: 0.9370969 (305)\ttotal: 33.9s\tremaining: 9.28s\n",
      "314:\ttest: 0.9370780\tbest: 0.9370969 (305)\ttotal: 34s\tremaining: 9.17s\n",
      "315:\ttest: 0.9370742\tbest: 0.9370969 (305)\ttotal: 34.1s\tremaining: 9.06s\n",
      "316:\ttest: 0.9370732\tbest: 0.9370969 (305)\ttotal: 34.2s\tremaining: 8.96s\n",
      "317:\ttest: 0.9370708\tbest: 0.9370969 (305)\ttotal: 34.3s\tremaining: 8.85s\n",
      "318:\ttest: 0.9370701\tbest: 0.9370969 (305)\ttotal: 34.4s\tremaining: 8.74s\n",
      "319:\ttest: 0.9370619\tbest: 0.9370969 (305)\ttotal: 34.5s\tremaining: 8.63s\n",
      "320:\ttest: 0.9370605\tbest: 0.9370969 (305)\ttotal: 34.6s\tremaining: 8.53s\n",
      "321:\ttest: 0.9370637\tbest: 0.9370969 (305)\ttotal: 34.8s\tremaining: 8.42s\n",
      "322:\ttest: 0.9370662\tbest: 0.9370969 (305)\ttotal: 34.9s\tremaining: 8.31s\n",
      "323:\ttest: 0.9370610\tbest: 0.9370969 (305)\ttotal: 35s\tremaining: 8.2s\n",
      "324:\ttest: 0.9370654\tbest: 0.9370969 (305)\ttotal: 35.1s\tremaining: 8.09s\n",
      "325:\ttest: 0.9370692\tbest: 0.9370969 (305)\ttotal: 35.2s\tremaining: 7.99s\n",
      "326:\ttest: 0.9370689\tbest: 0.9370969 (305)\ttotal: 35.3s\tremaining: 7.88s\n",
      "327:\ttest: 0.9370675\tbest: 0.9370969 (305)\ttotal: 35.4s\tremaining: 7.77s\n",
      "328:\ttest: 0.9370623\tbest: 0.9370969 (305)\ttotal: 35.5s\tremaining: 7.66s\n",
      "329:\ttest: 0.9370584\tbest: 0.9370969 (305)\ttotal: 35.6s\tremaining: 7.55s\n",
      "330:\ttest: 0.9370483\tbest: 0.9370969 (305)\ttotal: 35.7s\tremaining: 7.45s\n",
      "331:\ttest: 0.9370448\tbest: 0.9370969 (305)\ttotal: 35.8s\tremaining: 7.34s\n",
      "332:\ttest: 0.9370485\tbest: 0.9370969 (305)\ttotal: 35.9s\tremaining: 7.23s\n",
      "333:\ttest: 0.9370443\tbest: 0.9370969 (305)\ttotal: 36.1s\tremaining: 7.12s\n",
      "334:\ttest: 0.9370442\tbest: 0.9370969 (305)\ttotal: 36.2s\tremaining: 7.01s\n",
      "335:\ttest: 0.9370384\tbest: 0.9370969 (305)\ttotal: 36.3s\tremaining: 6.91s\n",
      "336:\ttest: 0.9370389\tbest: 0.9370969 (305)\ttotal: 36.4s\tremaining: 6.8s\n",
      "337:\ttest: 0.9370457\tbest: 0.9370969 (305)\ttotal: 36.5s\tremaining: 6.69s\n",
      "338:\ttest: 0.9370450\tbest: 0.9370969 (305)\ttotal: 36.6s\tremaining: 6.58s\n",
      "339:\ttest: 0.9370415\tbest: 0.9370969 (305)\ttotal: 36.7s\tremaining: 6.48s\n",
      "340:\ttest: 0.9370354\tbest: 0.9370969 (305)\ttotal: 36.8s\tremaining: 6.37s\n",
      "341:\ttest: 0.9370287\tbest: 0.9370969 (305)\ttotal: 36.9s\tremaining: 6.26s\n"
     ]
    },
    {
     "name": "stdout",
     "output_type": "stream",
     "text": [
      "342:\ttest: 0.9370298\tbest: 0.9370969 (305)\ttotal: 37s\tremaining: 6.15s\n",
      "343:\ttest: 0.9370309\tbest: 0.9370969 (305)\ttotal: 37.1s\tremaining: 6.04s\n",
      "344:\ttest: 0.9370275\tbest: 0.9370969 (305)\ttotal: 37.2s\tremaining: 5.93s\n",
      "345:\ttest: 0.9370288\tbest: 0.9370969 (305)\ttotal: 37.3s\tremaining: 5.83s\n",
      "346:\ttest: 0.9370212\tbest: 0.9370969 (305)\ttotal: 37.4s\tremaining: 5.72s\n",
      "347:\ttest: 0.9370227\tbest: 0.9370969 (305)\ttotal: 37.6s\tremaining: 5.61s\n",
      "348:\ttest: 0.9370198\tbest: 0.9370969 (305)\ttotal: 37.7s\tremaining: 5.5s\n",
      "349:\ttest: 0.9370228\tbest: 0.9370969 (305)\ttotal: 37.8s\tremaining: 5.4s\n",
      "350:\ttest: 0.9370221\tbest: 0.9370969 (305)\ttotal: 37.9s\tremaining: 5.29s\n",
      "351:\ttest: 0.9370148\tbest: 0.9370969 (305)\ttotal: 38s\tremaining: 5.18s\n",
      "352:\ttest: 0.9370211\tbest: 0.9370969 (305)\ttotal: 38.1s\tremaining: 5.07s\n",
      "353:\ttest: 0.9370197\tbest: 0.9370969 (305)\ttotal: 38.2s\tremaining: 4.96s\n",
      "354:\ttest: 0.9370234\tbest: 0.9370969 (305)\ttotal: 38.3s\tremaining: 4.86s\n",
      "355:\ttest: 0.9370203\tbest: 0.9370969 (305)\ttotal: 38.4s\tremaining: 4.75s\n",
      "356:\ttest: 0.9370243\tbest: 0.9370969 (305)\ttotal: 38.5s\tremaining: 4.64s\n",
      "357:\ttest: 0.9370266\tbest: 0.9370969 (305)\ttotal: 38.6s\tremaining: 4.53s\n",
      "358:\ttest: 0.9370251\tbest: 0.9370969 (305)\ttotal: 38.7s\tremaining: 4.42s\n",
      "359:\ttest: 0.9370236\tbest: 0.9370969 (305)\ttotal: 38.8s\tremaining: 4.32s\n",
      "360:\ttest: 0.9370301\tbest: 0.9370969 (305)\ttotal: 39s\tremaining: 4.21s\n",
      "361:\ttest: 0.9370345\tbest: 0.9370969 (305)\ttotal: 39.1s\tremaining: 4.1s\n",
      "362:\ttest: 0.9370347\tbest: 0.9370969 (305)\ttotal: 39.2s\tremaining: 3.99s\n",
      "363:\ttest: 0.9370306\tbest: 0.9370969 (305)\ttotal: 39.3s\tremaining: 3.88s\n",
      "364:\ttest: 0.9370291\tbest: 0.9370969 (305)\ttotal: 39.4s\tremaining: 3.78s\n",
      "365:\ttest: 0.9370278\tbest: 0.9370969 (305)\ttotal: 39.5s\tremaining: 3.67s\n",
      "366:\ttest: 0.9370281\tbest: 0.9370969 (305)\ttotal: 39.6s\tremaining: 3.56s\n",
      "367:\ttest: 0.9370252\tbest: 0.9370969 (305)\ttotal: 39.7s\tremaining: 3.45s\n",
      "368:\ttest: 0.9370276\tbest: 0.9370969 (305)\ttotal: 39.8s\tremaining: 3.35s\n",
      "369:\ttest: 0.9370207\tbest: 0.9370969 (305)\ttotal: 39.9s\tremaining: 3.24s\n",
      "370:\ttest: 0.9370165\tbest: 0.9370969 (305)\ttotal: 40s\tremaining: 3.13s\n",
      "371:\ttest: 0.9370096\tbest: 0.9370969 (305)\ttotal: 40.1s\tremaining: 3.02s\n",
      "372:\ttest: 0.9370082\tbest: 0.9370969 (305)\ttotal: 40.2s\tremaining: 2.91s\n",
      "373:\ttest: 0.9370096\tbest: 0.9370969 (305)\ttotal: 40.3s\tremaining: 2.8s\n",
      "374:\ttest: 0.9370102\tbest: 0.9370969 (305)\ttotal: 40.5s\tremaining: 2.7s\n",
      "375:\ttest: 0.9369898\tbest: 0.9370969 (305)\ttotal: 40.6s\tremaining: 2.59s\n",
      "376:\ttest: 0.9369851\tbest: 0.9370969 (305)\ttotal: 40.7s\tremaining: 2.48s\n",
      "377:\ttest: 0.9369848\tbest: 0.9370969 (305)\ttotal: 40.8s\tremaining: 2.37s\n",
      "378:\ttest: 0.9369882\tbest: 0.9370969 (305)\ttotal: 40.9s\tremaining: 2.27s\n",
      "379:\ttest: 0.9369863\tbest: 0.9370969 (305)\ttotal: 41s\tremaining: 2.16s\n",
      "380:\ttest: 0.9369775\tbest: 0.9370969 (305)\ttotal: 41.1s\tremaining: 2.05s\n",
      "381:\ttest: 0.9369822\tbest: 0.9370969 (305)\ttotal: 41.2s\tremaining: 1.94s\n",
      "382:\ttest: 0.9369787\tbest: 0.9370969 (305)\ttotal: 41.3s\tremaining: 1.83s\n",
      "383:\ttest: 0.9369732\tbest: 0.9370969 (305)\ttotal: 41.5s\tremaining: 1.73s\n",
      "384:\ttest: 0.9369668\tbest: 0.9370969 (305)\ttotal: 41.6s\tremaining: 1.62s\n",
      "385:\ttest: 0.9369587\tbest: 0.9370969 (305)\ttotal: 41.7s\tremaining: 1.51s\n",
      "386:\ttest: 0.9369602\tbest: 0.9370969 (305)\ttotal: 41.8s\tremaining: 1.4s\n",
      "387:\ttest: 0.9369524\tbest: 0.9370969 (305)\ttotal: 41.9s\tremaining: 1.3s\n",
      "388:\ttest: 0.9369498\tbest: 0.9370969 (305)\ttotal: 42s\tremaining: 1.19s\n",
      "389:\ttest: 0.9369412\tbest: 0.9370969 (305)\ttotal: 42.1s\tremaining: 1.08s\n",
      "390:\ttest: 0.9369379\tbest: 0.9370969 (305)\ttotal: 42.2s\tremaining: 972ms\n",
      "391:\ttest: 0.9369366\tbest: 0.9370969 (305)\ttotal: 42.4s\tremaining: 865ms\n",
      "392:\ttest: 0.9369346\tbest: 0.9370969 (305)\ttotal: 42.5s\tremaining: 757ms\n",
      "393:\ttest: 0.9369296\tbest: 0.9370969 (305)\ttotal: 42.6s\tremaining: 649ms\n",
      "394:\ttest: 0.9369254\tbest: 0.9370969 (305)\ttotal: 42.7s\tremaining: 541ms\n",
      "395:\ttest: 0.9369220\tbest: 0.9370969 (305)\ttotal: 42.8s\tremaining: 433ms\n",
      "396:\ttest: 0.9369202\tbest: 0.9370969 (305)\ttotal: 42.9s\tremaining: 324ms\n",
      "397:\ttest: 0.9369194\tbest: 0.9370969 (305)\ttotal: 43s\tremaining: 216ms\n",
      "398:\ttest: 0.9369201\tbest: 0.9370969 (305)\ttotal: 43.2s\tremaining: 108ms\n",
      "399:\ttest: 0.9369152\tbest: 0.9370969 (305)\ttotal: 43.3s\tremaining: 0us\n",
      "\n",
      "bestTest = 0.9370969467\n",
      "bestIteration = 305\n",
      "\n",
      "Shrink model to first 306 iterations.\n"
     ]
    },
    {
     "data": {
      "text/plain": [
       "<catboost.core.CatBoostClassifier at 0x1ba880cd5e0>"
      ]
     },
     "execution_count": 101,
     "metadata": {},
     "output_type": "execute_result"
    }
   ],
   "source": [
    "# create model using train_test_split\n",
    "catboost_basic = CatBoostClassifier(iterations = 400, learning_rate = 0.1, random_strength = 0.1, depth = 10, \n",
    "                                    loss_function = 'MultiClass', eval_metric = 'AUC', \n",
    "                                    leaf_estimation_method='Newton',use_best_model=True)\n",
    "catboost_basic.fit(X_train1, y_train1, eval_set = (X_val, y_val), plot = True)"
   ]
  },
  {
   "cell_type": "code",
   "execution_count": 102,
   "id": "7fc4bbbe",
   "metadata": {},
   "outputs": [
    {
     "name": "stdout",
     "output_type": "stream",
     "text": [
      "micro f1 cross val: 0.7615789002443049\n"
     ]
    }
   ],
   "source": [
    "y_pred = catboost_basic.predict(X_val)\n",
    "score = f1_score(y_val, y_pred, average='micro')\n",
    "print('micro f1 cross val:', score)"
   ]
  },
  {
   "cell_type": "code",
   "execution_count": 106,
   "id": "36bf3658",
   "metadata": {},
   "outputs": [
    {
     "name": "stdout",
     "output_type": "stream",
     "text": [
      "              precision    recall  f1-score   support\n",
      "\n",
      "           0       0.70      0.58      0.63      7590\n",
      "           1       0.76      0.85      0.80     44237\n",
      "           2       0.78      0.66      0.72     26354\n",
      "\n",
      "    accuracy                           0.76     78181\n",
      "   macro avg       0.75      0.70      0.72     78181\n",
      "weighted avg       0.76      0.76      0.76     78181\n",
      "\n"
     ]
    }
   ],
   "source": [
    "print(classification_report(y_val, y_pred))"
   ]
  },
  {
   "cell_type": "code",
   "execution_count": 103,
   "id": "17335481",
   "metadata": {},
   "outputs": [],
   "source": [
    "# Predict test data (of simple model, no validation, no class weights)\n",
    "y_test = catboost_basic.predict(X_test)"
   ]
  },
  {
   "cell_type": "code",
   "execution_count": 104,
   "id": "cc458bbd",
   "metadata": {},
   "outputs": [
    {
     "data": {
      "text/html": [
       "<div>\n",
       "<style scoped>\n",
       "    .dataframe tbody tr th:only-of-type {\n",
       "        vertical-align: middle;\n",
       "    }\n",
       "\n",
       "    .dataframe tbody tr th {\n",
       "        vertical-align: top;\n",
       "    }\n",
       "\n",
       "    .dataframe thead th {\n",
       "        text-align: right;\n",
       "    }\n",
       "</style>\n",
       "<table border=\"1\" class=\"dataframe\">\n",
       "  <thead>\n",
       "    <tr style=\"text-align: right;\">\n",
       "      <th></th>\n",
       "      <th>building_id</th>\n",
       "      <th>damage_grade</th>\n",
       "    </tr>\n",
       "  </thead>\n",
       "  <tbody>\n",
       "    <tr>\n",
       "      <th>0</th>\n",
       "      <td>300051</td>\n",
       "      <td>3</td>\n",
       "    </tr>\n",
       "    <tr>\n",
       "      <th>1</th>\n",
       "      <td>99355</td>\n",
       "      <td>2</td>\n",
       "    </tr>\n",
       "    <tr>\n",
       "      <th>2</th>\n",
       "      <td>890251</td>\n",
       "      <td>3</td>\n",
       "    </tr>\n",
       "    <tr>\n",
       "      <th>3</th>\n",
       "      <td>745817</td>\n",
       "      <td>1</td>\n",
       "    </tr>\n",
       "    <tr>\n",
       "      <th>4</th>\n",
       "      <td>421793</td>\n",
       "      <td>3</td>\n",
       "    </tr>\n",
       "    <tr>\n",
       "      <th>...</th>\n",
       "      <td>...</td>\n",
       "      <td>...</td>\n",
       "    </tr>\n",
       "    <tr>\n",
       "      <th>86863</th>\n",
       "      <td>310028</td>\n",
       "      <td>2</td>\n",
       "    </tr>\n",
       "    <tr>\n",
       "      <th>86864</th>\n",
       "      <td>663567</td>\n",
       "      <td>3</td>\n",
       "    </tr>\n",
       "    <tr>\n",
       "      <th>86865</th>\n",
       "      <td>1049160</td>\n",
       "      <td>2</td>\n",
       "    </tr>\n",
       "    <tr>\n",
       "      <th>86866</th>\n",
       "      <td>442785</td>\n",
       "      <td>2</td>\n",
       "    </tr>\n",
       "    <tr>\n",
       "      <th>86867</th>\n",
       "      <td>501372</td>\n",
       "      <td>1</td>\n",
       "    </tr>\n",
       "  </tbody>\n",
       "</table>\n",
       "<p>86868 rows × 2 columns</p>\n",
       "</div>"
      ],
      "text/plain": [
       "       building_id  damage_grade\n",
       "0           300051             3\n",
       "1            99355             2\n",
       "2           890251             3\n",
       "3           745817             1\n",
       "4           421793             3\n",
       "...            ...           ...\n",
       "86863       310028             2\n",
       "86864       663567             3\n",
       "86865      1049160             2\n",
       "86866       442785             2\n",
       "86867       501372             1\n",
       "\n",
       "[86868 rows x 2 columns]"
      ]
     },
     "execution_count": 104,
     "metadata": {},
     "output_type": "execute_result"
    }
   ],
   "source": [
    "pred_df = pd.DataFrame(test['building_id'])\n",
    "pred_df.loc[:,'damage_grade'] = y_test + 1\n",
    "pred_df"
   ]
  },
  {
   "cell_type": "code",
   "execution_count": 105,
   "id": "a4a6d184",
   "metadata": {},
   "outputs": [],
   "source": [
    "pred_df.to_csv('Predictions/catboost_selectedfeatures.csv',index=False)"
   ]
  },
  {
   "cell_type": "markdown",
   "id": "94df7e16",
   "metadata": {},
   "source": [
    "However, CatBoost can also handle categorical variables directly (it will apply one-hot-encoding to them) and in its documentary, the package providers state that encoding variables by yourself actually decreases your score. Therefore, we also try CatBoost without any one-hot-encoding (thus also without feature selection)."
   ]
  },
  {
   "cell_type": "code",
   "execution_count": 108,
   "id": "7dc3edec",
   "metadata": {},
   "outputs": [],
   "source": [
    "# no encoding of left over categorical variables! CatBoost will do this for us!\n",
    "X_train = train_lbl.copy()\n",
    "X_train.drop(columns = ['damage_grade', 'building_id'], inplace = True)\n",
    "\n",
    "X_test = test.copy()\n",
    "X_test.drop(columns = ['building_id'], inplace = True)\n",
    "\n",
    "y_train = train_lbl.iloc[:, -1] - 1 # substract 1 to normalize labels to range [0, 2]\n",
    "y_train = list(y_train)\n",
    "\n",
    "X_train1, X_val, y_train1, y_val = train_test_split(X_train, y_train, test_size = 0.3)"
   ]
  },
  {
   "cell_type": "code",
   "execution_count": 109,
   "id": "40cf52ec",
   "metadata": {},
   "outputs": [
    {
     "data": {
      "text/plain": [
       "['land_surface_condition',\n",
       " 'foundation_type',\n",
       " 'roof_type',\n",
       " 'ground_floor_type',\n",
       " 'other_floor_type',\n",
       " 'position',\n",
       " 'plan_configuration',\n",
       " 'legal_ownership_status']"
      ]
     },
     "execution_count": 109,
     "metadata": {},
     "output_type": "execute_result"
    }
   ],
   "source": [
    "cat_fts"
   ]
  },
  {
   "cell_type": "code",
   "execution_count": 110,
   "id": "19d17a6a",
   "metadata": {
    "scrolled": true
   },
   "outputs": [
    {
     "data": {
      "application/vnd.jupyter.widget-view+json": {
       "model_id": "553e6d97841d4e32984e25c3cf25c6e0",
       "version_major": 2,
       "version_minor": 0
      },
      "text/plain": [
       "MetricVisualizer(layout=Layout(align_self='stretch', height='500px'))"
      ]
     },
     "metadata": {},
     "output_type": "display_data"
    },
    {
     "name": "stdout",
     "output_type": "stream",
     "text": [
      "0:\ttest: 0.8982000\tbest: 0.8982000 (0)\ttotal: 426ms\tremaining: 2m 49s\n",
      "1:\ttest: 0.9041988\tbest: 0.9041988 (1)\ttotal: 859ms\tremaining: 2m 51s\n",
      "2:\ttest: 0.9068059\tbest: 0.9068059 (2)\ttotal: 1.29s\tremaining: 2m 50s\n",
      "3:\ttest: 0.9103972\tbest: 0.9103972 (3)\ttotal: 1.75s\tremaining: 2m 53s\n",
      "4:\ttest: 0.9119698\tbest: 0.9119698 (4)\ttotal: 2.21s\tremaining: 2m 54s\n",
      "5:\ttest: 0.9137081\tbest: 0.9137081 (5)\ttotal: 2.65s\tremaining: 2m 54s\n",
      "6:\ttest: 0.9151537\tbest: 0.9151537 (6)\ttotal: 3.1s\tremaining: 2m 54s\n",
      "7:\ttest: 0.9163967\tbest: 0.9163967 (7)\ttotal: 3.54s\tremaining: 2m 53s\n",
      "8:\ttest: 0.9180631\tbest: 0.9180631 (8)\ttotal: 3.99s\tremaining: 2m 53s\n",
      "9:\ttest: 0.9195352\tbest: 0.9195352 (9)\ttotal: 4.43s\tremaining: 2m 52s\n",
      "10:\ttest: 0.9210440\tbest: 0.9210440 (10)\ttotal: 4.88s\tremaining: 2m 52s\n",
      "11:\ttest: 0.9222931\tbest: 0.9222931 (11)\ttotal: 5.32s\tremaining: 2m 52s\n",
      "12:\ttest: 0.9230038\tbest: 0.9230038 (12)\ttotal: 5.78s\tremaining: 2m 52s\n",
      "13:\ttest: 0.9237916\tbest: 0.9237916 (13)\ttotal: 6.23s\tremaining: 2m 51s\n",
      "14:\ttest: 0.9247337\tbest: 0.9247337 (14)\ttotal: 6.66s\tremaining: 2m 50s\n",
      "15:\ttest: 0.9255584\tbest: 0.9255584 (15)\ttotal: 7.12s\tremaining: 2m 50s\n",
      "16:\ttest: 0.9261738\tbest: 0.9261738 (16)\ttotal: 7.56s\tremaining: 2m 50s\n",
      "17:\ttest: 0.9265130\tbest: 0.9265130 (17)\ttotal: 8.01s\tremaining: 2m 50s\n",
      "18:\ttest: 0.9270825\tbest: 0.9270825 (18)\ttotal: 8.47s\tremaining: 2m 49s\n",
      "19:\ttest: 0.9273526\tbest: 0.9273526 (19)\ttotal: 8.91s\tremaining: 2m 49s\n",
      "20:\ttest: 0.9277930\tbest: 0.9277930 (20)\ttotal: 9.37s\tremaining: 2m 49s\n",
      "21:\ttest: 0.9283249\tbest: 0.9283249 (21)\ttotal: 9.81s\tremaining: 2m 48s\n",
      "22:\ttest: 0.9290498\tbest: 0.9290498 (22)\ttotal: 10.3s\tremaining: 2m 48s\n",
      "23:\ttest: 0.9295483\tbest: 0.9295483 (23)\ttotal: 10.7s\tremaining: 2m 48s\n",
      "24:\ttest: 0.9299114\tbest: 0.9299114 (24)\ttotal: 11.2s\tremaining: 2m 47s\n",
      "25:\ttest: 0.9302750\tbest: 0.9302750 (25)\ttotal: 11.6s\tremaining: 2m 46s\n",
      "26:\ttest: 0.9307273\tbest: 0.9307273 (26)\ttotal: 12s\tremaining: 2m 46s\n",
      "27:\ttest: 0.9310475\tbest: 0.9310475 (27)\ttotal: 12.5s\tremaining: 2m 45s\n",
      "28:\ttest: 0.9313708\tbest: 0.9313708 (28)\ttotal: 12.9s\tremaining: 2m 44s\n",
      "29:\ttest: 0.9314917\tbest: 0.9314917 (29)\ttotal: 13.3s\tremaining: 2m 44s\n",
      "30:\ttest: 0.9317861\tbest: 0.9317861 (30)\ttotal: 13.7s\tremaining: 2m 43s\n",
      "31:\ttest: 0.9320692\tbest: 0.9320692 (31)\ttotal: 14.2s\tremaining: 2m 43s\n",
      "32:\ttest: 0.9323043\tbest: 0.9323043 (32)\ttotal: 14.7s\tremaining: 2m 42s\n",
      "33:\ttest: 0.9323892\tbest: 0.9323892 (33)\ttotal: 15.1s\tremaining: 2m 42s\n",
      "34:\ttest: 0.9325122\tbest: 0.9325122 (34)\ttotal: 15.5s\tremaining: 2m 41s\n",
      "35:\ttest: 0.9328037\tbest: 0.9328037 (35)\ttotal: 15.9s\tremaining: 2m 41s\n",
      "36:\ttest: 0.9329634\tbest: 0.9329634 (36)\ttotal: 16.4s\tremaining: 2m 40s\n",
      "37:\ttest: 0.9331790\tbest: 0.9331790 (37)\ttotal: 16.8s\tremaining: 2m 40s\n",
      "38:\ttest: 0.9333152\tbest: 0.9333152 (38)\ttotal: 17.2s\tremaining: 2m 39s\n",
      "39:\ttest: 0.9334822\tbest: 0.9334822 (39)\ttotal: 17.7s\tremaining: 2m 38s\n",
      "40:\ttest: 0.9335414\tbest: 0.9335414 (40)\ttotal: 18.1s\tremaining: 2m 38s\n",
      "41:\ttest: 0.9336669\tbest: 0.9336669 (41)\ttotal: 18.5s\tremaining: 2m 37s\n",
      "42:\ttest: 0.9337229\tbest: 0.9337229 (42)\ttotal: 19s\tremaining: 2m 37s\n",
      "43:\ttest: 0.9339202\tbest: 0.9339202 (43)\ttotal: 19.4s\tremaining: 2m 37s\n",
      "44:\ttest: 0.9340540\tbest: 0.9340540 (44)\ttotal: 19.9s\tremaining: 2m 36s\n",
      "45:\ttest: 0.9341584\tbest: 0.9341584 (45)\ttotal: 20.3s\tremaining: 2m 36s\n",
      "46:\ttest: 0.9341919\tbest: 0.9341919 (46)\ttotal: 20.8s\tremaining: 2m 35s\n",
      "47:\ttest: 0.9342879\tbest: 0.9342879 (47)\ttotal: 21.2s\tremaining: 2m 35s\n",
      "48:\ttest: 0.9343837\tbest: 0.9343837 (48)\ttotal: 21.7s\tremaining: 2m 35s\n",
      "49:\ttest: 0.9344779\tbest: 0.9344779 (49)\ttotal: 22.1s\tremaining: 2m 34s\n",
      "50:\ttest: 0.9345307\tbest: 0.9345307 (50)\ttotal: 22.6s\tremaining: 2m 34s\n",
      "51:\ttest: 0.9345878\tbest: 0.9345878 (51)\ttotal: 23.1s\tremaining: 2m 34s\n",
      "52:\ttest: 0.9346494\tbest: 0.9346494 (52)\ttotal: 23.5s\tremaining: 2m 34s\n",
      "53:\ttest: 0.9347159\tbest: 0.9347159 (53)\ttotal: 24s\tremaining: 2m 33s\n",
      "54:\ttest: 0.9347512\tbest: 0.9347512 (54)\ttotal: 24.5s\tremaining: 2m 33s\n",
      "55:\ttest: 0.9348205\tbest: 0.9348205 (55)\ttotal: 24.9s\tremaining: 2m 33s\n",
      "56:\ttest: 0.9348748\tbest: 0.9348748 (56)\ttotal: 25.4s\tremaining: 2m 32s\n",
      "57:\ttest: 0.9349445\tbest: 0.9349445 (57)\ttotal: 25.9s\tremaining: 2m 32s\n",
      "58:\ttest: 0.9349813\tbest: 0.9349813 (58)\ttotal: 26.3s\tremaining: 2m 32s\n",
      "59:\ttest: 0.9350532\tbest: 0.9350532 (59)\ttotal: 26.8s\tremaining: 2m 31s\n",
      "60:\ttest: 0.9350777\tbest: 0.9350777 (60)\ttotal: 27.2s\tremaining: 2m 31s\n",
      "61:\ttest: 0.9350980\tbest: 0.9350980 (61)\ttotal: 27.7s\tremaining: 2m 30s\n",
      "62:\ttest: 0.9351575\tbest: 0.9351575 (62)\ttotal: 28.2s\tremaining: 2m 30s\n",
      "63:\ttest: 0.9351860\tbest: 0.9351860 (63)\ttotal: 28.6s\tremaining: 2m 30s\n",
      "64:\ttest: 0.9352254\tbest: 0.9352254 (64)\ttotal: 29.1s\tremaining: 2m 29s\n",
      "65:\ttest: 0.9352889\tbest: 0.9352889 (65)\ttotal: 29.5s\tremaining: 2m 29s\n",
      "66:\ttest: 0.9353307\tbest: 0.9353307 (66)\ttotal: 30.1s\tremaining: 2m 29s\n",
      "67:\ttest: 0.9353929\tbest: 0.9353929 (67)\ttotal: 30.5s\tremaining: 2m 29s\n",
      "68:\ttest: 0.9354289\tbest: 0.9354289 (68)\ttotal: 31.1s\tremaining: 2m 29s\n",
      "69:\ttest: 0.9354800\tbest: 0.9354800 (69)\ttotal: 31.6s\tremaining: 2m 28s\n",
      "70:\ttest: 0.9355177\tbest: 0.9355177 (70)\ttotal: 32.1s\tremaining: 2m 28s\n",
      "71:\ttest: 0.9355458\tbest: 0.9355458 (71)\ttotal: 32.7s\tremaining: 2m 28s\n",
      "72:\ttest: 0.9355570\tbest: 0.9355570 (72)\ttotal: 33.2s\tremaining: 2m 28s\n",
      "73:\ttest: 0.9355829\tbest: 0.9355829 (73)\ttotal: 33.7s\tremaining: 2m 28s\n",
      "74:\ttest: 0.9356392\tbest: 0.9356392 (74)\ttotal: 34.2s\tremaining: 2m 28s\n",
      "75:\ttest: 0.9356620\tbest: 0.9356620 (75)\ttotal: 34.7s\tremaining: 2m 28s\n",
      "76:\ttest: 0.9357018\tbest: 0.9357018 (76)\ttotal: 35.2s\tremaining: 2m 27s\n",
      "77:\ttest: 0.9357148\tbest: 0.9357148 (77)\ttotal: 35.7s\tremaining: 2m 27s\n",
      "78:\ttest: 0.9357477\tbest: 0.9357477 (78)\ttotal: 36.2s\tremaining: 2m 27s\n",
      "79:\ttest: 0.9357655\tbest: 0.9357655 (79)\ttotal: 36.7s\tremaining: 2m 26s\n",
      "80:\ttest: 0.9358012\tbest: 0.9358012 (80)\ttotal: 37.2s\tremaining: 2m 26s\n",
      "81:\ttest: 0.9358096\tbest: 0.9358096 (81)\ttotal: 37.7s\tremaining: 2m 26s\n",
      "82:\ttest: 0.9358432\tbest: 0.9358432 (82)\ttotal: 38.2s\tremaining: 2m 25s\n",
      "83:\ttest: 0.9358538\tbest: 0.9358538 (83)\ttotal: 38.7s\tremaining: 2m 25s\n",
      "84:\ttest: 0.9358700\tbest: 0.9358700 (84)\ttotal: 39.2s\tremaining: 2m 25s\n",
      "85:\ttest: 0.9358798\tbest: 0.9358798 (85)\ttotal: 39.8s\tremaining: 2m 25s\n",
      "86:\ttest: 0.9359096\tbest: 0.9359096 (86)\ttotal: 40.3s\tremaining: 2m 24s\n",
      "87:\ttest: 0.9359399\tbest: 0.9359399 (87)\ttotal: 40.7s\tremaining: 2m 24s\n",
      "88:\ttest: 0.9359634\tbest: 0.9359634 (88)\ttotal: 41.3s\tremaining: 2m 24s\n",
      "89:\ttest: 0.9359913\tbest: 0.9359913 (89)\ttotal: 41.8s\tremaining: 2m 23s\n",
      "90:\ttest: 0.9360093\tbest: 0.9360093 (90)\ttotal: 42.3s\tremaining: 2m 23s\n",
      "91:\ttest: 0.9360348\tbest: 0.9360348 (91)\ttotal: 42.9s\tremaining: 2m 23s\n",
      "92:\ttest: 0.9360657\tbest: 0.9360657 (92)\ttotal: 43.4s\tremaining: 2m 23s\n",
      "93:\ttest: 0.9360857\tbest: 0.9360857 (93)\ttotal: 43.9s\tremaining: 2m 22s\n",
      "94:\ttest: 0.9361207\tbest: 0.9361207 (94)\ttotal: 44.4s\tremaining: 2m 22s\n",
      "95:\ttest: 0.9361271\tbest: 0.9361271 (95)\ttotal: 45s\tremaining: 2m 22s\n",
      "96:\ttest: 0.9361582\tbest: 0.9361582 (96)\ttotal: 45.4s\tremaining: 2m 21s\n",
      "97:\ttest: 0.9361762\tbest: 0.9361762 (97)\ttotal: 46s\tremaining: 2m 21s\n",
      "98:\ttest: 0.9361910\tbest: 0.9361910 (98)\ttotal: 46.5s\tremaining: 2m 21s\n",
      "99:\ttest: 0.9361996\tbest: 0.9361996 (99)\ttotal: 47s\tremaining: 2m 21s\n",
      "100:\ttest: 0.9362172\tbest: 0.9362172 (100)\ttotal: 47.5s\tremaining: 2m 20s\n",
      "101:\ttest: 0.9362357\tbest: 0.9362357 (101)\ttotal: 48.1s\tremaining: 2m 20s\n",
      "102:\ttest: 0.9362432\tbest: 0.9362432 (102)\ttotal: 48.6s\tremaining: 2m 20s\n",
      "103:\ttest: 0.9362552\tbest: 0.9362552 (103)\ttotal: 49.2s\tremaining: 2m 19s\n",
      "104:\ttest: 0.9362746\tbest: 0.9362746 (104)\ttotal: 49.7s\tremaining: 2m 19s\n",
      "105:\ttest: 0.9362829\tbest: 0.9362829 (105)\ttotal: 50.2s\tremaining: 2m 19s\n",
      "106:\ttest: 0.9362945\tbest: 0.9362945 (106)\ttotal: 50.8s\tremaining: 2m 19s\n",
      "107:\ttest: 0.9362978\tbest: 0.9362978 (107)\ttotal: 51.3s\tremaining: 2m 18s\n",
      "108:\ttest: 0.9363086\tbest: 0.9363086 (108)\ttotal: 51.9s\tremaining: 2m 18s\n",
      "109:\ttest: 0.9363254\tbest: 0.9363254 (109)\ttotal: 52.4s\tremaining: 2m 18s\n",
      "110:\ttest: 0.9363366\tbest: 0.9363366 (110)\ttotal: 53s\tremaining: 2m 17s\n",
      "111:\ttest: 0.9363436\tbest: 0.9363436 (111)\ttotal: 53.5s\tremaining: 2m 17s\n",
      "112:\ttest: 0.9363534\tbest: 0.9363534 (112)\ttotal: 54s\tremaining: 2m 17s\n",
      "113:\ttest: 0.9363698\tbest: 0.9363698 (113)\ttotal: 54.6s\tremaining: 2m 17s\n"
     ]
    },
    {
     "name": "stdout",
     "output_type": "stream",
     "text": [
      "114:\ttest: 0.9363754\tbest: 0.9363754 (114)\ttotal: 55.2s\tremaining: 2m 16s\n",
      "115:\ttest: 0.9364049\tbest: 0.9364049 (115)\ttotal: 55.6s\tremaining: 2m 16s\n",
      "116:\ttest: 0.9364297\tbest: 0.9364297 (116)\ttotal: 56.1s\tremaining: 2m 15s\n",
      "117:\ttest: 0.9364335\tbest: 0.9364335 (117)\ttotal: 56.7s\tremaining: 2m 15s\n",
      "118:\ttest: 0.9364561\tbest: 0.9364561 (118)\ttotal: 57.2s\tremaining: 2m 15s\n",
      "119:\ttest: 0.9364611\tbest: 0.9364611 (119)\ttotal: 57.7s\tremaining: 2m 14s\n",
      "120:\ttest: 0.9364785\tbest: 0.9364785 (120)\ttotal: 58.2s\tremaining: 2m 14s\n",
      "121:\ttest: 0.9364971\tbest: 0.9364971 (121)\ttotal: 58.7s\tremaining: 2m 13s\n",
      "122:\ttest: 0.9365129\tbest: 0.9365129 (122)\ttotal: 59.2s\tremaining: 2m 13s\n",
      "123:\ttest: 0.9365311\tbest: 0.9365311 (123)\ttotal: 59.7s\tremaining: 2m 12s\n",
      "124:\ttest: 0.9365476\tbest: 0.9365476 (124)\ttotal: 1m\tremaining: 2m 12s\n",
      "125:\ttest: 0.9365516\tbest: 0.9365516 (125)\ttotal: 1m\tremaining: 2m 12s\n",
      "126:\ttest: 0.9365751\tbest: 0.9365751 (126)\ttotal: 1m 1s\tremaining: 2m 11s\n",
      "127:\ttest: 0.9365708\tbest: 0.9365751 (126)\ttotal: 1m 1s\tremaining: 2m 11s\n",
      "128:\ttest: 0.9365807\tbest: 0.9365807 (128)\ttotal: 1m 2s\tremaining: 2m 11s\n",
      "129:\ttest: 0.9366068\tbest: 0.9366068 (129)\ttotal: 1m 3s\tremaining: 2m 10s\n",
      "130:\ttest: 0.9366156\tbest: 0.9366156 (130)\ttotal: 1m 3s\tremaining: 2m 10s\n",
      "131:\ttest: 0.9366228\tbest: 0.9366228 (131)\ttotal: 1m 4s\tremaining: 2m 10s\n",
      "132:\ttest: 0.9366355\tbest: 0.9366355 (132)\ttotal: 1m 4s\tremaining: 2m 9s\n",
      "133:\ttest: 0.9366488\tbest: 0.9366488 (133)\ttotal: 1m 5s\tremaining: 2m 9s\n",
      "134:\ttest: 0.9366662\tbest: 0.9366662 (134)\ttotal: 1m 5s\tremaining: 2m 8s\n",
      "135:\ttest: 0.9366860\tbest: 0.9366860 (135)\ttotal: 1m 6s\tremaining: 2m 8s\n",
      "136:\ttest: 0.9366939\tbest: 0.9366939 (136)\ttotal: 1m 6s\tremaining: 2m 8s\n",
      "137:\ttest: 0.9367086\tbest: 0.9367086 (137)\ttotal: 1m 7s\tremaining: 2m 7s\n",
      "138:\ttest: 0.9367150\tbest: 0.9367150 (138)\ttotal: 1m 7s\tremaining: 2m 7s\n",
      "139:\ttest: 0.9367180\tbest: 0.9367180 (139)\ttotal: 1m 8s\tremaining: 2m 6s\n",
      "140:\ttest: 0.9367212\tbest: 0.9367212 (140)\ttotal: 1m 8s\tremaining: 2m 6s\n",
      "141:\ttest: 0.9367229\tbest: 0.9367229 (141)\ttotal: 1m 9s\tremaining: 2m 6s\n",
      "142:\ttest: 0.9367397\tbest: 0.9367397 (142)\ttotal: 1m 9s\tremaining: 2m 5s\n",
      "143:\ttest: 0.9367492\tbest: 0.9367492 (143)\ttotal: 1m 10s\tremaining: 2m 5s\n",
      "144:\ttest: 0.9367555\tbest: 0.9367555 (144)\ttotal: 1m 10s\tremaining: 2m 4s\n",
      "145:\ttest: 0.9367560\tbest: 0.9367560 (145)\ttotal: 1m 11s\tremaining: 2m 4s\n",
      "146:\ttest: 0.9367739\tbest: 0.9367739 (146)\ttotal: 1m 11s\tremaining: 2m 3s\n",
      "147:\ttest: 0.9367822\tbest: 0.9367822 (147)\ttotal: 1m 12s\tremaining: 2m 3s\n",
      "148:\ttest: 0.9368021\tbest: 0.9368021 (148)\ttotal: 1m 12s\tremaining: 2m 2s\n",
      "149:\ttest: 0.9368077\tbest: 0.9368077 (149)\ttotal: 1m 13s\tremaining: 2m 2s\n",
      "150:\ttest: 0.9368131\tbest: 0.9368131 (150)\ttotal: 1m 13s\tremaining: 2m 1s\n",
      "151:\ttest: 0.9368202\tbest: 0.9368202 (151)\ttotal: 1m 14s\tremaining: 2m 1s\n",
      "152:\ttest: 0.9368278\tbest: 0.9368278 (152)\ttotal: 1m 14s\tremaining: 2m 1s\n",
      "153:\ttest: 0.9368350\tbest: 0.9368350 (153)\ttotal: 1m 15s\tremaining: 2m\n",
      "154:\ttest: 0.9368438\tbest: 0.9368438 (154)\ttotal: 1m 15s\tremaining: 2m\n",
      "155:\ttest: 0.9368514\tbest: 0.9368514 (155)\ttotal: 1m 16s\tremaining: 1m 59s\n",
      "156:\ttest: 0.9368582\tbest: 0.9368582 (156)\ttotal: 1m 17s\tremaining: 1m 59s\n",
      "157:\ttest: 0.9368660\tbest: 0.9368660 (157)\ttotal: 1m 17s\tremaining: 1m 58s\n",
      "158:\ttest: 0.9368587\tbest: 0.9368660 (157)\ttotal: 1m 18s\tremaining: 1m 58s\n",
      "159:\ttest: 0.9368735\tbest: 0.9368735 (159)\ttotal: 1m 18s\tremaining: 1m 58s\n",
      "160:\ttest: 0.9369001\tbest: 0.9369001 (160)\ttotal: 1m 19s\tremaining: 1m 57s\n",
      "161:\ttest: 0.9369027\tbest: 0.9369027 (161)\ttotal: 1m 19s\tremaining: 1m 57s\n",
      "162:\ttest: 0.9369140\tbest: 0.9369140 (162)\ttotal: 1m 20s\tremaining: 1m 56s\n",
      "163:\ttest: 0.9369097\tbest: 0.9369140 (162)\ttotal: 1m 20s\tremaining: 1m 56s\n",
      "164:\ttest: 0.9369129\tbest: 0.9369140 (162)\ttotal: 1m 21s\tremaining: 1m 55s\n",
      "165:\ttest: 0.9369200\tbest: 0.9369200 (165)\ttotal: 1m 21s\tremaining: 1m 55s\n",
      "166:\ttest: 0.9369347\tbest: 0.9369347 (166)\ttotal: 1m 22s\tremaining: 1m 54s\n",
      "167:\ttest: 0.9369308\tbest: 0.9369347 (166)\ttotal: 1m 22s\tremaining: 1m 54s\n",
      "168:\ttest: 0.9369476\tbest: 0.9369476 (168)\ttotal: 1m 23s\tremaining: 1m 53s\n",
      "169:\ttest: 0.9369497\tbest: 0.9369497 (169)\ttotal: 1m 23s\tremaining: 1m 53s\n",
      "170:\ttest: 0.9369627\tbest: 0.9369627 (170)\ttotal: 1m 24s\tremaining: 1m 52s\n",
      "171:\ttest: 0.9369566\tbest: 0.9369627 (170)\ttotal: 1m 24s\tremaining: 1m 52s\n",
      "172:\ttest: 0.9369743\tbest: 0.9369743 (172)\ttotal: 1m 25s\tremaining: 1m 51s\n",
      "173:\ttest: 0.9369757\tbest: 0.9369757 (173)\ttotal: 1m 25s\tremaining: 1m 51s\n",
      "174:\ttest: 0.9369801\tbest: 0.9369801 (174)\ttotal: 1m 26s\tremaining: 1m 50s\n",
      "175:\ttest: 0.9369887\tbest: 0.9369887 (175)\ttotal: 1m 26s\tremaining: 1m 50s\n",
      "176:\ttest: 0.9369942\tbest: 0.9369942 (176)\ttotal: 1m 27s\tremaining: 1m 49s\n",
      "177:\ttest: 0.9369990\tbest: 0.9369990 (177)\ttotal: 1m 27s\tremaining: 1m 49s\n",
      "178:\ttest: 0.9369961\tbest: 0.9369990 (177)\ttotal: 1m 28s\tremaining: 1m 48s\n",
      "179:\ttest: 0.9370128\tbest: 0.9370128 (179)\ttotal: 1m 28s\tremaining: 1m 48s\n",
      "180:\ttest: 0.9370137\tbest: 0.9370137 (180)\ttotal: 1m 29s\tremaining: 1m 48s\n",
      "181:\ttest: 0.9370130\tbest: 0.9370137 (180)\ttotal: 1m 29s\tremaining: 1m 47s\n",
      "182:\ttest: 0.9370187\tbest: 0.9370187 (182)\ttotal: 1m 30s\tremaining: 1m 47s\n",
      "183:\ttest: 0.9370209\tbest: 0.9370209 (183)\ttotal: 1m 30s\tremaining: 1m 46s\n",
      "184:\ttest: 0.9370198\tbest: 0.9370209 (183)\ttotal: 1m 31s\tremaining: 1m 46s\n",
      "185:\ttest: 0.9370280\tbest: 0.9370280 (185)\ttotal: 1m 32s\tremaining: 1m 45s\n",
      "186:\ttest: 0.9370321\tbest: 0.9370321 (186)\ttotal: 1m 32s\tremaining: 1m 45s\n",
      "187:\ttest: 0.9370255\tbest: 0.9370321 (186)\ttotal: 1m 33s\tremaining: 1m 45s\n",
      "188:\ttest: 0.9370160\tbest: 0.9370321 (186)\ttotal: 1m 33s\tremaining: 1m 44s\n",
      "189:\ttest: 0.9370086\tbest: 0.9370321 (186)\ttotal: 1m 34s\tremaining: 1m 44s\n",
      "190:\ttest: 0.9370130\tbest: 0.9370321 (186)\ttotal: 1m 34s\tremaining: 1m 43s\n",
      "191:\ttest: 0.9370169\tbest: 0.9370321 (186)\ttotal: 1m 35s\tremaining: 1m 42s\n",
      "192:\ttest: 0.9370273\tbest: 0.9370321 (186)\ttotal: 1m 35s\tremaining: 1m 42s\n",
      "193:\ttest: 0.9370204\tbest: 0.9370321 (186)\ttotal: 1m 36s\tremaining: 1m 42s\n",
      "194:\ttest: 0.9370276\tbest: 0.9370321 (186)\ttotal: 1m 36s\tremaining: 1m 41s\n",
      "195:\ttest: 0.9370345\tbest: 0.9370345 (195)\ttotal: 1m 37s\tremaining: 1m 41s\n",
      "196:\ttest: 0.9370347\tbest: 0.9370347 (196)\ttotal: 1m 37s\tremaining: 1m 40s\n",
      "197:\ttest: 0.9370283\tbest: 0.9370347 (196)\ttotal: 1m 38s\tremaining: 1m 40s\n",
      "198:\ttest: 0.9370311\tbest: 0.9370347 (196)\ttotal: 1m 38s\tremaining: 1m 39s\n",
      "199:\ttest: 0.9370294\tbest: 0.9370347 (196)\ttotal: 1m 39s\tremaining: 1m 39s\n",
      "200:\ttest: 0.9370290\tbest: 0.9370347 (196)\ttotal: 1m 39s\tremaining: 1m 38s\n",
      "201:\ttest: 0.9370326\tbest: 0.9370347 (196)\ttotal: 1m 40s\tremaining: 1m 38s\n",
      "202:\ttest: 0.9370452\tbest: 0.9370452 (202)\ttotal: 1m 40s\tremaining: 1m 37s\n",
      "203:\ttest: 0.9370467\tbest: 0.9370467 (203)\ttotal: 1m 41s\tremaining: 1m 37s\n",
      "204:\ttest: 0.9370498\tbest: 0.9370498 (204)\ttotal: 1m 42s\tremaining: 1m 37s\n",
      "205:\ttest: 0.9370566\tbest: 0.9370566 (205)\ttotal: 1m 42s\tremaining: 1m 36s\n",
      "206:\ttest: 0.9370581\tbest: 0.9370581 (206)\ttotal: 1m 43s\tremaining: 1m 36s\n",
      "207:\ttest: 0.9370532\tbest: 0.9370581 (206)\ttotal: 1m 43s\tremaining: 1m 35s\n",
      "208:\ttest: 0.9370583\tbest: 0.9370583 (208)\ttotal: 1m 44s\tremaining: 1m 35s\n",
      "209:\ttest: 0.9370646\tbest: 0.9370646 (209)\ttotal: 1m 44s\tremaining: 1m 34s\n",
      "210:\ttest: 0.9370739\tbest: 0.9370739 (210)\ttotal: 1m 45s\tremaining: 1m 34s\n",
      "211:\ttest: 0.9370721\tbest: 0.9370739 (210)\ttotal: 1m 45s\tremaining: 1m 33s\n",
      "212:\ttest: 0.9370735\tbest: 0.9370739 (210)\ttotal: 1m 46s\tremaining: 1m 33s\n",
      "213:\ttest: 0.9370810\tbest: 0.9370810 (213)\ttotal: 1m 46s\tremaining: 1m 32s\n",
      "214:\ttest: 0.9370802\tbest: 0.9370810 (213)\ttotal: 1m 47s\tremaining: 1m 32s\n",
      "215:\ttest: 0.9370806\tbest: 0.9370810 (213)\ttotal: 1m 47s\tremaining: 1m 31s\n",
      "216:\ttest: 0.9370865\tbest: 0.9370865 (216)\ttotal: 1m 48s\tremaining: 1m 31s\n",
      "217:\ttest: 0.9370838\tbest: 0.9370865 (216)\ttotal: 1m 48s\tremaining: 1m 30s\n",
      "218:\ttest: 0.9370887\tbest: 0.9370887 (218)\ttotal: 1m 49s\tremaining: 1m 30s\n",
      "219:\ttest: 0.9371073\tbest: 0.9371073 (219)\ttotal: 1m 49s\tremaining: 1m 29s\n",
      "220:\ttest: 0.9371154\tbest: 0.9371154 (220)\ttotal: 1m 50s\tremaining: 1m 29s\n",
      "221:\ttest: 0.9371265\tbest: 0.9371265 (221)\ttotal: 1m 50s\tremaining: 1m 28s\n",
      "222:\ttest: 0.9371468\tbest: 0.9371468 (222)\ttotal: 1m 51s\tremaining: 1m 28s\n",
      "223:\ttest: 0.9371503\tbest: 0.9371503 (223)\ttotal: 1m 51s\tremaining: 1m 27s\n",
      "224:\ttest: 0.9371522\tbest: 0.9371522 (224)\ttotal: 1m 52s\tremaining: 1m 27s\n"
     ]
    },
    {
     "name": "stdout",
     "output_type": "stream",
     "text": [
      "225:\ttest: 0.9371505\tbest: 0.9371522 (224)\ttotal: 1m 52s\tremaining: 1m 26s\n",
      "226:\ttest: 0.9371559\tbest: 0.9371559 (226)\ttotal: 1m 53s\tremaining: 1m 26s\n",
      "227:\ttest: 0.9371862\tbest: 0.9371862 (227)\ttotal: 1m 53s\tremaining: 1m 25s\n",
      "228:\ttest: 0.9371922\tbest: 0.9371922 (228)\ttotal: 1m 54s\tremaining: 1m 25s\n",
      "229:\ttest: 0.9371951\tbest: 0.9371951 (229)\ttotal: 1m 54s\tremaining: 1m 24s\n",
      "230:\ttest: 0.9372011\tbest: 0.9372011 (230)\ttotal: 1m 55s\tremaining: 1m 24s\n",
      "231:\ttest: 0.9372053\tbest: 0.9372053 (231)\ttotal: 1m 55s\tremaining: 1m 23s\n",
      "232:\ttest: 0.9372167\tbest: 0.9372167 (232)\ttotal: 1m 56s\tremaining: 1m 23s\n",
      "233:\ttest: 0.9372103\tbest: 0.9372167 (232)\ttotal: 1m 56s\tremaining: 1m 22s\n",
      "234:\ttest: 0.9372172\tbest: 0.9372172 (234)\ttotal: 1m 57s\tremaining: 1m 22s\n",
      "235:\ttest: 0.9372180\tbest: 0.9372180 (235)\ttotal: 1m 57s\tremaining: 1m 21s\n",
      "236:\ttest: 0.9372179\tbest: 0.9372180 (235)\ttotal: 1m 58s\tremaining: 1m 21s\n",
      "237:\ttest: 0.9372280\tbest: 0.9372280 (237)\ttotal: 1m 59s\tremaining: 1m 21s\n",
      "238:\ttest: 0.9372342\tbest: 0.9372342 (238)\ttotal: 1m 59s\tremaining: 1m 20s\n",
      "239:\ttest: 0.9372440\tbest: 0.9372440 (239)\ttotal: 2m\tremaining: 1m 20s\n",
      "240:\ttest: 0.9372441\tbest: 0.9372441 (240)\ttotal: 2m\tremaining: 1m 19s\n",
      "241:\ttest: 0.9372430\tbest: 0.9372441 (240)\ttotal: 2m 1s\tremaining: 1m 19s\n",
      "242:\ttest: 0.9372410\tbest: 0.9372441 (240)\ttotal: 2m 1s\tremaining: 1m 18s\n",
      "243:\ttest: 0.9372495\tbest: 0.9372495 (243)\ttotal: 2m 2s\tremaining: 1m 18s\n",
      "244:\ttest: 0.9372558\tbest: 0.9372558 (244)\ttotal: 2m 2s\tremaining: 1m 17s\n",
      "245:\ttest: 0.9372544\tbest: 0.9372558 (244)\ttotal: 2m 3s\tremaining: 1m 17s\n",
      "246:\ttest: 0.9372531\tbest: 0.9372558 (244)\ttotal: 2m 3s\tremaining: 1m 16s\n",
      "247:\ttest: 0.9372488\tbest: 0.9372558 (244)\ttotal: 2m 4s\tremaining: 1m 16s\n",
      "248:\ttest: 0.9372566\tbest: 0.9372566 (248)\ttotal: 2m 4s\tremaining: 1m 15s\n",
      "249:\ttest: 0.9372591\tbest: 0.9372591 (249)\ttotal: 2m 5s\tremaining: 1m 15s\n",
      "250:\ttest: 0.9372809\tbest: 0.9372809 (250)\ttotal: 2m 5s\tremaining: 1m 14s\n",
      "251:\ttest: 0.9372854\tbest: 0.9372854 (251)\ttotal: 2m 6s\tremaining: 1m 14s\n",
      "252:\ttest: 0.9372857\tbest: 0.9372857 (252)\ttotal: 2m 6s\tremaining: 1m 13s\n",
      "253:\ttest: 0.9372893\tbest: 0.9372893 (253)\ttotal: 2m 7s\tremaining: 1m 13s\n",
      "254:\ttest: 0.9372844\tbest: 0.9372893 (253)\ttotal: 2m 7s\tremaining: 1m 12s\n",
      "255:\ttest: 0.9372941\tbest: 0.9372941 (255)\ttotal: 2m 8s\tremaining: 1m 12s\n",
      "256:\ttest: 0.9373007\tbest: 0.9373007 (256)\ttotal: 2m 8s\tremaining: 1m 11s\n",
      "257:\ttest: 0.9372949\tbest: 0.9373007 (256)\ttotal: 2m 9s\tremaining: 1m 11s\n",
      "258:\ttest: 0.9373020\tbest: 0.9373020 (258)\ttotal: 2m 9s\tremaining: 1m 10s\n",
      "259:\ttest: 0.9372990\tbest: 0.9373020 (258)\ttotal: 2m 10s\tremaining: 1m 10s\n",
      "260:\ttest: 0.9372980\tbest: 0.9373020 (258)\ttotal: 2m 10s\tremaining: 1m 9s\n",
      "261:\ttest: 0.9372970\tbest: 0.9373020 (258)\ttotal: 2m 11s\tremaining: 1m 9s\n",
      "262:\ttest: 0.9372901\tbest: 0.9373020 (258)\ttotal: 2m 11s\tremaining: 1m 8s\n",
      "263:\ttest: 0.9372918\tbest: 0.9373020 (258)\ttotal: 2m 12s\tremaining: 1m 8s\n",
      "264:\ttest: 0.9372922\tbest: 0.9373020 (258)\ttotal: 2m 13s\tremaining: 1m 7s\n",
      "265:\ttest: 0.9372983\tbest: 0.9373020 (258)\ttotal: 2m 13s\tremaining: 1m 7s\n",
      "266:\ttest: 0.9373020\tbest: 0.9373020 (266)\ttotal: 2m 14s\tremaining: 1m 6s\n",
      "267:\ttest: 0.9373046\tbest: 0.9373046 (267)\ttotal: 2m 14s\tremaining: 1m 6s\n",
      "268:\ttest: 0.9373120\tbest: 0.9373120 (268)\ttotal: 2m 15s\tremaining: 1m 5s\n",
      "269:\ttest: 0.9373114\tbest: 0.9373120 (268)\ttotal: 2m 15s\tremaining: 1m 5s\n",
      "270:\ttest: 0.9373066\tbest: 0.9373120 (268)\ttotal: 2m 16s\tremaining: 1m 4s\n",
      "271:\ttest: 0.9373077\tbest: 0.9373120 (268)\ttotal: 2m 16s\tremaining: 1m 4s\n",
      "272:\ttest: 0.9373184\tbest: 0.9373184 (272)\ttotal: 2m 17s\tremaining: 1m 3s\n",
      "273:\ttest: 0.9373194\tbest: 0.9373194 (273)\ttotal: 2m 17s\tremaining: 1m 3s\n",
      "274:\ttest: 0.9373178\tbest: 0.9373194 (273)\ttotal: 2m 18s\tremaining: 1m 2s\n",
      "275:\ttest: 0.9373215\tbest: 0.9373215 (275)\ttotal: 2m 18s\tremaining: 1m 2s\n",
      "276:\ttest: 0.9373178\tbest: 0.9373215 (275)\ttotal: 2m 19s\tremaining: 1m 1s\n",
      "277:\ttest: 0.9373228\tbest: 0.9373228 (277)\ttotal: 2m 20s\tremaining: 1m 1s\n",
      "278:\ttest: 0.9373200\tbest: 0.9373228 (277)\ttotal: 2m 20s\tremaining: 1m\n",
      "279:\ttest: 0.9373167\tbest: 0.9373228 (277)\ttotal: 2m 21s\tremaining: 1m\n",
      "280:\ttest: 0.9373177\tbest: 0.9373228 (277)\ttotal: 2m 21s\tremaining: 1m\n",
      "281:\ttest: 0.9373193\tbest: 0.9373228 (277)\ttotal: 2m 22s\tremaining: 59.5s\n",
      "282:\ttest: 0.9373162\tbest: 0.9373228 (277)\ttotal: 2m 22s\tremaining: 59s\n",
      "283:\ttest: 0.9373159\tbest: 0.9373228 (277)\ttotal: 2m 23s\tremaining: 58.5s\n",
      "284:\ttest: 0.9373088\tbest: 0.9373228 (277)\ttotal: 2m 23s\tremaining: 58s\n",
      "285:\ttest: 0.9373070\tbest: 0.9373228 (277)\ttotal: 2m 24s\tremaining: 57.5s\n",
      "286:\ttest: 0.9373163\tbest: 0.9373228 (277)\ttotal: 2m 24s\tremaining: 57.1s\n",
      "287:\ttest: 0.9373276\tbest: 0.9373276 (287)\ttotal: 2m 25s\tremaining: 56.6s\n",
      "288:\ttest: 0.9373355\tbest: 0.9373355 (288)\ttotal: 2m 25s\tremaining: 56s\n",
      "289:\ttest: 0.9373388\tbest: 0.9373388 (289)\ttotal: 2m 26s\tremaining: 55.6s\n",
      "290:\ttest: 0.9373359\tbest: 0.9373388 (289)\ttotal: 2m 26s\tremaining: 55s\n",
      "291:\ttest: 0.9373340\tbest: 0.9373388 (289)\ttotal: 2m 27s\tremaining: 54.5s\n",
      "292:\ttest: 0.9373346\tbest: 0.9373388 (289)\ttotal: 2m 27s\tremaining: 54s\n",
      "293:\ttest: 0.9373344\tbest: 0.9373388 (289)\ttotal: 2m 28s\tremaining: 53.5s\n",
      "294:\ttest: 0.9373281\tbest: 0.9373388 (289)\ttotal: 2m 28s\tremaining: 53s\n",
      "295:\ttest: 0.9373218\tbest: 0.9373388 (289)\ttotal: 2m 29s\tremaining: 52.5s\n",
      "296:\ttest: 0.9373216\tbest: 0.9373388 (289)\ttotal: 2m 29s\tremaining: 52s\n",
      "297:\ttest: 0.9373184\tbest: 0.9373388 (289)\ttotal: 2m 30s\tremaining: 51.5s\n",
      "298:\ttest: 0.9373252\tbest: 0.9373388 (289)\ttotal: 2m 30s\tremaining: 51s\n",
      "299:\ttest: 0.9373296\tbest: 0.9373388 (289)\ttotal: 2m 31s\tremaining: 50.5s\n",
      "300:\ttest: 0.9373275\tbest: 0.9373388 (289)\ttotal: 2m 32s\tremaining: 50s\n",
      "301:\ttest: 0.9373255\tbest: 0.9373388 (289)\ttotal: 2m 32s\tremaining: 49.5s\n",
      "302:\ttest: 0.9373240\tbest: 0.9373388 (289)\ttotal: 2m 33s\tremaining: 49s\n",
      "303:\ttest: 0.9373096\tbest: 0.9373388 (289)\ttotal: 2m 33s\tremaining: 48.5s\n",
      "304:\ttest: 0.9373142\tbest: 0.9373388 (289)\ttotal: 2m 34s\tremaining: 48s\n",
      "305:\ttest: 0.9373062\tbest: 0.9373388 (289)\ttotal: 2m 34s\tremaining: 47.5s\n",
      "306:\ttest: 0.9373045\tbest: 0.9373388 (289)\ttotal: 2m 35s\tremaining: 47s\n",
      "307:\ttest: 0.9373056\tbest: 0.9373388 (289)\ttotal: 2m 35s\tremaining: 46.5s\n",
      "308:\ttest: 0.9373026\tbest: 0.9373388 (289)\ttotal: 2m 36s\tremaining: 46s\n",
      "309:\ttest: 0.9372956\tbest: 0.9373388 (289)\ttotal: 2m 36s\tremaining: 45.5s\n",
      "310:\ttest: 0.9373075\tbest: 0.9373388 (289)\ttotal: 2m 37s\tremaining: 45.1s\n",
      "311:\ttest: 0.9373140\tbest: 0.9373388 (289)\ttotal: 2m 37s\tremaining: 44.5s\n",
      "312:\ttest: 0.9373217\tbest: 0.9373388 (289)\ttotal: 2m 38s\tremaining: 44s\n",
      "313:\ttest: 0.9373236\tbest: 0.9373388 (289)\ttotal: 2m 38s\tremaining: 43.5s\n",
      "314:\ttest: 0.9373120\tbest: 0.9373388 (289)\ttotal: 2m 39s\tremaining: 43s\n",
      "315:\ttest: 0.9373262\tbest: 0.9373388 (289)\ttotal: 2m 39s\tremaining: 42.5s\n",
      "316:\ttest: 0.9373290\tbest: 0.9373388 (289)\ttotal: 2m 40s\tremaining: 42s\n",
      "317:\ttest: 0.9373185\tbest: 0.9373388 (289)\ttotal: 2m 40s\tremaining: 41.5s\n",
      "318:\ttest: 0.9373182\tbest: 0.9373388 (289)\ttotal: 2m 41s\tremaining: 41s\n",
      "319:\ttest: 0.9373258\tbest: 0.9373388 (289)\ttotal: 2m 41s\tremaining: 40.5s\n",
      "320:\ttest: 0.9373284\tbest: 0.9373388 (289)\ttotal: 2m 42s\tremaining: 40s\n",
      "321:\ttest: 0.9373255\tbest: 0.9373388 (289)\ttotal: 2m 43s\tremaining: 39.5s\n",
      "322:\ttest: 0.9373238\tbest: 0.9373388 (289)\ttotal: 2m 43s\tremaining: 39s\n",
      "323:\ttest: 0.9373215\tbest: 0.9373388 (289)\ttotal: 2m 44s\tremaining: 38.5s\n",
      "324:\ttest: 0.9373217\tbest: 0.9373388 (289)\ttotal: 2m 44s\tremaining: 38s\n",
      "325:\ttest: 0.9373244\tbest: 0.9373388 (289)\ttotal: 2m 45s\tremaining: 37.5s\n",
      "326:\ttest: 0.9373254\tbest: 0.9373388 (289)\ttotal: 2m 45s\tremaining: 37s\n",
      "327:\ttest: 0.9373278\tbest: 0.9373388 (289)\ttotal: 2m 46s\tremaining: 36.5s\n",
      "328:\ttest: 0.9373251\tbest: 0.9373388 (289)\ttotal: 2m 46s\tremaining: 36s\n",
      "329:\ttest: 0.9373215\tbest: 0.9373388 (289)\ttotal: 2m 47s\tremaining: 35.5s\n",
      "330:\ttest: 0.9373125\tbest: 0.9373388 (289)\ttotal: 2m 47s\tremaining: 35s\n",
      "331:\ttest: 0.9373183\tbest: 0.9373388 (289)\ttotal: 2m 48s\tremaining: 34.5s\n",
      "332:\ttest: 0.9373157\tbest: 0.9373388 (289)\ttotal: 2m 48s\tremaining: 34s\n",
      "333:\ttest: 0.9373246\tbest: 0.9373388 (289)\ttotal: 2m 49s\tremaining: 33.5s\n",
      "334:\ttest: 0.9373271\tbest: 0.9373388 (289)\ttotal: 2m 49s\tremaining: 33s\n",
      "335:\ttest: 0.9373327\tbest: 0.9373388 (289)\ttotal: 2m 50s\tremaining: 32.5s\n",
      "336:\ttest: 0.9373386\tbest: 0.9373388 (289)\ttotal: 2m 50s\tremaining: 32s\n"
     ]
    },
    {
     "name": "stdout",
     "output_type": "stream",
     "text": [
      "337:\ttest: 0.9373330\tbest: 0.9373388 (289)\ttotal: 2m 51s\tremaining: 31.4s\n",
      "338:\ttest: 0.9373330\tbest: 0.9373388 (289)\ttotal: 2m 52s\tremaining: 31s\n",
      "339:\ttest: 0.9373368\tbest: 0.9373388 (289)\ttotal: 2m 52s\tremaining: 30.4s\n",
      "340:\ttest: 0.9373355\tbest: 0.9373388 (289)\ttotal: 2m 53s\tremaining: 29.9s\n",
      "341:\ttest: 0.9373305\tbest: 0.9373388 (289)\ttotal: 2m 53s\tremaining: 29.5s\n",
      "342:\ttest: 0.9373270\tbest: 0.9373388 (289)\ttotal: 2m 54s\tremaining: 28.9s\n",
      "343:\ttest: 0.9373295\tbest: 0.9373388 (289)\ttotal: 2m 54s\tremaining: 28.4s\n",
      "344:\ttest: 0.9373300\tbest: 0.9373388 (289)\ttotal: 2m 55s\tremaining: 27.9s\n",
      "345:\ttest: 0.9373267\tbest: 0.9373388 (289)\ttotal: 2m 55s\tremaining: 27.4s\n",
      "346:\ttest: 0.9373232\tbest: 0.9373388 (289)\ttotal: 2m 56s\tremaining: 26.9s\n",
      "347:\ttest: 0.9373269\tbest: 0.9373388 (289)\ttotal: 2m 56s\tremaining: 26.4s\n",
      "348:\ttest: 0.9373219\tbest: 0.9373388 (289)\ttotal: 2m 57s\tremaining: 25.9s\n",
      "349:\ttest: 0.9373299\tbest: 0.9373388 (289)\ttotal: 2m 57s\tremaining: 25.4s\n",
      "350:\ttest: 0.9373299\tbest: 0.9373388 (289)\ttotal: 2m 58s\tremaining: 24.9s\n",
      "351:\ttest: 0.9373310\tbest: 0.9373388 (289)\ttotal: 2m 58s\tremaining: 24.4s\n",
      "352:\ttest: 0.9373370\tbest: 0.9373388 (289)\ttotal: 2m 59s\tremaining: 23.9s\n",
      "353:\ttest: 0.9373356\tbest: 0.9373388 (289)\ttotal: 2m 59s\tremaining: 23.4s\n",
      "354:\ttest: 0.9373410\tbest: 0.9373410 (354)\ttotal: 3m\tremaining: 22.9s\n",
      "355:\ttest: 0.9373523\tbest: 0.9373523 (355)\ttotal: 3m 1s\tremaining: 22.4s\n",
      "356:\ttest: 0.9373553\tbest: 0.9373553 (356)\ttotal: 3m 1s\tremaining: 21.9s\n",
      "357:\ttest: 0.9373539\tbest: 0.9373553 (356)\ttotal: 3m 2s\tremaining: 21.4s\n",
      "358:\ttest: 0.9373580\tbest: 0.9373580 (358)\ttotal: 3m 2s\tremaining: 20.8s\n",
      "359:\ttest: 0.9373582\tbest: 0.9373582 (359)\ttotal: 3m 3s\tremaining: 20.3s\n",
      "360:\ttest: 0.9373537\tbest: 0.9373582 (359)\ttotal: 3m 3s\tremaining: 19.8s\n",
      "361:\ttest: 0.9373501\tbest: 0.9373582 (359)\ttotal: 3m 4s\tremaining: 19.3s\n",
      "362:\ttest: 0.9373497\tbest: 0.9373582 (359)\ttotal: 3m 4s\tremaining: 18.8s\n",
      "363:\ttest: 0.9373529\tbest: 0.9373582 (359)\ttotal: 3m 5s\tremaining: 18.3s\n",
      "364:\ttest: 0.9373456\tbest: 0.9373582 (359)\ttotal: 3m 5s\tremaining: 17.8s\n",
      "365:\ttest: 0.9373449\tbest: 0.9373582 (359)\ttotal: 3m 6s\tremaining: 17.3s\n",
      "366:\ttest: 0.9373476\tbest: 0.9373582 (359)\ttotal: 3m 6s\tremaining: 16.8s\n",
      "367:\ttest: 0.9373493\tbest: 0.9373582 (359)\ttotal: 3m 7s\tremaining: 16.3s\n",
      "368:\ttest: 0.9373498\tbest: 0.9373582 (359)\ttotal: 3m 7s\tremaining: 15.8s\n",
      "369:\ttest: 0.9373520\tbest: 0.9373582 (359)\ttotal: 3m 8s\tremaining: 15.3s\n",
      "370:\ttest: 0.9373522\tbest: 0.9373582 (359)\ttotal: 3m 8s\tremaining: 14.8s\n",
      "371:\ttest: 0.9373454\tbest: 0.9373582 (359)\ttotal: 3m 9s\tremaining: 14.3s\n",
      "372:\ttest: 0.9373443\tbest: 0.9373582 (359)\ttotal: 3m 9s\tremaining: 13.8s\n",
      "373:\ttest: 0.9373395\tbest: 0.9373582 (359)\ttotal: 3m 10s\tremaining: 13.2s\n",
      "374:\ttest: 0.9373396\tbest: 0.9373582 (359)\ttotal: 3m 11s\tremaining: 12.7s\n",
      "375:\ttest: 0.9373304\tbest: 0.9373582 (359)\ttotal: 3m 11s\tremaining: 12.2s\n",
      "376:\ttest: 0.9373324\tbest: 0.9373582 (359)\ttotal: 3m 12s\tremaining: 11.7s\n",
      "377:\ttest: 0.9373223\tbest: 0.9373582 (359)\ttotal: 3m 12s\tremaining: 11.2s\n",
      "378:\ttest: 0.9373265\tbest: 0.9373582 (359)\ttotal: 3m 13s\tremaining: 10.7s\n",
      "379:\ttest: 0.9373237\tbest: 0.9373582 (359)\ttotal: 3m 13s\tremaining: 10.2s\n",
      "380:\ttest: 0.9373267\tbest: 0.9373582 (359)\ttotal: 3m 14s\tremaining: 9.69s\n",
      "381:\ttest: 0.9373286\tbest: 0.9373582 (359)\ttotal: 3m 14s\tremaining: 9.19s\n",
      "382:\ttest: 0.9373324\tbest: 0.9373582 (359)\ttotal: 3m 15s\tremaining: 8.68s\n",
      "383:\ttest: 0.9373256\tbest: 0.9373582 (359)\ttotal: 3m 15s\tremaining: 8.16s\n",
      "384:\ttest: 0.9373186\tbest: 0.9373582 (359)\ttotal: 3m 16s\tremaining: 7.65s\n",
      "385:\ttest: 0.9373153\tbest: 0.9373582 (359)\ttotal: 3m 17s\tremaining: 7.15s\n",
      "386:\ttest: 0.9373261\tbest: 0.9373582 (359)\ttotal: 3m 17s\tremaining: 6.64s\n",
      "387:\ttest: 0.9373248\tbest: 0.9373582 (359)\ttotal: 3m 18s\tremaining: 6.13s\n",
      "388:\ttest: 0.9373261\tbest: 0.9373582 (359)\ttotal: 3m 18s\tremaining: 5.62s\n",
      "389:\ttest: 0.9373284\tbest: 0.9373582 (359)\ttotal: 3m 19s\tremaining: 5.11s\n",
      "390:\ttest: 0.9373362\tbest: 0.9373582 (359)\ttotal: 3m 19s\tremaining: 4.6s\n",
      "391:\ttest: 0.9373336\tbest: 0.9373582 (359)\ttotal: 3m 20s\tremaining: 4.09s\n",
      "392:\ttest: 0.9373392\tbest: 0.9373582 (359)\ttotal: 3m 20s\tremaining: 3.58s\n",
      "393:\ttest: 0.9373363\tbest: 0.9373582 (359)\ttotal: 3m 21s\tremaining: 3.07s\n",
      "394:\ttest: 0.9373314\tbest: 0.9373582 (359)\ttotal: 3m 21s\tremaining: 2.55s\n",
      "395:\ttest: 0.9373290\tbest: 0.9373582 (359)\ttotal: 3m 22s\tremaining: 2.04s\n",
      "396:\ttest: 0.9373312\tbest: 0.9373582 (359)\ttotal: 3m 22s\tremaining: 1.53s\n",
      "397:\ttest: 0.9373310\tbest: 0.9373582 (359)\ttotal: 3m 23s\tremaining: 1.02s\n",
      "398:\ttest: 0.9373352\tbest: 0.9373582 (359)\ttotal: 3m 24s\tremaining: 511ms\n",
      "399:\ttest: 0.9373354\tbest: 0.9373582 (359)\ttotal: 3m 24s\tremaining: 0us\n",
      "\n",
      "bestTest = 0.937358209\n",
      "bestIteration = 359\n",
      "\n",
      "Shrink model to first 360 iterations.\n"
     ]
    },
    {
     "data": {
      "text/plain": [
       "<catboost.core.CatBoostClassifier at 0x1baad779730>"
      ]
     },
     "execution_count": 110,
     "metadata": {},
     "output_type": "execute_result"
    }
   ],
   "source": [
    "# create model using train_test_split\n",
    "catboost_basic = CatBoostClassifier(iterations = 400, learning_rate = 0.1, random_strength = 0.1, depth = 10, \n",
    "                                    loss_function = 'MultiClass', eval_metric = 'AUC', \n",
    "                                    leaf_estimation_method='Newton',use_best_model=True)\n",
    "catboost_basic.fit(X_train1, y_train1, cat_features = cat_fts, eval_set = (X_val, y_val), plot = True)"
   ]
  },
  {
   "cell_type": "code",
   "execution_count": 111,
   "id": "c699b330",
   "metadata": {},
   "outputs": [
    {
     "name": "stdout",
     "output_type": "stream",
     "text": [
      "micro f1 cross val: 0.7632800808380553\n"
     ]
    }
   ],
   "source": [
    "y_pred = catboost_basic.predict(X_val)\n",
    "score = f1_score(y_val, y_pred, average='micro')\n",
    "print('micro f1 cross val:', score)"
   ]
  },
  {
   "cell_type": "code",
   "execution_count": 112,
   "id": "2460133a",
   "metadata": {},
   "outputs": [
    {
     "name": "stdout",
     "output_type": "stream",
     "text": [
      "              precision    recall  f1-score   support\n",
      "\n",
      "           0       0.69      0.59      0.64      7475\n",
      "           1       0.77      0.85      0.81     44522\n",
      "           2       0.77      0.67      0.72     26184\n",
      "\n",
      "    accuracy                           0.76     78181\n",
      "   macro avg       0.74      0.70      0.72     78181\n",
      "weighted avg       0.76      0.76      0.76     78181\n",
      "\n"
     ]
    }
   ],
   "source": [
    "print(classification_report(y_val, y_pred))"
   ]
  },
  {
   "cell_type": "code",
   "execution_count": 113,
   "id": "2ac6c114",
   "metadata": {},
   "outputs": [],
   "source": [
    "# Predict test data (of simple model, no validation, no class weights)\n",
    "y_test = catboost_basic.predict(X_test)"
   ]
  },
  {
   "cell_type": "code",
   "execution_count": 114,
   "id": "78bbdf98",
   "metadata": {},
   "outputs": [
    {
     "data": {
      "text/html": [
       "<div>\n",
       "<style scoped>\n",
       "    .dataframe tbody tr th:only-of-type {\n",
       "        vertical-align: middle;\n",
       "    }\n",
       "\n",
       "    .dataframe tbody tr th {\n",
       "        vertical-align: top;\n",
       "    }\n",
       "\n",
       "    .dataframe thead th {\n",
       "        text-align: right;\n",
       "    }\n",
       "</style>\n",
       "<table border=\"1\" class=\"dataframe\">\n",
       "  <thead>\n",
       "    <tr style=\"text-align: right;\">\n",
       "      <th></th>\n",
       "      <th>building_id</th>\n",
       "      <th>damage_grade</th>\n",
       "    </tr>\n",
       "  </thead>\n",
       "  <tbody>\n",
       "    <tr>\n",
       "      <th>0</th>\n",
       "      <td>300051</td>\n",
       "      <td>3</td>\n",
       "    </tr>\n",
       "    <tr>\n",
       "      <th>1</th>\n",
       "      <td>99355</td>\n",
       "      <td>2</td>\n",
       "    </tr>\n",
       "    <tr>\n",
       "      <th>2</th>\n",
       "      <td>890251</td>\n",
       "      <td>3</td>\n",
       "    </tr>\n",
       "    <tr>\n",
       "      <th>3</th>\n",
       "      <td>745817</td>\n",
       "      <td>1</td>\n",
       "    </tr>\n",
       "    <tr>\n",
       "      <th>4</th>\n",
       "      <td>421793</td>\n",
       "      <td>3</td>\n",
       "    </tr>\n",
       "    <tr>\n",
       "      <th>...</th>\n",
       "      <td>...</td>\n",
       "      <td>...</td>\n",
       "    </tr>\n",
       "    <tr>\n",
       "      <th>86863</th>\n",
       "      <td>310028</td>\n",
       "      <td>2</td>\n",
       "    </tr>\n",
       "    <tr>\n",
       "      <th>86864</th>\n",
       "      <td>663567</td>\n",
       "      <td>3</td>\n",
       "    </tr>\n",
       "    <tr>\n",
       "      <th>86865</th>\n",
       "      <td>1049160</td>\n",
       "      <td>2</td>\n",
       "    </tr>\n",
       "    <tr>\n",
       "      <th>86866</th>\n",
       "      <td>442785</td>\n",
       "      <td>2</td>\n",
       "    </tr>\n",
       "    <tr>\n",
       "      <th>86867</th>\n",
       "      <td>501372</td>\n",
       "      <td>1</td>\n",
       "    </tr>\n",
       "  </tbody>\n",
       "</table>\n",
       "<p>86868 rows × 2 columns</p>\n",
       "</div>"
      ],
      "text/plain": [
       "       building_id  damage_grade\n",
       "0           300051             3\n",
       "1            99355             2\n",
       "2           890251             3\n",
       "3           745817             1\n",
       "4           421793             3\n",
       "...            ...           ...\n",
       "86863       310028             2\n",
       "86864       663567             3\n",
       "86865      1049160             2\n",
       "86866       442785             2\n",
       "86867       501372             1\n",
       "\n",
       "[86868 rows x 2 columns]"
      ]
     },
     "execution_count": 114,
     "metadata": {},
     "output_type": "execute_result"
    }
   ],
   "source": [
    "pred_df = pd.DataFrame(test['building_id'])\n",
    "pred_df.loc[:,'damage_grade'] = y_test + 1\n",
    "pred_df"
   ]
  },
  {
   "cell_type": "code",
   "execution_count": 115,
   "id": "1b470050",
   "metadata": {},
   "outputs": [],
   "source": [
    "pred_df.to_csv('Predictions/catboost_allfeatures.csv',index=False)"
   ]
  },
  {
   "cell_type": "markdown",
   "id": "8793032d",
   "metadata": {},
   "source": [
    "### Light GBM classifier utilizing Gradient Boosting Decision Trees"
   ]
  },
  {
   "cell_type": "code",
   "execution_count": 116,
   "id": "564aeb1c",
   "metadata": {},
   "outputs": [],
   "source": [
    "import lightgbm as lgb"
   ]
  },
  {
   "cell_type": "code",
   "execution_count": 117,
   "id": "2ec526e9",
   "metadata": {},
   "outputs": [],
   "source": [
    "X_train = train_lbl_selected_fts.copy()\n",
    "X_train.drop(columns = ['building_id', 'damage_grade'], inplace = True)\n",
    "\n",
    "X_test = test_selected_fts.copy()\n",
    "X_test.drop(columns = ['building_id'], inplace = True)\n",
    "\n",
    "y_train = train_lbl_selected_fts.iloc[:, -1] - 1 # substract 1 to normalize labels to range [0, 2]\n",
    "y_train = list(y_train)\n",
    "\n",
    "X_train1, X_val, y_train1, y_val = train_test_split(X_train, y_train, test_size = 0.3)"
   ]
  },
  {
   "cell_type": "code",
   "execution_count": 118,
   "id": "ea678ad6",
   "metadata": {
    "scrolled": true
   },
   "outputs": [
    {
     "name": "stdout",
     "output_type": "stream",
     "text": [
      "[20]\tvalid_0's multi_logloss: 0.559439\n",
      "[40]\tvalid_0's multi_logloss: 0.533676\n",
      "[60]\tvalid_0's multi_logloss: 0.526843\n",
      "[80]\tvalid_0's multi_logloss: 0.524053\n",
      "[100]\tvalid_0's multi_logloss: 0.522696\n",
      "[120]\tvalid_0's multi_logloss: 0.521795\n",
      "[140]\tvalid_0's multi_logloss: 0.521076\n",
      "[160]\tvalid_0's multi_logloss: 0.520474\n",
      "[180]\tvalid_0's multi_logloss: 0.520004\n",
      "[200]\tvalid_0's multi_logloss: 0.519705\n",
      "[220]\tvalid_0's multi_logloss: 0.519289\n",
      "[240]\tvalid_0's multi_logloss: 0.519029\n",
      "[260]\tvalid_0's multi_logloss: 0.518893\n",
      "[280]\tvalid_0's multi_logloss: 0.518713\n",
      "[300]\tvalid_0's multi_logloss: 0.518533\n",
      "[320]\tvalid_0's multi_logloss: 0.518459\n",
      "[340]\tvalid_0's multi_logloss: 0.518353\n",
      "[360]\tvalid_0's multi_logloss: 0.518276\n",
      "[380]\tvalid_0's multi_logloss: 0.518275\n",
      "[400]\tvalid_0's multi_logloss: 0.518252\n",
      "Training accuracy 0.7829\n",
      "Testing accuracy 0.7615\n"
     ]
    }
   ],
   "source": [
    "lgb_basic = lgb.LGBMClassifier(learning_rate=0.1,max_depth=10,random_state=42,boosting_type=\"gbdt\",n_estimators=400,num_leaves=22,num_class=3)\n",
    "lgb_basic.fit(X_train1,y_train1,eval_set=[(X_val,y_val)],verbose=20,eval_metric='logloss')\n",
    "print('Training accuracy {:.4f}'.format(lgb_basic.score(X_train1, y_train1)))\n",
    "print('Testing accuracy {:.4f}'.format(lgb_basic.score(X_val, y_val)))"
   ]
  },
  {
   "cell_type": "code",
   "execution_count": 119,
   "id": "e2762f3b",
   "metadata": {},
   "outputs": [
    {
     "data": {
      "text/plain": [
       "LGBMClassifier(max_depth=10, n_estimators=400, num_class=3, num_leaves=22,\n",
       "               random_state=42)"
      ]
     },
     "execution_count": 119,
     "metadata": {},
     "output_type": "execute_result"
    }
   ],
   "source": [
    "lgb_basic.fit(X_train1, y_train1)"
   ]
  },
  {
   "cell_type": "markdown",
   "id": "24bc02dd",
   "metadata": {},
   "source": [
    "***5-fold Cross Validation*** of Light GBM Model"
   ]
  },
  {
   "cell_type": "code",
   "execution_count": 121,
   "id": "bf5b176b",
   "metadata": {},
   "outputs": [
    {
     "name": "stdout",
     "output_type": "stream",
     "text": [
      "{'fit_time': array([2.89924669, 2.92118883, 2.8802979 , 2.94911385, 2.9221859 ]), 'score_time': array([0.31017041, 0.31116772, 0.29919982, 0.30418754, 0.30019712]), 'test_score': array([0.76120949, 0.76076362, 0.76329624, 0.76185725, 0.76423638])}\n"
     ]
    }
   ],
   "source": [
    "from sklearn.model_selection import cross_validate\n",
    "print(cross_validate(lgb_basic, X_train, y_train, cv = 5, scoring = 'f1_micro'))"
   ]
  },
  {
   "cell_type": "code",
   "execution_count": 122,
   "id": "6cd4af44",
   "metadata": {},
   "outputs": [
    {
     "name": "stdout",
     "output_type": "stream",
     "text": [
      "micro f1 cross val: 0.7614509919289854\n"
     ]
    }
   ],
   "source": [
    "y_pred = lgb_basic.predict(X_val)\n",
    "score = f1_score(y_val, y_pred, average = 'micro')\n",
    "print('micro f1 cross val:', score)"
   ]
  },
  {
   "cell_type": "code",
   "execution_count": 123,
   "id": "8c2e7dd5",
   "metadata": {},
   "outputs": [
    {
     "name": "stdout",
     "output_type": "stream",
     "text": [
      "              precision    recall  f1-score   support\n",
      "\n",
      "           0       0.69      0.60      0.64      7490\n",
      "           1       0.77      0.85      0.80     44553\n",
      "           2       0.77      0.66      0.71     26138\n",
      "\n",
      "    accuracy                           0.76     78181\n",
      "   macro avg       0.74      0.70      0.72     78181\n",
      "weighted avg       0.76      0.76      0.76     78181\n",
      "\n"
     ]
    }
   ],
   "source": [
    "print(classification_report(y_val, y_pred))"
   ]
  },
  {
   "cell_type": "code",
   "execution_count": 124,
   "id": "9180183c",
   "metadata": {},
   "outputs": [],
   "source": [
    "# Predict test data\n",
    "y_test = lgb_basic.predict(X_test)"
   ]
  },
  {
   "cell_type": "code",
   "execution_count": 125,
   "id": "70a23a5a",
   "metadata": {},
   "outputs": [
    {
     "data": {
      "text/html": [
       "<div>\n",
       "<style scoped>\n",
       "    .dataframe tbody tr th:only-of-type {\n",
       "        vertical-align: middle;\n",
       "    }\n",
       "\n",
       "    .dataframe tbody tr th {\n",
       "        vertical-align: top;\n",
       "    }\n",
       "\n",
       "    .dataframe thead th {\n",
       "        text-align: right;\n",
       "    }\n",
       "</style>\n",
       "<table border=\"1\" class=\"dataframe\">\n",
       "  <thead>\n",
       "    <tr style=\"text-align: right;\">\n",
       "      <th></th>\n",
       "      <th>building_id</th>\n",
       "      <th>damage_grade</th>\n",
       "    </tr>\n",
       "  </thead>\n",
       "  <tbody>\n",
       "    <tr>\n",
       "      <th>0</th>\n",
       "      <td>300051</td>\n",
       "      <td>3</td>\n",
       "    </tr>\n",
       "    <tr>\n",
       "      <th>1</th>\n",
       "      <td>99355</td>\n",
       "      <td>2</td>\n",
       "    </tr>\n",
       "    <tr>\n",
       "      <th>2</th>\n",
       "      <td>890251</td>\n",
       "      <td>3</td>\n",
       "    </tr>\n",
       "    <tr>\n",
       "      <th>3</th>\n",
       "      <td>745817</td>\n",
       "      <td>1</td>\n",
       "    </tr>\n",
       "    <tr>\n",
       "      <th>4</th>\n",
       "      <td>421793</td>\n",
       "      <td>3</td>\n",
       "    </tr>\n",
       "    <tr>\n",
       "      <th>...</th>\n",
       "      <td>...</td>\n",
       "      <td>...</td>\n",
       "    </tr>\n",
       "    <tr>\n",
       "      <th>86863</th>\n",
       "      <td>310028</td>\n",
       "      <td>2</td>\n",
       "    </tr>\n",
       "    <tr>\n",
       "      <th>86864</th>\n",
       "      <td>663567</td>\n",
       "      <td>3</td>\n",
       "    </tr>\n",
       "    <tr>\n",
       "      <th>86865</th>\n",
       "      <td>1049160</td>\n",
       "      <td>2</td>\n",
       "    </tr>\n",
       "    <tr>\n",
       "      <th>86866</th>\n",
       "      <td>442785</td>\n",
       "      <td>2</td>\n",
       "    </tr>\n",
       "    <tr>\n",
       "      <th>86867</th>\n",
       "      <td>501372</td>\n",
       "      <td>1</td>\n",
       "    </tr>\n",
       "  </tbody>\n",
       "</table>\n",
       "<p>86868 rows × 2 columns</p>\n",
       "</div>"
      ],
      "text/plain": [
       "       building_id  damage_grade\n",
       "0           300051             3\n",
       "1            99355             2\n",
       "2           890251             3\n",
       "3           745817             1\n",
       "4           421793             3\n",
       "...            ...           ...\n",
       "86863       310028             2\n",
       "86864       663567             3\n",
       "86865      1049160             2\n",
       "86866       442785             2\n",
       "86867       501372             1\n",
       "\n",
       "[86868 rows x 2 columns]"
      ]
     },
     "execution_count": 125,
     "metadata": {},
     "output_type": "execute_result"
    }
   ],
   "source": [
    "pred_df = pd.DataFrame(test['building_id'])\n",
    "pred_df.loc[:,'damage_grade'] = y_test + 1\n",
    "pred_df"
   ]
  },
  {
   "cell_type": "code",
   "execution_count": 126,
   "id": "3dc21e27",
   "metadata": {},
   "outputs": [],
   "source": [
    "pred_df.to_csv('Predictions/lgb_basic.csv',index=False)"
   ]
  },
  {
   "cell_type": "markdown",
   "id": "4dd18fcb",
   "metadata": {},
   "source": [
    "### kNN"
   ]
  },
  {
   "cell_type": "code",
   "execution_count": 127,
   "id": "e6426bd1",
   "metadata": {},
   "outputs": [],
   "source": [
    "from sklearn.neighbors import KNeighborsClassifier as kNC"
   ]
  },
  {
   "cell_type": "code",
   "execution_count": 128,
   "id": "520d705b",
   "metadata": {},
   "outputs": [],
   "source": [
    "X_train = train_lbl_selected_fts.copy()\n",
    "X_train.drop(columns = ['building_id', 'damage_grade'], inplace = True)\n",
    "\n",
    "X_test = test_selected_fts.copy()\n",
    "X_test.drop(columns = ['building_id'], inplace = True)\n",
    "\n",
    "y_train = train_lbl_selected_fts.iloc[:, -1] - 1 # substract 1 to normalize labels to range [0, 2]\n",
    "y_train = list(y_train)\n",
    "\n",
    "X_train1, X_val, y_train1, y_val = train_test_split(X_train, y_train, test_size = 0.3)"
   ]
  },
  {
   "cell_type": "code",
   "execution_count": 129,
   "id": "212902fe",
   "metadata": {},
   "outputs": [
    {
     "name": "stdout",
     "output_type": "stream",
     "text": [
      "{'fit_time': array([0.10474992, 0.10073185, 0.10075665, 0.10871029, 0.1007309 ]), 'score_time': array([131.18413043, 140.82230353, 147.99464917, 137.45249891,\n",
      "       146.16790867]), 'test_score': array([0.73404194, 0.72814658, 0.73555257, 0.73325019, 0.73265541])}\n"
     ]
    }
   ],
   "source": [
    "print(cross_validate(kNC(n_neighbors = 10), X_train, y_train, cv = 5, scoring = 'f1_micro'))"
   ]
  },
  {
   "cell_type": "code",
   "execution_count": 130,
   "id": "a877e855",
   "metadata": {},
   "outputs": [],
   "source": [
    "knn_basic = kNC(n_neighbors = 25).fit(X_train1, y_train1)"
   ]
  },
  {
   "cell_type": "code",
   "execution_count": 131,
   "id": "836c0ad9",
   "metadata": {},
   "outputs": [
    {
     "name": "stdout",
     "output_type": "stream",
     "text": [
      "micro f1 cross val: 0.7241145546872002\n"
     ]
    }
   ],
   "source": [
    "y_pred = knn_basic.predict(X_val)\n",
    "score = f1_score(y_val, y_pred, average = 'micro')\n",
    "print('micro f1 cross val:', score)"
   ]
  },
  {
   "cell_type": "code",
   "execution_count": 132,
   "id": "9121c2cf",
   "metadata": {},
   "outputs": [
    {
     "name": "stdout",
     "output_type": "stream",
     "text": [
      "              precision    recall  f1-score   support\n",
      "\n",
      "           0       0.67      0.40      0.50      7602\n",
      "           1       0.73      0.84      0.78     44377\n",
      "           2       0.73      0.63      0.67     26202\n",
      "\n",
      "    accuracy                           0.72     78181\n",
      "   macro avg       0.71      0.62      0.65     78181\n",
      "weighted avg       0.72      0.72      0.72     78181\n",
      "\n"
     ]
    }
   ],
   "source": [
    "print(classification_report(y_val, y_pred))"
   ]
  },
  {
   "cell_type": "code",
   "execution_count": 133,
   "id": "0cc67a14",
   "metadata": {},
   "outputs": [],
   "source": [
    "# Predict test data\n",
    "y_test = knn_basic.predict(X_test)"
   ]
  },
  {
   "cell_type": "code",
   "execution_count": 134,
   "id": "08fa445f",
   "metadata": {},
   "outputs": [
    {
     "data": {
      "text/html": [
       "<div>\n",
       "<style scoped>\n",
       "    .dataframe tbody tr th:only-of-type {\n",
       "        vertical-align: middle;\n",
       "    }\n",
       "\n",
       "    .dataframe tbody tr th {\n",
       "        vertical-align: top;\n",
       "    }\n",
       "\n",
       "    .dataframe thead th {\n",
       "        text-align: right;\n",
       "    }\n",
       "</style>\n",
       "<table border=\"1\" class=\"dataframe\">\n",
       "  <thead>\n",
       "    <tr style=\"text-align: right;\">\n",
       "      <th></th>\n",
       "      <th>building_id</th>\n",
       "      <th>damage_grade</th>\n",
       "    </tr>\n",
       "  </thead>\n",
       "  <tbody>\n",
       "    <tr>\n",
       "      <th>0</th>\n",
       "      <td>300051</td>\n",
       "      <td>3</td>\n",
       "    </tr>\n",
       "    <tr>\n",
       "      <th>1</th>\n",
       "      <td>99355</td>\n",
       "      <td>2</td>\n",
       "    </tr>\n",
       "    <tr>\n",
       "      <th>2</th>\n",
       "      <td>890251</td>\n",
       "      <td>2</td>\n",
       "    </tr>\n",
       "    <tr>\n",
       "      <th>3</th>\n",
       "      <td>745817</td>\n",
       "      <td>1</td>\n",
       "    </tr>\n",
       "    <tr>\n",
       "      <th>4</th>\n",
       "      <td>421793</td>\n",
       "      <td>3</td>\n",
       "    </tr>\n",
       "    <tr>\n",
       "      <th>...</th>\n",
       "      <td>...</td>\n",
       "      <td>...</td>\n",
       "    </tr>\n",
       "    <tr>\n",
       "      <th>86863</th>\n",
       "      <td>310028</td>\n",
       "      <td>2</td>\n",
       "    </tr>\n",
       "    <tr>\n",
       "      <th>86864</th>\n",
       "      <td>663567</td>\n",
       "      <td>3</td>\n",
       "    </tr>\n",
       "    <tr>\n",
       "      <th>86865</th>\n",
       "      <td>1049160</td>\n",
       "      <td>2</td>\n",
       "    </tr>\n",
       "    <tr>\n",
       "      <th>86866</th>\n",
       "      <td>442785</td>\n",
       "      <td>2</td>\n",
       "    </tr>\n",
       "    <tr>\n",
       "      <th>86867</th>\n",
       "      <td>501372</td>\n",
       "      <td>1</td>\n",
       "    </tr>\n",
       "  </tbody>\n",
       "</table>\n",
       "<p>86868 rows × 2 columns</p>\n",
       "</div>"
      ],
      "text/plain": [
       "       building_id  damage_grade\n",
       "0           300051             3\n",
       "1            99355             2\n",
       "2           890251             2\n",
       "3           745817             1\n",
       "4           421793             3\n",
       "...            ...           ...\n",
       "86863       310028             2\n",
       "86864       663567             3\n",
       "86865      1049160             2\n",
       "86866       442785             2\n",
       "86867       501372             1\n",
       "\n",
       "[86868 rows x 2 columns]"
      ]
     },
     "execution_count": 134,
     "metadata": {},
     "output_type": "execute_result"
    }
   ],
   "source": [
    "pred_df = pd.DataFrame(test['building_id'])\n",
    "pred_df.loc[:,'damage_grade'] = y_test + 1\n",
    "pred_df"
   ]
  },
  {
   "cell_type": "code",
   "execution_count": 135,
   "id": "95a1c6e5",
   "metadata": {},
   "outputs": [],
   "source": [
    "pred_df.to_csv('Predictions/knn_basic.csv',index=False)"
   ]
  },
  {
   "cell_type": "markdown",
   "id": "703b4e95",
   "metadata": {},
   "source": [
    "### Neural Networks"
   ]
  },
  {
   "cell_type": "code",
   "execution_count": 136,
   "id": "f56a59b2",
   "metadata": {},
   "outputs": [],
   "source": [
    "from keras.models import Sequential\n",
    "from keras.layers import Dense\n",
    "from keras.wrappers.scikit_learn import KerasClassifier\n",
    "from keras.utils import np_utils\n",
    "from tensorflow.keras.layers import Input, InputLayer"
   ]
  },
  {
   "cell_type": "code",
   "execution_count": 137,
   "id": "e1092e3e",
   "metadata": {},
   "outputs": [],
   "source": [
    "X_train = train_lbl_selected_fts.copy()\n",
    "X_train.drop(columns = ['building_id', 'damage_grade'], inplace = True)\n",
    "\n",
    "X_test = test_selected_fts.copy()\n",
    "X_test.drop(columns = ['building_id'], inplace = True)\n",
    "\n",
    "y_train = train_lbl_selected_fts.iloc[:, -1] - 1 # substract 1 to normalize labels to range [0, 2]\n",
    "y_train = list(y_train)\n",
    "\n",
    "X_train1, X_val, y_train1, y_val = train_test_split(X_train, y_train, test_size = 0.3)"
   ]
  },
  {
   "cell_type": "code",
   "execution_count": 139,
   "id": "2fcba549",
   "metadata": {},
   "outputs": [],
   "source": [
    "from sklearn.preprocessing import LabelEncoder\n",
    "# encode class values as integers\n",
    "encoder = LabelEncoder()\n",
    "encoder.fit(y_train)\n",
    "encoded_y_train = encoder.transform(y_train)\n",
    "# convert integers to dummy variables (i.e. one hot encoded)\n",
    "dummy_y_train = np_utils.to_categorical(encoded_y_train)\n",
    "\n",
    "# same for train_test_split\n",
    "encoder.fit(y_train1)\n",
    "encoded_y_train1 = encoder.transform(y_train1)\n",
    "dummy_y_train1 = np_utils.to_categorical(encoded_y_train1)\n",
    "\n",
    "encoder.fit(y_val)\n",
    "encoded_y_val = encoder.transform(y_val)\n",
    "dummy_y_val = np_utils.to_categorical(encoded_y_val)"
   ]
  },
  {
   "cell_type": "code",
   "execution_count": 141,
   "id": "2dd6c6e2",
   "metadata": {},
   "outputs": [
    {
     "name": "stdout",
     "output_type": "stream",
     "text": [
      "[[0. 0. 1.]\n",
      " [0. 1. 0.]\n",
      " [0. 0. 1.]\n",
      " ...\n",
      " [0. 0. 1.]\n",
      " [0. 1. 0.]\n",
      " [0. 0. 1.]]\n"
     ]
    }
   ],
   "source": [
    "print(dummy_y_train)"
   ]
  },
  {
   "cell_type": "code",
   "execution_count": 142,
   "id": "45df7748",
   "metadata": {},
   "outputs": [],
   "source": [
    "def neural_network(inp_dim):\n",
    "    model = Sequential()\n",
    "    model.add(InputLayer(input_shape = inp_dim))\n",
    "    model.add(Dense(50, input_dim=inp_dim, activation='relu'))\n",
    "    model.add(Dense(3, activation='softmax'))\n",
    "    model.compile(loss='categorical_crossentropy', optimizer='adam', metrics=['categorical_accuracy'])\n",
    "    return model"
   ]
  },
  {
   "cell_type": "code",
   "execution_count": 143,
   "id": "7d96cd3d",
   "metadata": {},
   "outputs": [
    {
     "name": "stdout",
     "output_type": "stream",
     "text": [
      "Model: \"sequential\"\n",
      "_________________________________________________________________\n",
      " Layer (type)                Output Shape              Param #   \n",
      "=================================================================\n",
      " dense (Dense)               (None, 50)                2700      \n",
      "                                                                 \n",
      " dense_1 (Dense)             (None, 3)                 153       \n",
      "                                                                 \n",
      "=================================================================\n",
      "Total params: 2,853\n",
      "Trainable params: 2,853\n",
      "Non-trainable params: 0\n",
      "_________________________________________________________________\n"
     ]
    }
   ],
   "source": [
    "nn_model = neural_network(X_train.shape[1])\n",
    "nn_model.summary()"
   ]
  },
  {
   "cell_type": "code",
   "execution_count": 145,
   "id": "6d38f52e",
   "metadata": {
    "scrolled": true
   },
   "outputs": [
    {
     "name": "stdout",
     "output_type": "stream",
     "text": [
      "Epoch 1/200\n",
      "3649/3649 [==============================] - 2s 486us/step - loss: 0.6235 - categorical_accuracy: 0.7238\n",
      "Epoch 2/200\n",
      "3649/3649 [==============================] - 2s 486us/step - loss: 0.6263 - categorical_accuracy: 0.7218\n",
      "Epoch 3/200\n",
      "3649/3649 [==============================] - 2s 485us/step - loss: 0.6264 - categorical_accuracy: 0.7217\n",
      "Epoch 4/200\n",
      "3649/3649 [==============================] - 2s 492us/step - loss: 0.6246 - categorical_accuracy: 0.7229\n",
      "Epoch 5/200\n",
      "3649/3649 [==============================] - 2s 485us/step - loss: 0.6263 - categorical_accuracy: 0.7224\n",
      "Epoch 6/200\n",
      "3649/3649 [==============================] - 2s 480us/step - loss: 0.6238 - categorical_accuracy: 0.7240\n",
      "Epoch 7/200\n",
      "3649/3649 [==============================] - 2s 478us/step - loss: 0.6231 - categorical_accuracy: 0.7238\n",
      "Epoch 8/200\n",
      "3649/3649 [==============================] - 2s 481us/step - loss: 0.6257 - categorical_accuracy: 0.7240\n",
      "Epoch 9/200\n",
      "3649/3649 [==============================] - 2s 479us/step - loss: 0.6242 - categorical_accuracy: 0.7239\n",
      "Epoch 10/200\n",
      "3649/3649 [==============================] - 2s 478us/step - loss: 0.6244 - categorical_accuracy: 0.7237\n",
      "Epoch 11/200\n",
      "3649/3649 [==============================] - 2s 483us/step - loss: 0.6243 - categorical_accuracy: 0.7238\n",
      "Epoch 12/200\n",
      "3649/3649 [==============================] - 2s 478us/step - loss: 0.6248 - categorical_accuracy: 0.7230\n",
      "Epoch 13/200\n",
      "3649/3649 [==============================] - 2s 480us/step - loss: 0.6261 - categorical_accuracy: 0.7230\n",
      "Epoch 14/200\n",
      "3649/3649 [==============================] - 2s 481us/step - loss: 0.6205 - categorical_accuracy: 0.7263\n",
      "Epoch 15/200\n",
      "3649/3649 [==============================] - 2s 482us/step - loss: 0.6249 - categorical_accuracy: 0.7234\n",
      "Epoch 16/200\n",
      "3649/3649 [==============================] - 2s 483us/step - loss: 0.6221 - categorical_accuracy: 0.7253\n",
      "Epoch 17/200\n",
      "3649/3649 [==============================] - 2s 481us/step - loss: 0.6238 - categorical_accuracy: 0.7241\n",
      "Epoch 18/200\n",
      "3649/3649 [==============================] - 2s 481us/step - loss: 0.6210 - categorical_accuracy: 0.7251\n",
      "Epoch 19/200\n",
      "3649/3649 [==============================] - 2s 482us/step - loss: 0.6197 - categorical_accuracy: 0.7264\n",
      "Epoch 20/200\n",
      "3649/3649 [==============================] - 2s 478us/step - loss: 0.6223 - categorical_accuracy: 0.7247\n",
      "Epoch 21/200\n",
      "3649/3649 [==============================] - 2s 482us/step - loss: 0.6216 - categorical_accuracy: 0.7245\n",
      "Epoch 22/200\n",
      "3649/3649 [==============================] - 2s 479us/step - loss: 0.6236 - categorical_accuracy: 0.7243\n",
      "Epoch 23/200\n",
      "3649/3649 [==============================] - 2s 478us/step - loss: 0.6199 - categorical_accuracy: 0.7256\n",
      "Epoch 24/200\n",
      "3649/3649 [==============================] - 2s 480us/step - loss: 0.6201 - categorical_accuracy: 0.7258\n",
      "Epoch 25/200\n",
      "3649/3649 [==============================] - 2s 477us/step - loss: 0.6203 - categorical_accuracy: 0.7265\n",
      "Epoch 26/200\n",
      "3649/3649 [==============================] - 2s 479us/step - loss: 0.6213 - categorical_accuracy: 0.7255\n",
      "Epoch 27/200\n",
      "3649/3649 [==============================] - 2s 481us/step - loss: 0.6192 - categorical_accuracy: 0.7263\n",
      "Epoch 28/200\n",
      "3649/3649 [==============================] - 2s 480us/step - loss: 0.6222 - categorical_accuracy: 0.7248\n",
      "Epoch 29/200\n",
      "3649/3649 [==============================] - 2s 481us/step - loss: 0.6191 - categorical_accuracy: 0.7270\n",
      "Epoch 30/200\n",
      "3649/3649 [==============================] - 2s 479us/step - loss: 0.6181 - categorical_accuracy: 0.7273\n",
      "Epoch 31/200\n",
      "3649/3649 [==============================] - 2s 478us/step - loss: 0.6188 - categorical_accuracy: 0.7266\n",
      "Epoch 32/200\n",
      "3649/3649 [==============================] - 2s 478us/step - loss: 0.6178 - categorical_accuracy: 0.7270\n",
      "Epoch 33/200\n",
      "3649/3649 [==============================] - 2s 480us/step - loss: 0.6179 - categorical_accuracy: 0.7277\n",
      "Epoch 34/200\n",
      "3649/3649 [==============================] - 2s 483us/step - loss: 0.6214 - categorical_accuracy: 0.7248\n",
      "Epoch 35/200\n",
      "3649/3649 [==============================] - 2s 481us/step - loss: 0.6171 - categorical_accuracy: 0.7283\n",
      "Epoch 36/200\n",
      "3649/3649 [==============================] - 2s 481us/step - loss: 0.6183 - categorical_accuracy: 0.7279\n",
      "Epoch 37/200\n",
      "3649/3649 [==============================] - 2s 481us/step - loss: 0.6185 - categorical_accuracy: 0.7267\n",
      "Epoch 38/200\n",
      "3649/3649 [==============================] - 2s 483us/step - loss: 0.6174 - categorical_accuracy: 0.7270\n",
      "Epoch 39/200\n",
      "3649/3649 [==============================] - 2s 481us/step - loss: 0.6168 - categorical_accuracy: 0.7279\n",
      "Epoch 40/200\n",
      "3649/3649 [==============================] - 2s 484us/step - loss: 0.6156 - categorical_accuracy: 0.7280\n",
      "Epoch 41/200\n",
      "3649/3649 [==============================] - 2s 482us/step - loss: 0.6172 - categorical_accuracy: 0.7280\n",
      "Epoch 42/200\n",
      "3649/3649 [==============================] - 2s 484us/step - loss: 0.6208 - categorical_accuracy: 0.7255\n",
      "Epoch 43/200\n",
      "3649/3649 [==============================] - 2s 485us/step - loss: 0.6196 - categorical_accuracy: 0.7264\n",
      "Epoch 44/200\n",
      "3649/3649 [==============================] - 2s 488us/step - loss: 0.6173 - categorical_accuracy: 0.7283\n",
      "Epoch 45/200\n",
      "3649/3649 [==============================] - 2s 481us/step - loss: 0.6130 - categorical_accuracy: 0.7294\n",
      "Epoch 46/200\n",
      "3649/3649 [==============================] - 2s 483us/step - loss: 0.6161 - categorical_accuracy: 0.7282\n",
      "Epoch 47/200\n",
      "3649/3649 [==============================] - 2s 486us/step - loss: 0.6157 - categorical_accuracy: 0.7281\n",
      "Epoch 48/200\n",
      "3649/3649 [==============================] - 2s 483us/step - loss: 0.6166 - categorical_accuracy: 0.7274\n",
      "Epoch 49/200\n",
      "3649/3649 [==============================] - 2s 481us/step - loss: 0.6164 - categorical_accuracy: 0.7283\n",
      "Epoch 50/200\n",
      "3649/3649 [==============================] - 2s 480us/step - loss: 0.6169 - categorical_accuracy: 0.7281\n",
      "Epoch 51/200\n",
      "3649/3649 [==============================] - 2s 479us/step - loss: 0.6166 - categorical_accuracy: 0.7286\n",
      "Epoch 52/200\n",
      "3649/3649 [==============================] - 2s 479us/step - loss: 0.6181 - categorical_accuracy: 0.7267\n",
      "Epoch 53/200\n",
      "3649/3649 [==============================] - 2s 487us/step - loss: 0.6177 - categorical_accuracy: 0.7274\n",
      "Epoch 54/200\n",
      "3649/3649 [==============================] - 2s 485us/step - loss: 0.6166 - categorical_accuracy: 0.7285\n",
      "Epoch 55/200\n",
      "3649/3649 [==============================] - 2s 478us/step - loss: 0.6156 - categorical_accuracy: 0.7282\n",
      "Epoch 56/200\n",
      "3649/3649 [==============================] - 2s 486us/step - loss: 0.6157 - categorical_accuracy: 0.7289\n",
      "Epoch 57/200\n",
      "3649/3649 [==============================] - 2s 479us/step - loss: 0.6169 - categorical_accuracy: 0.7271\n",
      "Epoch 58/200\n",
      "3649/3649 [==============================] - 2s 485us/step - loss: 0.6186 - categorical_accuracy: 0.7268\n",
      "Epoch 59/200\n",
      "3649/3649 [==============================] - 2s 481us/step - loss: 0.6159 - categorical_accuracy: 0.7284\n",
      "Epoch 60/200\n",
      "3649/3649 [==============================] - 2s 482us/step - loss: 0.6148 - categorical_accuracy: 0.7289\n",
      "Epoch 61/200\n",
      "3649/3649 [==============================] - 2s 482us/step - loss: 0.6147 - categorical_accuracy: 0.7286\n",
      "Epoch 62/200\n",
      "3649/3649 [==============================] - 2s 478us/step - loss: 0.6156 - categorical_accuracy: 0.7287\n",
      "Epoch 63/200\n",
      "3649/3649 [==============================] - 2s 480us/step - loss: 0.6135 - categorical_accuracy: 0.7298\n",
      "Epoch 64/200\n",
      "3649/3649 [==============================] - 2s 484us/step - loss: 0.6177 - categorical_accuracy: 0.7271\n",
      "Epoch 65/200\n",
      "3649/3649 [==============================] - 2s 482us/step - loss: 0.6173 - categorical_accuracy: 0.7274\n",
      "Epoch 66/200\n",
      "3649/3649 [==============================] - 2s 481us/step - loss: 0.6141 - categorical_accuracy: 0.7288\n",
      "Epoch 67/200\n",
      "3649/3649 [==============================] - 2s 481us/step - loss: 0.6144 - categorical_accuracy: 0.7285\n",
      "Epoch 68/200\n",
      "3649/3649 [==============================] - 2s 483us/step - loss: 0.6150 - categorical_accuracy: 0.7282\n",
      "Epoch 69/200\n",
      "3649/3649 [==============================] - 2s 484us/step - loss: 0.6145 - categorical_accuracy: 0.7292\n",
      "Epoch 70/200\n",
      "3649/3649 [==============================] - 2s 484us/step - loss: 0.6146 - categorical_accuracy: 0.7287\n",
      "Epoch 71/200\n",
      "3649/3649 [==============================] - 2s 494us/step - loss: 0.6120 - categorical_accuracy: 0.7297\n",
      "Epoch 72/200\n",
      "3649/3649 [==============================] - 2s 488us/step - loss: 0.6121 - categorical_accuracy: 0.7311\n",
      "Epoch 73/200\n",
      "3649/3649 [==============================] - 2s 489us/step - loss: 0.6131 - categorical_accuracy: 0.7308\n",
      "Epoch 74/200\n",
      "3649/3649 [==============================] - 2s 486us/step - loss: 0.6134 - categorical_accuracy: 0.7285\n",
      "Epoch 75/200\n",
      "3649/3649 [==============================] - 2s 485us/step - loss: 0.6145 - categorical_accuracy: 0.7290\n",
      "Epoch 76/200\n",
      "3649/3649 [==============================] - 2s 487us/step - loss: 0.6123 - categorical_accuracy: 0.7305\n",
      "Epoch 77/200\n",
      "3649/3649 [==============================] - 2s 486us/step - loss: 0.6113 - categorical_accuracy: 0.7305\n",
      "Epoch 78/200\n",
      "3649/3649 [==============================] - 2s 491us/step - loss: 0.6159 - categorical_accuracy: 0.7284\n",
      "Epoch 79/200\n",
      "3649/3649 [==============================] - 2s 485us/step - loss: 0.6134 - categorical_accuracy: 0.7304\n",
      "Epoch 80/200\n",
      "3649/3649 [==============================] - 2s 487us/step - loss: 0.6115 - categorical_accuracy: 0.7312\n",
      "Epoch 81/200\n",
      "3649/3649 [==============================] - 2s 482us/step - loss: 0.6119 - categorical_accuracy: 0.7302\n",
      "Epoch 82/200\n",
      "3649/3649 [==============================] - 2s 482us/step - loss: 0.6120 - categorical_accuracy: 0.7295\n",
      "Epoch 83/200\n",
      "3649/3649 [==============================] - 2s 477us/step - loss: 0.6112 - categorical_accuracy: 0.7304\n",
      "Epoch 84/200\n",
      "3649/3649 [==============================] - 2s 479us/step - loss: 0.6132 - categorical_accuracy: 0.7297\n",
      "Epoch 85/200\n",
      "3649/3649 [==============================] - 2s 484us/step - loss: 0.6132 - categorical_accuracy: 0.7298\n",
      "Epoch 86/200\n",
      "3649/3649 [==============================] - 2s 481us/step - loss: 0.6122 - categorical_accuracy: 0.7294\n",
      "Epoch 87/200\n",
      "3649/3649 [==============================] - 2s 482us/step - loss: 0.6135 - categorical_accuracy: 0.7292\n",
      "Epoch 88/200\n",
      "3649/3649 [==============================] - 2s 484us/step - loss: 0.6106 - categorical_accuracy: 0.7302\n",
      "Epoch 89/200\n",
      "3649/3649 [==============================] - 2s 484us/step - loss: 0.6109 - categorical_accuracy: 0.7309\n",
      "Epoch 90/200\n",
      "3649/3649 [==============================] - 2s 486us/step - loss: 0.6104 - categorical_accuracy: 0.7310\n",
      "Epoch 91/200\n",
      "3649/3649 [==============================] - 2s 490us/step - loss: 0.6098 - categorical_accuracy: 0.7316\n",
      "Epoch 92/200\n",
      "3649/3649 [==============================] - 2s 490us/step - loss: 0.6104 - categorical_accuracy: 0.7310\n",
      "Epoch 93/200\n",
      "3649/3649 [==============================] - 2s 489us/step - loss: 0.6118 - categorical_accuracy: 0.7301\n",
      "Epoch 94/200\n",
      "3649/3649 [==============================] - 2s 495us/step - loss: 0.6098 - categorical_accuracy: 0.7308\n",
      "Epoch 95/200\n",
      "3649/3649 [==============================] - 2s 489us/step - loss: 0.6109 - categorical_accuracy: 0.7312\n",
      "Epoch 96/200\n",
      "3649/3649 [==============================] - 2s 490us/step - loss: 0.6126 - categorical_accuracy: 0.7294\n",
      "Epoch 97/200\n",
      "3649/3649 [==============================] - 2s 489us/step - loss: 0.6133 - categorical_accuracy: 0.7301\n",
      "Epoch 98/200\n",
      "3649/3649 [==============================] - 2s 488us/step - loss: 0.6116 - categorical_accuracy: 0.7315\n",
      "Epoch 99/200\n",
      "3649/3649 [==============================] - 2s 488us/step - loss: 0.6107 - categorical_accuracy: 0.7308\n",
      "Epoch 100/200\n",
      "3649/3649 [==============================] - 2s 490us/step - loss: 0.6121 - categorical_accuracy: 0.7301\n",
      "Epoch 101/200\n",
      "3649/3649 [==============================] - 2s 491us/step - loss: 0.6113 - categorical_accuracy: 0.7303\n",
      "Epoch 102/200\n",
      "3649/3649 [==============================] - 2s 493us/step - loss: 0.6106 - categorical_accuracy: 0.7318\n",
      "Epoch 103/200\n",
      "3649/3649 [==============================] - 2s 496us/step - loss: 0.6107 - categorical_accuracy: 0.7314\n",
      "Epoch 104/200\n",
      "3649/3649 [==============================] - 2s 491us/step - loss: 0.6109 - categorical_accuracy: 0.7306\n",
      "Epoch 105/200\n",
      "3649/3649 [==============================] - 2s 489us/step - loss: 0.6111 - categorical_accuracy: 0.7302\n",
      "Epoch 106/200\n",
      "3649/3649 [==============================] - 2s 489us/step - loss: 0.6110 - categorical_accuracy: 0.7312\n",
      "Epoch 107/200\n",
      "3649/3649 [==============================] - 2s 490us/step - loss: 0.6107 - categorical_accuracy: 0.7304\n",
      "Epoch 108/200\n",
      "3649/3649 [==============================] - 2s 489us/step - loss: 0.6111 - categorical_accuracy: 0.7298\n",
      "Epoch 109/200\n",
      "3649/3649 [==============================] - 2s 486us/step - loss: 0.6093 - categorical_accuracy: 0.7320\n",
      "Epoch 110/200\n",
      "3649/3649 [==============================] - 2s 484us/step - loss: 0.6111 - categorical_accuracy: 0.7316\n",
      "Epoch 111/200\n",
      "3649/3649 [==============================] - 2s 484us/step - loss: 0.6094 - categorical_accuracy: 0.7327\n",
      "Epoch 112/200\n",
      "3649/3649 [==============================] - 2s 486us/step - loss: 0.6083 - categorical_accuracy: 0.7323\n",
      "Epoch 113/200\n",
      "3649/3649 [==============================] - 2s 487us/step - loss: 0.6082 - categorical_accuracy: 0.7321\n",
      "Epoch 114/200\n",
      "3649/3649 [==============================] - 2s 485us/step - loss: 0.6094 - categorical_accuracy: 0.7311\n",
      "Epoch 115/200\n",
      "3649/3649 [==============================] - 2s 489us/step - loss: 0.6096 - categorical_accuracy: 0.7316\n",
      "Epoch 116/200\n",
      "3649/3649 [==============================] - 2s 486us/step - loss: 0.6111 - categorical_accuracy: 0.7301\n",
      "Epoch 117/200\n",
      "3649/3649 [==============================] - 2s 486us/step - loss: 0.6081 - categorical_accuracy: 0.7307\n",
      "Epoch 118/200\n",
      "3649/3649 [==============================] - 2s 485us/step - loss: 0.6094 - categorical_accuracy: 0.7319\n",
      "Epoch 119/200\n",
      "3649/3649 [==============================] - 2s 486us/step - loss: 0.6096 - categorical_accuracy: 0.7311\n",
      "Epoch 120/200\n",
      "3649/3649 [==============================] - 2s 486us/step - loss: 0.6083 - categorical_accuracy: 0.7316\n",
      "Epoch 121/200\n",
      "3649/3649 [==============================] - 2s 485us/step - loss: 0.6114 - categorical_accuracy: 0.7306\n",
      "Epoch 122/200\n",
      "3649/3649 [==============================] - 2s 486us/step - loss: 0.6089 - categorical_accuracy: 0.7311\n",
      "Epoch 123/200\n",
      "3649/3649 [==============================] - 2s 483us/step - loss: 0.6072 - categorical_accuracy: 0.7312\n",
      "Epoch 124/200\n",
      "3649/3649 [==============================] - 2s 483us/step - loss: 0.6093 - categorical_accuracy: 0.7312\n",
      "Epoch 125/200\n",
      "3649/3649 [==============================] - 2s 487us/step - loss: 0.6081 - categorical_accuracy: 0.7311\n",
      "Epoch 126/200\n",
      "3649/3649 [==============================] - 2s 486us/step - loss: 0.6105 - categorical_accuracy: 0.7306\n",
      "Epoch 127/200\n",
      "3649/3649 [==============================] - 2s 486us/step - loss: 0.6092 - categorical_accuracy: 0.7304\n",
      "Epoch 128/200\n",
      "3649/3649 [==============================] - 2s 488us/step - loss: 0.6088 - categorical_accuracy: 0.7305\n",
      "Epoch 129/200\n",
      "3649/3649 [==============================] - 2s 488us/step - loss: 0.6097 - categorical_accuracy: 0.7314\n",
      "Epoch 130/200\n",
      "3649/3649 [==============================] - 2s 489us/step - loss: 0.6087 - categorical_accuracy: 0.7318\n",
      "Epoch 131/200\n",
      "3649/3649 [==============================] - 2s 491us/step - loss: 0.6083 - categorical_accuracy: 0.7318\n",
      "Epoch 132/200\n",
      "3649/3649 [==============================] - 2s 487us/step - loss: 0.6080 - categorical_accuracy: 0.7315\n",
      "Epoch 133/200\n",
      "3649/3649 [==============================] - 2s 489us/step - loss: 0.6068 - categorical_accuracy: 0.7322\n",
      "Epoch 134/200\n",
      "3649/3649 [==============================] - 2s 486us/step - loss: 0.6089 - categorical_accuracy: 0.7313\n",
      "Epoch 135/200\n",
      "3649/3649 [==============================] - 2s 487us/step - loss: 0.6095 - categorical_accuracy: 0.7310\n",
      "Epoch 136/200\n",
      "3649/3649 [==============================] - 2s 487us/step - loss: 0.6101 - categorical_accuracy: 0.7309\n",
      "Epoch 137/200\n",
      "3649/3649 [==============================] - 2s 486us/step - loss: 0.6069 - categorical_accuracy: 0.7329\n",
      "Epoch 138/200\n",
      "3649/3649 [==============================] - 2s 486us/step - loss: 0.6091 - categorical_accuracy: 0.7311\n",
      "Epoch 139/200\n"
     ]
    },
    {
     "name": "stdout",
     "output_type": "stream",
     "text": [
      "3649/3649 [==============================] - 2s 485us/step - loss: 0.6068 - categorical_accuracy: 0.7323\n",
      "Epoch 140/200\n",
      "3649/3649 [==============================] - 2s 485us/step - loss: 0.6079 - categorical_accuracy: 0.7316\n",
      "Epoch 141/200\n",
      "3649/3649 [==============================] - 2s 484us/step - loss: 0.6086 - categorical_accuracy: 0.7315\n",
      "Epoch 142/200\n",
      "3649/3649 [==============================] - 2s 489us/step - loss: 0.6089 - categorical_accuracy: 0.7309\n",
      "Epoch 143/200\n",
      "3649/3649 [==============================] - 2s 486us/step - loss: 0.6085 - categorical_accuracy: 0.7314\n",
      "Epoch 144/200\n",
      "3649/3649 [==============================] - 2s 486us/step - loss: 0.6063 - categorical_accuracy: 0.7323\n",
      "Epoch 145/200\n",
      "3649/3649 [==============================] - 2s 483us/step - loss: 0.6080 - categorical_accuracy: 0.7332\n",
      "Epoch 146/200\n",
      "3649/3649 [==============================] - 2s 484us/step - loss: 0.6095 - categorical_accuracy: 0.7316\n",
      "Epoch 147/200\n",
      "3649/3649 [==============================] - 2s 485us/step - loss: 0.6078 - categorical_accuracy: 0.7318\n",
      "Epoch 148/200\n",
      "3649/3649 [==============================] - 2s 486us/step - loss: 0.6066 - categorical_accuracy: 0.7318\n",
      "Epoch 149/200\n",
      "3649/3649 [==============================] - 2s 486us/step - loss: 0.6071 - categorical_accuracy: 0.7320\n",
      "Epoch 150/200\n",
      "3649/3649 [==============================] - 2s 486us/step - loss: 0.6063 - categorical_accuracy: 0.7325\n",
      "Epoch 151/200\n",
      "3649/3649 [==============================] - 2s 487us/step - loss: 0.6090 - categorical_accuracy: 0.7319\n",
      "Epoch 152/200\n",
      "3649/3649 [==============================] - 2s 486us/step - loss: 0.6060 - categorical_accuracy: 0.7323\n",
      "Epoch 153/200\n",
      "3649/3649 [==============================] - 2s 486us/step - loss: 0.6066 - categorical_accuracy: 0.7324\n",
      "Epoch 154/200\n",
      "3649/3649 [==============================] - 2s 486us/step - loss: 0.6060 - categorical_accuracy: 0.7327\n",
      "Epoch 155/200\n",
      "3649/3649 [==============================] - 2s 487us/step - loss: 0.6086 - categorical_accuracy: 0.7306\n",
      "Epoch 156/200\n",
      "3649/3649 [==============================] - 2s 493us/step - loss: 0.6073 - categorical_accuracy: 0.7323\n",
      "Epoch 157/200\n",
      "3649/3649 [==============================] - 2s 498us/step - loss: 0.6090 - categorical_accuracy: 0.7313\n",
      "Epoch 158/200\n",
      "3649/3649 [==============================] - 2s 490us/step - loss: 0.6061 - categorical_accuracy: 0.7334\n",
      "Epoch 159/200\n",
      "3649/3649 [==============================] - 2s 489us/step - loss: 0.6055 - categorical_accuracy: 0.7337\n",
      "Epoch 160/200\n",
      "3649/3649 [==============================] - 2s 485us/step - loss: 0.6088 - categorical_accuracy: 0.7314\n",
      "Epoch 161/200\n",
      "3649/3649 [==============================] - 2s 486us/step - loss: 0.6075 - categorical_accuracy: 0.7318\n",
      "Epoch 162/200\n",
      "3649/3649 [==============================] - 2s 490us/step - loss: 0.6064 - categorical_accuracy: 0.7321\n",
      "Epoch 163/200\n",
      "3649/3649 [==============================] - 2s 492us/step - loss: 0.6084 - categorical_accuracy: 0.7312\n",
      "Epoch 164/200\n",
      "3649/3649 [==============================] - 2s 486us/step - loss: 0.6067 - categorical_accuracy: 0.7323\n",
      "Epoch 165/200\n",
      "3649/3649 [==============================] - 2s 486us/step - loss: 0.6079 - categorical_accuracy: 0.7317\n",
      "Epoch 166/200\n",
      "3649/3649 [==============================] - 2s 486us/step - loss: 0.6083 - categorical_accuracy: 0.7316\n",
      "Epoch 167/200\n",
      "3649/3649 [==============================] - 2s 486us/step - loss: 0.6058 - categorical_accuracy: 0.7340\n",
      "Epoch 168/200\n",
      "3649/3649 [==============================] - 2s 488us/step - loss: 0.6060 - categorical_accuracy: 0.7327\n",
      "Epoch 169/200\n",
      "3649/3649 [==============================] - 2s 486us/step - loss: 0.6061 - categorical_accuracy: 0.7327\n",
      "Epoch 170/200\n",
      "3649/3649 [==============================] - 2s 487us/step - loss: 0.6045 - categorical_accuracy: 0.7329\n",
      "Epoch 171/200\n",
      "3649/3649 [==============================] - 2s 485us/step - loss: 0.6051 - categorical_accuracy: 0.7335\n",
      "Epoch 172/200\n",
      "3649/3649 [==============================] - 2s 487us/step - loss: 0.6076 - categorical_accuracy: 0.7323\n",
      "Epoch 173/200\n",
      "3649/3649 [==============================] - 2s 486us/step - loss: 0.6041 - categorical_accuracy: 0.7335\n",
      "Epoch 174/200\n",
      "3649/3649 [==============================] - 2s 483us/step - loss: 0.6077 - categorical_accuracy: 0.7321\n",
      "Epoch 175/200\n",
      "3649/3649 [==============================] - 2s 487us/step - loss: 0.6049 - categorical_accuracy: 0.7334\n",
      "Epoch 176/200\n",
      "3649/3649 [==============================] - 2s 489us/step - loss: 0.6058 - categorical_accuracy: 0.7326\n",
      "Epoch 177/200\n",
      "3649/3649 [==============================] - 2s 491us/step - loss: 0.6057 - categorical_accuracy: 0.7331\n",
      "Epoch 178/200\n",
      "3649/3649 [==============================] - 2s 490us/step - loss: 0.6060 - categorical_accuracy: 0.7316\n",
      "Epoch 179/200\n",
      "3649/3649 [==============================] - 2s 490us/step - loss: 0.6053 - categorical_accuracy: 0.7329\n",
      "Epoch 180/200\n",
      "3649/3649 [==============================] - 2s 490us/step - loss: 0.6051 - categorical_accuracy: 0.7327\n",
      "Epoch 181/200\n",
      "3649/3649 [==============================] - 2s 488us/step - loss: 0.6081 - categorical_accuracy: 0.7317\n",
      "Epoch 182/200\n",
      "3649/3649 [==============================] - 2s 487us/step - loss: 0.6054 - categorical_accuracy: 0.7323\n",
      "Epoch 183/200\n",
      "3649/3649 [==============================] - 2s 482us/step - loss: 0.6087 - categorical_accuracy: 0.7319\n",
      "Epoch 184/200\n",
      "3649/3649 [==============================] - 2s 485us/step - loss: 0.6073 - categorical_accuracy: 0.7325\n",
      "Epoch 185/200\n",
      "3649/3649 [==============================] - 2s 487us/step - loss: 0.6055 - categorical_accuracy: 0.7321\n",
      "Epoch 186/200\n",
      "3649/3649 [==============================] - 2s 486us/step - loss: 0.6041 - categorical_accuracy: 0.7331\n",
      "Epoch 187/200\n",
      "3649/3649 [==============================] - 2s 489us/step - loss: 0.6048 - categorical_accuracy: 0.7326\n",
      "Epoch 188/200\n",
      "3649/3649 [==============================] - 2s 483us/step - loss: 0.6059 - categorical_accuracy: 0.7326\n",
      "Epoch 189/200\n",
      "3649/3649 [==============================] - 2s 482us/step - loss: 0.6041 - categorical_accuracy: 0.7342\n",
      "Epoch 190/200\n",
      "3649/3649 [==============================] - 2s 487us/step - loss: 0.6057 - categorical_accuracy: 0.7330\n",
      "Epoch 191/200\n",
      "3649/3649 [==============================] - 2s 485us/step - loss: 0.6076 - categorical_accuracy: 0.7321\n",
      "Epoch 192/200\n",
      "3649/3649 [==============================] - 2s 487us/step - loss: 0.6032 - categorical_accuracy: 0.7345\n",
      "Epoch 193/200\n",
      "3649/3649 [==============================] - 2s 485us/step - loss: 0.6065 - categorical_accuracy: 0.7330\n",
      "Epoch 194/200\n",
      "3649/3649 [==============================] - 2s 486us/step - loss: 0.6039 - categorical_accuracy: 0.7328\n",
      "Epoch 195/200\n",
      "3649/3649 [==============================] - 2s 482us/step - loss: 0.6046 - categorical_accuracy: 0.7326\n",
      "Epoch 196/200\n",
      "3649/3649 [==============================] - 2s 488us/step - loss: 0.6066 - categorical_accuracy: 0.7323\n",
      "Epoch 197/200\n",
      "3649/3649 [==============================] - 2s 486us/step - loss: 0.6031 - categorical_accuracy: 0.7340\n",
      "Epoch 198/200\n",
      "3649/3649 [==============================] - 2s 489us/step - loss: 0.6038 - categorical_accuracy: 0.7336\n",
      "Epoch 199/200\n",
      "3649/3649 [==============================] - 2s 489us/step - loss: 0.6053 - categorical_accuracy: 0.7332\n",
      "Epoch 200/200\n",
      "3649/3649 [==============================] - 2s 487us/step - loss: 0.6028 - categorical_accuracy: 0.7340\n"
     ]
    },
    {
     "data": {
      "text/plain": [
       "<keras.callbacks.History at 0x1bad446fa00>"
      ]
     },
     "execution_count": 145,
     "metadata": {},
     "output_type": "execute_result"
    }
   ],
   "source": [
    "nn_model.fit(X_train1, dummy_y_train1, epochs = 200, batch_size = 50, verbose=1)"
   ]
  },
  {
   "cell_type": "code",
   "execution_count": 148,
   "id": "e09bc47c",
   "metadata": {},
   "outputs": [
    {
     "name": "stdout",
     "output_type": "stream",
     "text": [
      "micro f1 cross val: 0.7234750131106024\n"
     ]
    }
   ],
   "source": [
    "y_pred = nn_model.predict(X_val)\n",
    "y_pred = y_pred.argmax(axis=-1)\n",
    "score = f1_score(y_val, y_pred, average = 'micro')\n",
    "print('micro f1 cross val:', score)"
   ]
  },
  {
   "cell_type": "code",
   "execution_count": 149,
   "id": "85d473af",
   "metadata": {},
   "outputs": [
    {
     "name": "stdout",
     "output_type": "stream",
     "text": [
      "              precision    recall  f1-score   support\n",
      "\n",
      "           0       0.58      0.60      0.59      7494\n",
      "           1       0.71      0.88      0.78     44513\n",
      "           2       0.85      0.50      0.63     26174\n",
      "\n",
      "    accuracy                           0.72     78181\n",
      "   macro avg       0.71      0.66      0.67     78181\n",
      "weighted avg       0.74      0.72      0.71     78181\n",
      "\n"
     ]
    }
   ],
   "source": [
    "print(classification_report(y_val, y_pred))"
   ]
  },
  {
   "cell_type": "code",
   "execution_count": 150,
   "id": "479ed019",
   "metadata": {},
   "outputs": [],
   "source": [
    "y_pred = nn_model.predict(X_test)\n",
    "y_pred = y_pred.argmax(axis=-1)"
   ]
  },
  {
   "cell_type": "code",
   "execution_count": 151,
   "id": "53c2b7b8",
   "metadata": {},
   "outputs": [
    {
     "data": {
      "text/html": [
       "<div>\n",
       "<style scoped>\n",
       "    .dataframe tbody tr th:only-of-type {\n",
       "        vertical-align: middle;\n",
       "    }\n",
       "\n",
       "    .dataframe tbody tr th {\n",
       "        vertical-align: top;\n",
       "    }\n",
       "\n",
       "    .dataframe thead th {\n",
       "        text-align: right;\n",
       "    }\n",
       "</style>\n",
       "<table border=\"1\" class=\"dataframe\">\n",
       "  <thead>\n",
       "    <tr style=\"text-align: right;\">\n",
       "      <th></th>\n",
       "      <th>building_id</th>\n",
       "      <th>damage_grade</th>\n",
       "    </tr>\n",
       "  </thead>\n",
       "  <tbody>\n",
       "    <tr>\n",
       "      <th>0</th>\n",
       "      <td>300051</td>\n",
       "      <td>3</td>\n",
       "    </tr>\n",
       "    <tr>\n",
       "      <th>1</th>\n",
       "      <td>99355</td>\n",
       "      <td>2</td>\n",
       "    </tr>\n",
       "    <tr>\n",
       "      <th>2</th>\n",
       "      <td>890251</td>\n",
       "      <td>2</td>\n",
       "    </tr>\n",
       "    <tr>\n",
       "      <th>3</th>\n",
       "      <td>745817</td>\n",
       "      <td>1</td>\n",
       "    </tr>\n",
       "    <tr>\n",
       "      <th>4</th>\n",
       "      <td>421793</td>\n",
       "      <td>3</td>\n",
       "    </tr>\n",
       "    <tr>\n",
       "      <th>...</th>\n",
       "      <td>...</td>\n",
       "      <td>...</td>\n",
       "    </tr>\n",
       "    <tr>\n",
       "      <th>86863</th>\n",
       "      <td>310028</td>\n",
       "      <td>2</td>\n",
       "    </tr>\n",
       "    <tr>\n",
       "      <th>86864</th>\n",
       "      <td>663567</td>\n",
       "      <td>3</td>\n",
       "    </tr>\n",
       "    <tr>\n",
       "      <th>86865</th>\n",
       "      <td>1049160</td>\n",
       "      <td>2</td>\n",
       "    </tr>\n",
       "    <tr>\n",
       "      <th>86866</th>\n",
       "      <td>442785</td>\n",
       "      <td>2</td>\n",
       "    </tr>\n",
       "    <tr>\n",
       "      <th>86867</th>\n",
       "      <td>501372</td>\n",
       "      <td>1</td>\n",
       "    </tr>\n",
       "  </tbody>\n",
       "</table>\n",
       "<p>86868 rows × 2 columns</p>\n",
       "</div>"
      ],
      "text/plain": [
       "       building_id  damage_grade\n",
       "0           300051             3\n",
       "1            99355             2\n",
       "2           890251             2\n",
       "3           745817             1\n",
       "4           421793             3\n",
       "...            ...           ...\n",
       "86863       310028             2\n",
       "86864       663567             3\n",
       "86865      1049160             2\n",
       "86866       442785             2\n",
       "86867       501372             1\n",
       "\n",
       "[86868 rows x 2 columns]"
      ]
     },
     "execution_count": 151,
     "metadata": {},
     "output_type": "execute_result"
    }
   ],
   "source": [
    "pred_df = pd.DataFrame(test['building_id'])\n",
    "pred_df.loc[:,'damage_grade'] = y_test + 1\n",
    "pred_df"
   ]
  },
  {
   "cell_type": "code",
   "execution_count": 152,
   "id": "1b924123",
   "metadata": {},
   "outputs": [],
   "source": [
    "pred_df.to_csv('Predictions/nn_basic.csv',index=False)"
   ]
  },
  {
   "cell_type": "markdown",
   "id": "4b52057c",
   "metadata": {},
   "source": [
    "### Logistic regression"
   ]
  },
  {
   "cell_type": "code",
   "execution_count": 153,
   "id": "43025df4",
   "metadata": {},
   "outputs": [],
   "source": [
    "from sklearn.linear_model import LogisticRegression"
   ]
  },
  {
   "cell_type": "code",
   "execution_count": 154,
   "id": "b3fa78c9",
   "metadata": {},
   "outputs": [],
   "source": [
    "X_train = train_lbl_selected_fts.copy()\n",
    "X_train.drop(columns = ['building_id', 'damage_grade'], inplace = True)\n",
    "\n",
    "X_test = test_selected_fts.copy()\n",
    "X_test.drop(columns = ['building_id'], inplace = True)\n",
    "\n",
    "y_train = train_lbl_selected_fts.iloc[:, -1] - 1 # substract 1 to normalize labels to range [0, 2]\n",
    "y_train = list(y_train)\n",
    "\n",
    "X_train1, X_val, y_train1, y_val = train_test_split(X_train, y_train, test_size = 0.3)"
   ]
  },
  {
   "cell_type": "code",
   "execution_count": 155,
   "id": "7aa3cf5a",
   "metadata": {},
   "outputs": [],
   "source": [
    "lr = LogisticRegression(multi_class = 'multinomial', solver = 'saga', verbose = True, n_jobs = -1, penalty = 'l2')"
   ]
  },
  {
   "cell_type": "markdown",
   "id": "ea6b1d47",
   "metadata": {},
   "source": [
    "In the multiclass case, the training algorithm uses the one-vs-rest (OvR) scheme if the ‘multi_class’ option is set to ‘ovr’, and uses the cross-entropy loss if the ‘multi_class’ option is set to ‘multinomial’. (Currently the ‘multinomial’ option is supported only by the ‘lbfgs’, ‘sag’, ‘saga’ and ‘newton-cg’ solvers.)\n",
    "\n",
    "This class implements regularized logistic regression using the ‘liblinear’ library, ‘newton-cg’, ‘sag’, ‘saga’ and ‘lbfgs’ solvers. Note that regularization is applied by default.\n",
    "\n",
    "saga and sag solvers have fast covergence when used on standarised data, large data sets use saga or sag small data sets use liblinear."
   ]
  },
  {
   "cell_type": "code",
   "execution_count": 156,
   "id": "2286328a",
   "metadata": {},
   "outputs": [
    {
     "name": "stderr",
     "output_type": "stream",
     "text": [
      "[Parallel(n_jobs=-1)]: Using backend ThreadingBackend with 16 concurrent workers.\n"
     ]
    },
    {
     "name": "stdout",
     "output_type": "stream",
     "text": [
      "max_iter reached after 17 seconds\n"
     ]
    },
    {
     "name": "stderr",
     "output_type": "stream",
     "text": [
      "[Parallel(n_jobs=-1)]: Done   1 out of   1 | elapsed:   17.1s finished\n"
     ]
    },
    {
     "data": {
      "text/plain": [
       "LogisticRegression(multi_class='multinomial', n_jobs=-1, solver='saga',\n",
       "                   verbose=True)"
      ]
     },
     "execution_count": 156,
     "metadata": {},
     "output_type": "execute_result"
    }
   ],
   "source": [
    "lr.fit(X_train1, y_train1)"
   ]
  },
  {
   "cell_type": "code",
   "execution_count": 157,
   "id": "0a76774b",
   "metadata": {},
   "outputs": [
    {
     "name": "stdout",
     "output_type": "stream",
     "text": [
      "micro f1 cross val: 0.5661349944359882\n"
     ]
    }
   ],
   "source": [
    "y_pred = lr.predict(X_val)\n",
    "score = f1_score(y_val, y_pred, average = 'micro')\n",
    "print('micro f1 cross val:', score)"
   ]
  },
  {
   "cell_type": "code",
   "execution_count": 158,
   "id": "7b40aa1d",
   "metadata": {},
   "outputs": [
    {
     "name": "stdout",
     "output_type": "stream",
     "text": [
      "              precision    recall  f1-score   support\n",
      "\n",
      "           0       0.50      0.05      0.09      7581\n",
      "           1       0.57      0.99      0.72     44220\n",
      "           2       0.00      0.00      0.00     26380\n",
      "\n",
      "    accuracy                           0.57     78181\n",
      "   macro avg       0.36      0.35      0.27     78181\n",
      "weighted avg       0.37      0.57      0.42     78181\n",
      "\n"
     ]
    }
   ],
   "source": [
    "print(classification_report(y_val, y_pred))"
   ]
  },
  {
   "cell_type": "markdown",
   "id": "edfb8125",
   "metadata": {},
   "source": [
    "The logistic regression model f1 score was very low with 0.57.\n",
    "\n",
    "Other models were performimng considerably good. Consequently, we decided to move with other models."
   ]
  }
 ],
 "metadata": {
  "kernelspec": {
   "display_name": "Python 3",
   "language": "python",
   "name": "python3"
  },
  "language_info": {
   "codemirror_mode": {
    "name": "ipython",
    "version": 3
   },
   "file_extension": ".py",
   "mimetype": "text/x-python",
   "name": "python",
   "nbconvert_exporter": "python",
   "pygments_lexer": "ipython3",
   "version": "3.8.8"
  }
 },
 "nbformat": 4,
 "nbformat_minor": 5
}
